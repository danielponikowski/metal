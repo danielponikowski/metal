{
 "cells": [
  {
   "cell_type": "markdown",
   "metadata": {},
   "source": [
    "## Skrypt uzupełniający braki danych w otrzymanym pliku\n",
    "\n",
    "1) Wczytanie"
   ]
  },
  {
   "cell_type": "code",
   "execution_count": 1,
   "metadata": {},
   "outputs": [
    {
     "data": {
      "text/html": [
       "<div>\n",
       "<style scoped>\n",
       "    .dataframe tbody tr th:only-of-type {\n",
       "        vertical-align: middle;\n",
       "    }\n",
       "\n",
       "    .dataframe tbody tr th {\n",
       "        vertical-align: top;\n",
       "    }\n",
       "\n",
       "    .dataframe thead th {\n",
       "        text-align: right;\n",
       "    }\n",
       "</style>\n",
       "<table border=\"1\" class=\"dataframe\">\n",
       "  <thead>\n",
       "    <tr style=\"text-align: right;\">\n",
       "      <th></th>\n",
       "      <th>Nr źródła</th>\n",
       "      <th>C [%]</th>\n",
       "      <th>Si [%]</th>\n",
       "      <th>S [%]</th>\n",
       "      <th>P [%]</th>\n",
       "      <th>Mg [%]</th>\n",
       "      <th>Mn [%]</th>\n",
       "      <th>Ni [%]</th>\n",
       "      <th>Cu [%]</th>\n",
       "      <th>Mo [%]</th>\n",
       "      <th>...</th>\n",
       "      <th>A5 [%]</th>\n",
       "      <th>Twardość Brinella [HB]</th>\n",
       "      <th>Twardość Rockwella [HRC]</th>\n",
       "      <th>Twardość Rockwella [HRA]</th>\n",
       "      <th>Twardość Rockwella [HRB]</th>\n",
       "      <th>Twardość Vickersa [HV]</th>\n",
       "      <th>Udarność Charpy [J]</th>\n",
       "      <th>Temperatura pomiaru udarności [˚C]</th>\n",
       "      <th>Udział austenitu %</th>\n",
       "      <th>Martensite volume fraction Xα'</th>\n",
       "    </tr>\n",
       "  </thead>\n",
       "  <tbody>\n",
       "    <tr>\n",
       "      <th>0</th>\n",
       "      <td>1</td>\n",
       "      <td>3.4</td>\n",
       "      <td>2.41</td>\n",
       "      <td>0.017</td>\n",
       "      <td>0.015</td>\n",
       "      <td>0.064</td>\n",
       "      <td>0.15</td>\n",
       "      <td>0.001</td>\n",
       "      <td>0.0</td>\n",
       "      <td>0.001</td>\n",
       "      <td>...</td>\n",
       "      <td>NaN</td>\n",
       "      <td>NaN</td>\n",
       "      <td>NaN</td>\n",
       "      <td>NaN</td>\n",
       "      <td>NaN</td>\n",
       "      <td>NaN</td>\n",
       "      <td>NaN</td>\n",
       "      <td>NaN</td>\n",
       "      <td>28.7</td>\n",
       "      <td>NaN</td>\n",
       "    </tr>\n",
       "    <tr>\n",
       "      <th>1</th>\n",
       "      <td>1</td>\n",
       "      <td>3.4</td>\n",
       "      <td>2.41</td>\n",
       "      <td>0.017</td>\n",
       "      <td>0.015</td>\n",
       "      <td>0.064</td>\n",
       "      <td>0.15</td>\n",
       "      <td>0.001</td>\n",
       "      <td>0.0</td>\n",
       "      <td>0.001</td>\n",
       "      <td>...</td>\n",
       "      <td>NaN</td>\n",
       "      <td>NaN</td>\n",
       "      <td>NaN</td>\n",
       "      <td>NaN</td>\n",
       "      <td>NaN</td>\n",
       "      <td>NaN</td>\n",
       "      <td>NaN</td>\n",
       "      <td>NaN</td>\n",
       "      <td>37.5</td>\n",
       "      <td>NaN</td>\n",
       "    </tr>\n",
       "    <tr>\n",
       "      <th>2</th>\n",
       "      <td>1</td>\n",
       "      <td>3.4</td>\n",
       "      <td>2.41</td>\n",
       "      <td>0.017</td>\n",
       "      <td>0.015</td>\n",
       "      <td>0.064</td>\n",
       "      <td>0.15</td>\n",
       "      <td>0.001</td>\n",
       "      <td>0.0</td>\n",
       "      <td>0.001</td>\n",
       "      <td>...</td>\n",
       "      <td>10.5</td>\n",
       "      <td>NaN</td>\n",
       "      <td>NaN</td>\n",
       "      <td>NaN</td>\n",
       "      <td>NaN</td>\n",
       "      <td>NaN</td>\n",
       "      <td>NaN</td>\n",
       "      <td>NaN</td>\n",
       "      <td>32.0</td>\n",
       "      <td>NaN</td>\n",
       "    </tr>\n",
       "    <tr>\n",
       "      <th>3</th>\n",
       "      <td>1</td>\n",
       "      <td>3.4</td>\n",
       "      <td>2.41</td>\n",
       "      <td>0.017</td>\n",
       "      <td>0.015</td>\n",
       "      <td>0.064</td>\n",
       "      <td>0.15</td>\n",
       "      <td>0.001</td>\n",
       "      <td>0.0</td>\n",
       "      <td>0.001</td>\n",
       "      <td>...</td>\n",
       "      <td>9.6</td>\n",
       "      <td>NaN</td>\n",
       "      <td>NaN</td>\n",
       "      <td>NaN</td>\n",
       "      <td>NaN</td>\n",
       "      <td>NaN</td>\n",
       "      <td>NaN</td>\n",
       "      <td>NaN</td>\n",
       "      <td>28.5</td>\n",
       "      <td>NaN</td>\n",
       "    </tr>\n",
       "    <tr>\n",
       "      <th>4</th>\n",
       "      <td>1</td>\n",
       "      <td>3.4</td>\n",
       "      <td>2.41</td>\n",
       "      <td>0.017</td>\n",
       "      <td>0.015</td>\n",
       "      <td>0.064</td>\n",
       "      <td>0.15</td>\n",
       "      <td>0.001</td>\n",
       "      <td>0.0</td>\n",
       "      <td>0.001</td>\n",
       "      <td>...</td>\n",
       "      <td>NaN</td>\n",
       "      <td>NaN</td>\n",
       "      <td>NaN</td>\n",
       "      <td>NaN</td>\n",
       "      <td>NaN</td>\n",
       "      <td>NaN</td>\n",
       "      <td>NaN</td>\n",
       "      <td>NaN</td>\n",
       "      <td>26.2</td>\n",
       "      <td>NaN</td>\n",
       "    </tr>\n",
       "  </tbody>\n",
       "</table>\n",
       "<p>5 rows × 41 columns</p>\n",
       "</div>"
      ],
      "text/plain": [
       "  Nr źródła  C [%]  Si [%]  S [%]  P [%]  Mg [%]  Mn [%]  Ni [%]  Cu [%]  \\\n",
       "0         1    3.4    2.41  0.017  0.015   0.064    0.15   0.001     0.0   \n",
       "1         1    3.4    2.41  0.017  0.015   0.064    0.15   0.001     0.0   \n",
       "2         1    3.4    2.41  0.017  0.015   0.064    0.15   0.001     0.0   \n",
       "3         1    3.4    2.41  0.017  0.015   0.064    0.15   0.001     0.0   \n",
       "4         1    3.4    2.41  0.017  0.015   0.064    0.15   0.001     0.0   \n",
       "\n",
       "   Mo [%]  ...  A5 [%]  Twardość Brinella [HB]  Twardość Rockwella [HRC]  \\\n",
       "0   0.001  ...     NaN                     NaN                       NaN   \n",
       "1   0.001  ...     NaN                     NaN                       NaN   \n",
       "2   0.001  ...    10.5                     NaN                       NaN   \n",
       "3   0.001  ...     9.6                     NaN                       NaN   \n",
       "4   0.001  ...     NaN                     NaN                       NaN   \n",
       "\n",
       "   Twardość Rockwella [HRA]  Twardość Rockwella [HRB]  Twardość Vickersa [HV]  \\\n",
       "0                       NaN                       NaN                     NaN   \n",
       "1                       NaN                       NaN                     NaN   \n",
       "2                       NaN                       NaN                     NaN   \n",
       "3                       NaN                       NaN                     NaN   \n",
       "4                       NaN                       NaN                     NaN   \n",
       "\n",
       "   Udarność Charpy [J]  Temperatura pomiaru udarności [˚C] Udział austenitu %  \\\n",
       "0                  NaN                                 NaN               28.7   \n",
       "1                  NaN                                 NaN               37.5   \n",
       "2                  NaN                                 NaN               32.0   \n",
       "3                  NaN                                 NaN               28.5   \n",
       "4                  NaN                                 NaN               26.2   \n",
       "\n",
       "   Martensite volume fraction Xα'  \n",
       "0                             NaN  \n",
       "1                             NaN  \n",
       "2                             NaN  \n",
       "3                             NaN  \n",
       "4                             NaN  \n",
       "\n",
       "[5 rows x 41 columns]"
      ]
     },
     "execution_count": 1,
     "metadata": {},
     "output_type": "execute_result"
    }
   ],
   "source": [
    "import pandas as pd\n",
    "\n",
    "df = pd.read_csv(\"dane-zeliwo.csv\")\n",
    "del df['Unnamed: 0']\n",
    "df.head()"
   ]
  },
  {
   "cell_type": "code",
   "execution_count": 2,
   "metadata": {},
   "outputs": [
    {
     "name": "stdout",
     "output_type": "stream",
     "text": [
      "<class 'pandas.core.frame.DataFrame'>\n",
      "RangeIndex: 1508 entries, 0 to 1507\n",
      "Data columns (total 41 columns):\n",
      "Nr źródła                                   1505 non-null object\n",
      "C [%]                                       1441 non-null float64\n",
      "Si [%]                                      1441 non-null float64\n",
      "S [%]                                       1377 non-null float64\n",
      "P [%]                                       1362 non-null float64\n",
      "Mg [%]                                      1278 non-null float64\n",
      "Mn [%]                                      1402 non-null float64\n",
      "Ni [%]                                      1261 non-null float64\n",
      "Cu [%]                                      1225 non-null float64\n",
      "Mo [%]                                      1062 non-null float64\n",
      "Cr [%]                                      475 non-null float64\n",
      "Al [%]                                      413 non-null float64\n",
      "Sn [%]                                      410 non-null float64\n",
      "B [%]                                       401 non-null float64\n",
      "V [%]                                       405 non-null float64\n",
      "Wydzielenia grafitu [mm-2]                  532 non-null float64\n",
      "Udział wydzieleń grafitu [%]                137 non-null float64\n",
      "Średnica sferoidów [μm]                     180 non-null float64\n",
      "Wielkość sferoidów                          39 non-null object\n",
      "Nodularity [%]                              166 non-null float64\n",
      "Udział perlitu [%]                          175 non-null float64\n",
      "Udział ferrytu [%]                          196 non-null float64\n",
      "Rm [MPa] (as cast)                          204 non-null float64\n",
      "A5 [%]     (as cast)                        172 non-null float64\n",
      "Minimalna grubość ścianki [mm]              558 non-null float64\n",
      "Temperatura austenityzacji [˚C]             1416 non-null float64\n",
      "Czas austenityzacji [min.]                  1389 non-null float64\n",
      "Temperatura przemiany izotermicznej [˚C]    1419 non-null float64\n",
      "Czas przemiany izotermicznej [min.]         1412 non-null float64\n",
      "Rm [MPa]                                    1094 non-null float64\n",
      "R0,2 [MPa]                                  844 non-null float64\n",
      "A5 [%]                                      968 non-null float64\n",
      "Twardość Brinella [HB]                      416 non-null float64\n",
      "Twardość Rockwella [HRC]                    435 non-null float64\n",
      "Twardość Rockwella [HRA]                    12 non-null float64\n",
      "Twardość Rockwella [HRB]                    0 non-null float64\n",
      "Twardość Vickersa [HV]                      188 non-null float64\n",
      "Udarność Charpy [J]                         338 non-null float64\n",
      "Temperatura pomiaru udarności [˚C]          312 non-null float64\n",
      "Udział austenitu %                          295 non-null float64\n",
      "Martensite volume fraction Xα'              49 non-null float64\n",
      "dtypes: float64(39), object(2)\n",
      "memory usage: 483.2+ KB\n"
     ]
    }
   ],
   "source": [
    "df.info()"
   ]
  },
  {
   "cell_type": "markdown",
   "metadata": {},
   "source": [
    "2) Uzupełnienie braków danych\n",
    "\n",
    "* kolumny C, Si, S, P, Mg, Mn, Ni - te pierwiastki w składzie chemicznym muszą być (zgodnie z notatkami), nie można ich uzupełnić wartością $0$, więc każda z nich zostanie uzupełniona medianą"
   ]
  },
  {
   "cell_type": "code",
   "execution_count": 3,
   "metadata": {},
   "outputs": [
    {
     "name": "stdout",
     "output_type": "stream",
     "text": [
      "<class 'pandas.core.frame.DataFrame'>\n",
      "RangeIndex: 1508 entries, 0 to 1507\n",
      "Data columns (total 41 columns):\n",
      "Nr źródła                                   1505 non-null object\n",
      "C [%]                                       1508 non-null float64\n",
      "Si [%]                                      1508 non-null float64\n",
      "S [%]                                       1508 non-null float64\n",
      "P [%]                                       1508 non-null float64\n",
      "Mg [%]                                      1508 non-null float64\n",
      "Mn [%]                                      1508 non-null float64\n",
      "Ni [%]                                      1508 non-null float64\n",
      "Cu [%]                                      1225 non-null float64\n",
      "Mo [%]                                      1062 non-null float64\n",
      "Cr [%]                                      475 non-null float64\n",
      "Al [%]                                      413 non-null float64\n",
      "Sn [%]                                      410 non-null float64\n",
      "B [%]                                       401 non-null float64\n",
      "V [%]                                       405 non-null float64\n",
      "Wydzielenia grafitu [mm-2]                  532 non-null float64\n",
      "Udział wydzieleń grafitu [%]                137 non-null float64\n",
      "Średnica sferoidów [μm]                     180 non-null float64\n",
      "Wielkość sferoidów                          39 non-null object\n",
      "Nodularity [%]                              166 non-null float64\n",
      "Udział perlitu [%]                          175 non-null float64\n",
      "Udział ferrytu [%]                          196 non-null float64\n",
      "Rm [MPa] (as cast)                          204 non-null float64\n",
      "A5 [%]     (as cast)                        172 non-null float64\n",
      "Minimalna grubość ścianki [mm]              558 non-null float64\n",
      "Temperatura austenityzacji [˚C]             1416 non-null float64\n",
      "Czas austenityzacji [min.]                  1389 non-null float64\n",
      "Temperatura przemiany izotermicznej [˚C]    1419 non-null float64\n",
      "Czas przemiany izotermicznej [min.]         1412 non-null float64\n",
      "Rm [MPa]                                    1094 non-null float64\n",
      "R0,2 [MPa]                                  844 non-null float64\n",
      "A5 [%]                                      968 non-null float64\n",
      "Twardość Brinella [HB]                      416 non-null float64\n",
      "Twardość Rockwella [HRC]                    435 non-null float64\n",
      "Twardość Rockwella [HRA]                    12 non-null float64\n",
      "Twardość Rockwella [HRB]                    0 non-null float64\n",
      "Twardość Vickersa [HV]                      188 non-null float64\n",
      "Udarność Charpy [J]                         338 non-null float64\n",
      "Temperatura pomiaru udarności [˚C]          312 non-null float64\n",
      "Udział austenitu %                          295 non-null float64\n",
      "Martensite volume fraction Xα'              49 non-null float64\n",
      "dtypes: float64(39), object(2)\n",
      "memory usage: 483.2+ KB\n"
     ]
    }
   ],
   "source": [
    "pierwiastki = ['C', 'Si', 'S', 'P', 'Mg', 'Mn', 'Ni']\n",
    "pierwiastki_procent = [p + ' [%]' for p in pierwiastki]\n",
    "df.loc[:,pierwiastki_procent] = df.loc[\n",
    "    :,pierwiastki_procent].fillna(df.loc[:,pierwiastki_procent\n",
    "                                        ].median())\n",
    "\n",
    "df.info()"
   ]
  },
  {
   "cell_type": "markdown",
   "metadata": {},
   "source": [
    "* zgodnie z notatkami Cu, Mo, Cr, Al, Sn, B, V - te pierwiastki występują w śladowych ilościach - roboczo uzupełnie braki wartością $0$"
   ]
  },
  {
   "cell_type": "code",
   "execution_count": 4,
   "metadata": {},
   "outputs": [
    {
     "name": "stdout",
     "output_type": "stream",
     "text": [
      "<class 'pandas.core.frame.DataFrame'>\n",
      "RangeIndex: 1508 entries, 0 to 1507\n",
      "Data columns (total 41 columns):\n",
      "Nr źródła                                   1505 non-null object\n",
      "C [%]                                       1508 non-null float64\n",
      "Si [%]                                      1508 non-null float64\n",
      "S [%]                                       1508 non-null float64\n",
      "P [%]                                       1508 non-null float64\n",
      "Mg [%]                                      1508 non-null float64\n",
      "Mn [%]                                      1508 non-null float64\n",
      "Ni [%]                                      1508 non-null float64\n",
      "Cu [%]                                      1508 non-null float64\n",
      "Mo [%]                                      1508 non-null float64\n",
      "Cr [%]                                      1508 non-null float64\n",
      "Al [%]                                      1508 non-null float64\n",
      "Sn [%]                                      1508 non-null float64\n",
      "B [%]                                       1508 non-null float64\n",
      "V [%]                                       1508 non-null float64\n",
      "Wydzielenia grafitu [mm-2]                  532 non-null float64\n",
      "Udział wydzieleń grafitu [%]                137 non-null float64\n",
      "Średnica sferoidów [μm]                     180 non-null float64\n",
      "Wielkość sferoidów                          39 non-null object\n",
      "Nodularity [%]                              166 non-null float64\n",
      "Udział perlitu [%]                          175 non-null float64\n",
      "Udział ferrytu [%]                          196 non-null float64\n",
      "Rm [MPa] (as cast)                          204 non-null float64\n",
      "A5 [%]     (as cast)                        172 non-null float64\n",
      "Minimalna grubość ścianki [mm]              558 non-null float64\n",
      "Temperatura austenityzacji [˚C]             1416 non-null float64\n",
      "Czas austenityzacji [min.]                  1389 non-null float64\n",
      "Temperatura przemiany izotermicznej [˚C]    1419 non-null float64\n",
      "Czas przemiany izotermicznej [min.]         1412 non-null float64\n",
      "Rm [MPa]                                    1094 non-null float64\n",
      "R0,2 [MPa]                                  844 non-null float64\n",
      "A5 [%]                                      968 non-null float64\n",
      "Twardość Brinella [HB]                      416 non-null float64\n",
      "Twardość Rockwella [HRC]                    435 non-null float64\n",
      "Twardość Rockwella [HRA]                    12 non-null float64\n",
      "Twardość Rockwella [HRB]                    0 non-null float64\n",
      "Twardość Vickersa [HV]                      188 non-null float64\n",
      "Udarność Charpy [J]                         338 non-null float64\n",
      "Temperatura pomiaru udarności [˚C]          312 non-null float64\n",
      "Udział austenitu %                          295 non-null float64\n",
      "Martensite volume fraction Xα'              49 non-null float64\n",
      "dtypes: float64(39), object(2)\n",
      "memory usage: 483.2+ KB\n"
     ]
    }
   ],
   "source": [
    "pierwiastki2 = ['Cu', 'Cr', 'Mo', 'Al', 'Sn', 'B', 'V']\n",
    "pierwiastki_procent2 = [p + ' [%]' for p in pierwiastki2]\n",
    "df.loc[:,pierwiastki_procent2] = df.loc[:,pierwiastki_procent2].fillna(0)\n",
    "df.info()"
   ]
  },
  {
   "cell_type": "markdown",
   "metadata": {},
   "source": [
    "* kolumny Udział perlitu [%] oraz Udział ferrytu [%] powinny się sumować do 100%, więc zrobię to, przy okazji uzupełniając dane"
   ]
  },
  {
   "cell_type": "code",
   "execution_count": 5,
   "metadata": {},
   "outputs": [],
   "source": [
    "perlit = 'Udział perlitu [%]'\n",
    "ferryt = 'Udział ferrytu [%]'\n",
    "\n",
    "df.loc[(df[perlit].isna()) & (~df[ferryt].isna()),[perlit]] = 100 - df.loc[\n",
    "    (df[perlit].isna()) & (~df[ferryt].isna()),[ferryt]]\n",
    "\n",
    "df.loc[(df[ferryt].isna()) & (~df[perlit].isna()),[ferryt]] = 100 - df.loc[\n",
    "    (df[ferryt].isna()) & (~df[perlit].isna()),[perlit]]"
   ]
  },
  {
   "cell_type": "code",
   "execution_count": 6,
   "metadata": {},
   "outputs": [
    {
     "name": "stdout",
     "output_type": "stream",
     "text": [
      "<class 'pandas.core.frame.DataFrame'>\n",
      "RangeIndex: 1508 entries, 0 to 1507\n",
      "Data columns (total 41 columns):\n",
      "Nr źródła                                   1505 non-null object\n",
      "C [%]                                       1508 non-null float64\n",
      "Si [%]                                      1508 non-null float64\n",
      "S [%]                                       1508 non-null float64\n",
      "P [%]                                       1508 non-null float64\n",
      "Mg [%]                                      1508 non-null float64\n",
      "Mn [%]                                      1508 non-null float64\n",
      "Ni [%]                                      1508 non-null float64\n",
      "Cu [%]                                      1508 non-null float64\n",
      "Mo [%]                                      1508 non-null float64\n",
      "Cr [%]                                      1508 non-null float64\n",
      "Al [%]                                      1508 non-null float64\n",
      "Sn [%]                                      1508 non-null float64\n",
      "B [%]                                       1508 non-null float64\n",
      "V [%]                                       1508 non-null float64\n",
      "Wydzielenia grafitu [mm-2]                  532 non-null float64\n",
      "Udział wydzieleń grafitu [%]                137 non-null float64\n",
      "Średnica sferoidów [μm]                     180 non-null float64\n",
      "Wielkość sferoidów                          39 non-null object\n",
      "Nodularity [%]                              166 non-null float64\n",
      "Udział perlitu [%]                          175 non-null float64\n",
      "Udział ferrytu [%]                          196 non-null float64\n",
      "Rm [MPa] (as cast)                          204 non-null float64\n",
      "A5 [%]     (as cast)                        172 non-null float64\n",
      "Minimalna grubość ścianki [mm]              558 non-null float64\n",
      "Temperatura austenityzacji [˚C]             1416 non-null float64\n",
      "Czas austenityzacji [min.]                  1389 non-null float64\n",
      "Temperatura przemiany izotermicznej [˚C]    1419 non-null float64\n",
      "Czas przemiany izotermicznej [min.]         1412 non-null float64\n",
      "Rm [MPa]                                    1094 non-null float64\n",
      "R0,2 [MPa]                                  844 non-null float64\n",
      "A5 [%]                                      968 non-null float64\n",
      "Twardość Brinella [HB]                      416 non-null float64\n",
      "Twardość Rockwella [HRC]                    435 non-null float64\n",
      "Twardość Rockwella [HRA]                    12 non-null float64\n",
      "Twardość Rockwella [HRB]                    0 non-null float64\n",
      "Twardość Vickersa [HV]                      188 non-null float64\n",
      "Udarność Charpy [J]                         338 non-null float64\n",
      "Temperatura pomiaru udarności [˚C]          312 non-null float64\n",
      "Udział austenitu %                          295 non-null float64\n",
      "Martensite volume fraction Xα'              49 non-null float64\n",
      "dtypes: float64(39), object(2)\n",
      "memory usage: 483.2+ KB\n"
     ]
    }
   ],
   "source": [
    "df.info()"
   ]
  },
  {
   "cell_type": "markdown",
   "metadata": {},
   "source": [
    "Nie uzupełniło to braków :("
   ]
  },
  {
   "cell_type": "markdown",
   "metadata": {},
   "source": [
    "* Kolumny\n",
    "    \n",
    "    Rm [MPa] (as cast)\n",
    "    \n",
    "    A5 [%]     (as cast)\n",
    "    \n",
    "Te kolumny można uzupełnić na podstawie składu chemicznego, więc to zrobie.\n",
    "\n",
    "### Rm [Mpa] (as cast) :"
   ]
  },
  {
   "cell_type": "code",
   "execution_count": 7,
   "metadata": {},
   "outputs": [
    {
     "data": {
      "text/plain": [
       "(204, 14)"
      ]
     },
     "execution_count": 7,
     "metadata": {},
     "output_type": "execute_result"
    }
   ],
   "source": [
    "y = df.loc[~df['Rm [MPa] (as cast)'].isna(),:]['Rm [MPa] (as cast)']\n",
    "X = df.loc[~df['Rm [MPa] (as cast)'].isna(),\n",
    "           pierwiastki_procent + pierwiastki_procent2]\n",
    "X.shape"
   ]
  },
  {
   "cell_type": "markdown",
   "metadata": {},
   "source": [
    "Jako, że pełnych obserwacji jest mało (204), to do oceny modelu uzupełniającego użyję cross walidacji (10-krotnej)."
   ]
  },
  {
   "cell_type": "code",
   "execution_count": 8,
   "metadata": {},
   "outputs": [],
   "source": [
    "# modele\n",
    "from sklearn.ensemble import RandomForestRegressor\n",
    "from sklearn.linear_model import Lasso\n",
    "from sklearn.linear_model import LinearRegression\n",
    "\n",
    "# metryki\n",
    "from sklearn import metrics\n",
    "\n",
    "# CV\n",
    "from sklearn.model_selection import cross_val_score\n",
    "\n",
    "metryka = 'neg_mean_absolute_error'\n",
    "rf = RandomForestRegressor(n_estimators=500,criterion = 'mae')\n",
    "lm = LinearRegression()\n",
    "lasso = Lasso()\n",
    "\n",
    "\n",
    "score = pd.DataFrame({\n",
    "    \"rf_score\" : cross_val_score(rf, X, y, cv=10, scoring=metryka),\n",
    "    \"lm_score\" : cross_val_score(lm, X, y, cv=10, scoring=metryka),\n",
    "    \"lasso_score\" : cross_val_score(lasso, X, y, cv=10, scoring=metryka)\n",
    "})\n"
   ]
  },
  {
   "cell_type": "code",
   "execution_count": 10,
   "metadata": {},
   "outputs": [
    {
     "data": {
      "image/png": "[encoded data removed]",
      "text/plain": [
       "<Figure size 432x288 with 1 Axes>"
      ]
     },
     "metadata": {
      "needs_background": "light"
     },
     "output_type": "display_data"
    }
   ],
   "source": [
    "import seaborn as sns\n",
    "ax = sns.boxplot(data=score, orient=\"h\", palette=\"Set2\")"
   ]
  },
  {
   "cell_type": "markdown",
   "metadata": {},
   "source": [
    "Więc do uzupelnienia wybiore las losowy: \n",
    "* większa mediana\n",
    "* może osiągać praktycznie zerowy błąd predykcji\n",
    "\n",
    "Uzupełnienie:"
   ]
  },
  {
   "cell_type": "code",
   "execution_count": 11,
   "metadata": {},
   "outputs": [
    {
     "data": {
      "text/plain": [
       "RandomForestRegressor(bootstrap=True, criterion='mae', max_depth=None,\n",
       "                      max_features='auto', max_leaf_nodes=None,\n",
       "                      min_impurity_decrease=0.0, min_impurity_split=None,\n",
       "                      min_samples_leaf=1, min_samples_split=2,\n",
       "                      min_weight_fraction_leaf=0.0, n_estimators=500,\n",
       "                      n_jobs=None, oob_score=False, random_state=None,\n",
       "                      verbose=0, warm_start=False)"
      ]
     },
     "execution_count": 11,
     "metadata": {},
     "output_type": "execute_result"
    }
   ],
   "source": [
    "rf.fit(X,y)"
   ]
  },
  {
   "cell_type": "code",
   "execution_count": 12,
   "metadata": {},
   "outputs": [
    {
     "data": {
      "text/plain": [
       "(1304, 14)"
      ]
     },
     "execution_count": 12,
     "metadata": {},
     "output_type": "execute_result"
    }
   ],
   "source": [
    "X_do_uzupelnienia = df.loc[df['Rm [MPa] (as cast)'].isna(),\n",
    "           pierwiastki_procent + pierwiastki_procent2]\n",
    "X_do_uzupelnienia.shape"
   ]
  },
  {
   "cell_type": "code",
   "execution_count": 13,
   "metadata": {},
   "outputs": [],
   "source": [
    "df.loc[df['Rm [MPa] (as cast)'].isna(),['Rm [MPa] (as cast)']] = rf.predict(\n",
    "    X_do_uzupelnienia)"
   ]
  },
  {
   "cell_type": "markdown",
   "metadata": {},
   "source": [
    "### Kolumna A5 [%]     (as cast)"
   ]
  },
  {
   "cell_type": "code",
   "execution_count": 14,
   "metadata": {},
   "outputs": [
    {
     "data": {
      "text/plain": [
       "(172, 14)"
      ]
     },
     "execution_count": 14,
     "metadata": {},
     "output_type": "execute_result"
    }
   ],
   "source": [
    "y = df.loc[~df['A5 [%]     (as cast)'].isna(),:]['A5 [%]     (as cast)']\n",
    "X = df.loc[~df['A5 [%]     (as cast)'].isna(),\n",
    "           pierwiastki_procent + pierwiastki_procent2]\n",
    "X.shape"
   ]
  },
  {
   "cell_type": "markdown",
   "metadata": {},
   "source": [
    "Jeszcze mniej obserwacji więc ponownie będzie to cross walidacja"
   ]
  },
  {
   "cell_type": "code",
   "execution_count": 15,
   "metadata": {},
   "outputs": [],
   "source": [
    "metryka = 'neg_mean_absolute_error'\n",
    "rf = RandomForestRegressor(n_estimators=500, criterion = 'mae')\n",
    "lm = LinearRegression()\n",
    "lasso = Lasso()\n",
    "\n",
    "\n",
    "score = pd.DataFrame({\n",
    "    \"rf_score\" : cross_val_score(rf, X, y, cv=10, scoring=metryka),\n",
    "    \"lm_score\" : cross_val_score(lm, X, y, cv=10, scoring=metryka),\n",
    "    \"lasso_score\" : cross_val_score(lasso, X, y, cv=10, scoring=metryka)\n",
    "})"
   ]
  },
  {
   "cell_type": "code",
   "execution_count": 17,
   "metadata": {},
   "outputs": [
    {
     "data": {
      "image/png": "[encoded data removed]",
      "text/plain": [
       "<Figure size 432x288 with 1 Axes>"
      ]
     },
     "metadata": {
      "needs_background": "light"
     },
     "output_type": "display_data"
    }
   ],
   "source": [
    "ax = sns.boxplot(data=score, orient=\"h\", palette=\"Set2\")"
   ]
  },
  {
   "cell_type": "markdown",
   "metadata": {},
   "source": [
    "Ponownie uzupelnie braki przy pomocy lasu:\n",
    "* są obserwacje dla których sie nie myli\n",
    "* wyższa mediana"
   ]
  },
  {
   "cell_type": "code",
   "execution_count": 18,
   "metadata": {},
   "outputs": [
    {
     "data": {
      "text/plain": [
       "RandomForestRegressor(bootstrap=True, criterion='mae', max_depth=None,\n",
       "                      max_features='auto', max_leaf_nodes=None,\n",
       "                      min_impurity_decrease=0.0, min_impurity_split=None,\n",
       "                      min_samples_leaf=1, min_samples_split=2,\n",
       "                      min_weight_fraction_leaf=0.0, n_estimators=500,\n",
       "                      n_jobs=None, oob_score=False, random_state=None,\n",
       "                      verbose=0, warm_start=False)"
      ]
     },
     "execution_count": 18,
     "metadata": {},
     "output_type": "execute_result"
    }
   ],
   "source": [
    "rf.fit(X,y)"
   ]
  },
  {
   "cell_type": "code",
   "execution_count": 19,
   "metadata": {},
   "outputs": [
    {
     "data": {
      "text/plain": [
       "(1336, 14)"
      ]
     },
     "execution_count": 19,
     "metadata": {},
     "output_type": "execute_result"
    }
   ],
   "source": [
    "X_do_uzupelnienia = df.loc[df['A5 [%]     (as cast)'].isna(),\n",
    "           pierwiastki_procent + pierwiastki_procent2]\n",
    "X_do_uzupelnienia.shape"
   ]
  },
  {
   "cell_type": "code",
   "execution_count": 20,
   "metadata": {},
   "outputs": [],
   "source": [
    "df.loc[df['A5 [%]     (as cast)'].isna(),['A5 [%]     (as cast)']\n",
    "      ] = rf.predict(X_do_uzupelnienia)"
   ]
  },
  {
   "cell_type": "code",
   "execution_count": 21,
   "metadata": {},
   "outputs": [
    {
     "name": "stdout",
     "output_type": "stream",
     "text": [
      "<class 'pandas.core.frame.DataFrame'>\n",
      "RangeIndex: 1508 entries, 0 to 1507\n",
      "Data columns (total 41 columns):\n",
      "Nr źródła                                   1505 non-null object\n",
      "C [%]                                       1508 non-null float64\n",
      "Si [%]                                      1508 non-null float64\n",
      "S [%]                                       1508 non-null float64\n",
      "P [%]                                       1508 non-null float64\n",
      "Mg [%]                                      1508 non-null float64\n",
      "Mn [%]                                      1508 non-null float64\n",
      "Ni [%]                                      1508 non-null float64\n",
      "Cu [%]                                      1508 non-null float64\n",
      "Mo [%]                                      1508 non-null float64\n",
      "Cr [%]                                      1508 non-null float64\n",
      "Al [%]                                      1508 non-null float64\n",
      "Sn [%]                                      1508 non-null float64\n",
      "B [%]                                       1508 non-null float64\n",
      "V [%]                                       1508 non-null float64\n",
      "Wydzielenia grafitu [mm-2]                  532 non-null float64\n",
      "Udział wydzieleń grafitu [%]                137 non-null float64\n",
      "Średnica sferoidów [μm]                     180 non-null float64\n",
      "Wielkość sferoidów                          39 non-null object\n",
      "Nodularity [%]                              166 non-null float64\n",
      "Udział perlitu [%]                          175 non-null float64\n",
      "Udział ferrytu [%]                          196 non-null float64\n",
      "Rm [MPa] (as cast)                          1508 non-null float64\n",
      "A5 [%]     (as cast)                        1508 non-null float64\n",
      "Minimalna grubość ścianki [mm]              558 non-null float64\n",
      "Temperatura austenityzacji [˚C]             1416 non-null float64\n",
      "Czas austenityzacji [min.]                  1389 non-null float64\n",
      "Temperatura przemiany izotermicznej [˚C]    1419 non-null float64\n",
      "Czas przemiany izotermicznej [min.]         1412 non-null float64\n",
      "Rm [MPa]                                    1094 non-null float64\n",
      "R0,2 [MPa]                                  844 non-null float64\n",
      "A5 [%]                                      968 non-null float64\n",
      "Twardość Brinella [HB]                      416 non-null float64\n",
      "Twardość Rockwella [HRC]                    435 non-null float64\n",
      "Twardość Rockwella [HRA]                    12 non-null float64\n",
      "Twardość Rockwella [HRB]                    0 non-null float64\n",
      "Twardość Vickersa [HV]                      188 non-null float64\n",
      "Udarność Charpy [J]                         338 non-null float64\n",
      "Temperatura pomiaru udarności [˚C]          312 non-null float64\n",
      "Udział austenitu %                          295 non-null float64\n",
      "Martensite volume fraction Xα'              49 non-null float64\n",
      "dtypes: float64(39), object(2)\n",
      "memory usage: 483.2+ KB\n"
     ]
    }
   ],
   "source": [
    "df.info()"
   ]
  },
  {
   "cell_type": "markdown",
   "metadata": {},
   "source": [
    "### Zapis tak uzupełnionych danych:"
   ]
  },
  {
   "cell_type": "code",
   "execution_count": 23,
   "metadata": {},
   "outputs": [],
   "source": [
    "df.to_csv(\"dane-zeliwo-uzupelnienie.csv\")"
   ]
  },
  {
   "cell_type": "markdown",
   "metadata": {},
   "source": [
    "Sprawdzenie"
   ]
  },
  {
   "cell_type": "code",
   "execution_count": 26,
   "metadata": {},
   "outputs": [
    {
     "data": {
      "text/html": [
       "<div>\n",
       "<style scoped>\n",
       "    .dataframe tbody tr th:only-of-type {\n",
       "        vertical-align: middle;\n",
       "    }\n",
       "\n",
       "    .dataframe tbody tr th {\n",
       "        vertical-align: top;\n",
       "    }\n",
       "\n",
       "    .dataframe thead th {\n",
       "        text-align: right;\n",
       "    }\n",
       "</style>\n",
       "<table border=\"1\" class=\"dataframe\">\n",
       "  <thead>\n",
       "    <tr style=\"text-align: right;\">\n",
       "      <th></th>\n",
       "      <th>Unnamed: 0</th>\n",
       "      <th>Nr źródła</th>\n",
       "      <th>C [%]</th>\n",
       "      <th>Si [%]</th>\n",
       "      <th>S [%]</th>\n",
       "      <th>P [%]</th>\n",
       "      <th>Mg [%]</th>\n",
       "      <th>Mn [%]</th>\n",
       "      <th>Ni [%]</th>\n",
       "      <th>Cu [%]</th>\n",
       "      <th>...</th>\n",
       "      <th>A5 [%]</th>\n",
       "      <th>Twardość Brinella [HB]</th>\n",
       "      <th>Twardość Rockwella [HRC]</th>\n",
       "      <th>Twardość Rockwella [HRA]</th>\n",
       "      <th>Twardość Rockwella [HRB]</th>\n",
       "      <th>Twardość Vickersa [HV]</th>\n",
       "      <th>Udarność Charpy [J]</th>\n",
       "      <th>Temperatura pomiaru udarności [˚C]</th>\n",
       "      <th>Udział austenitu %</th>\n",
       "      <th>Martensite volume fraction Xα'</th>\n",
       "    </tr>\n",
       "  </thead>\n",
       "  <tbody>\n",
       "    <tr>\n",
       "      <th>0</th>\n",
       "      <td>0</td>\n",
       "      <td>1</td>\n",
       "      <td>3.4</td>\n",
       "      <td>2.41</td>\n",
       "      <td>0.017</td>\n",
       "      <td>0.015</td>\n",
       "      <td>0.064</td>\n",
       "      <td>0.15</td>\n",
       "      <td>0.001</td>\n",
       "      <td>0.0</td>\n",
       "      <td>...</td>\n",
       "      <td>NaN</td>\n",
       "      <td>NaN</td>\n",
       "      <td>NaN</td>\n",
       "      <td>NaN</td>\n",
       "      <td>NaN</td>\n",
       "      <td>NaN</td>\n",
       "      <td>NaN</td>\n",
       "      <td>NaN</td>\n",
       "      <td>28.7</td>\n",
       "      <td>NaN</td>\n",
       "    </tr>\n",
       "    <tr>\n",
       "      <th>1</th>\n",
       "      <td>1</td>\n",
       "      <td>1</td>\n",
       "      <td>3.4</td>\n",
       "      <td>2.41</td>\n",
       "      <td>0.017</td>\n",
       "      <td>0.015</td>\n",
       "      <td>0.064</td>\n",
       "      <td>0.15</td>\n",
       "      <td>0.001</td>\n",
       "      <td>0.0</td>\n",
       "      <td>...</td>\n",
       "      <td>NaN</td>\n",
       "      <td>NaN</td>\n",
       "      <td>NaN</td>\n",
       "      <td>NaN</td>\n",
       "      <td>NaN</td>\n",
       "      <td>NaN</td>\n",
       "      <td>NaN</td>\n",
       "      <td>NaN</td>\n",
       "      <td>37.5</td>\n",
       "      <td>NaN</td>\n",
       "    </tr>\n",
       "    <tr>\n",
       "      <th>2</th>\n",
       "      <td>2</td>\n",
       "      <td>1</td>\n",
       "      <td>3.4</td>\n",
       "      <td>2.41</td>\n",
       "      <td>0.017</td>\n",
       "      <td>0.015</td>\n",
       "      <td>0.064</td>\n",
       "      <td>0.15</td>\n",
       "      <td>0.001</td>\n",
       "      <td>0.0</td>\n",
       "      <td>...</td>\n",
       "      <td>10.5</td>\n",
       "      <td>NaN</td>\n",
       "      <td>NaN</td>\n",
       "      <td>NaN</td>\n",
       "      <td>NaN</td>\n",
       "      <td>NaN</td>\n",
       "      <td>NaN</td>\n",
       "      <td>NaN</td>\n",
       "      <td>32.0</td>\n",
       "      <td>NaN</td>\n",
       "    </tr>\n",
       "    <tr>\n",
       "      <th>3</th>\n",
       "      <td>3</td>\n",
       "      <td>1</td>\n",
       "      <td>3.4</td>\n",
       "      <td>2.41</td>\n",
       "      <td>0.017</td>\n",
       "      <td>0.015</td>\n",
       "      <td>0.064</td>\n",
       "      <td>0.15</td>\n",
       "      <td>0.001</td>\n",
       "      <td>0.0</td>\n",
       "      <td>...</td>\n",
       "      <td>9.6</td>\n",
       "      <td>NaN</td>\n",
       "      <td>NaN</td>\n",
       "      <td>NaN</td>\n",
       "      <td>NaN</td>\n",
       "      <td>NaN</td>\n",
       "      <td>NaN</td>\n",
       "      <td>NaN</td>\n",
       "      <td>28.5</td>\n",
       "      <td>NaN</td>\n",
       "    </tr>\n",
       "    <tr>\n",
       "      <th>4</th>\n",
       "      <td>4</td>\n",
       "      <td>1</td>\n",
       "      <td>3.4</td>\n",
       "      <td>2.41</td>\n",
       "      <td>0.017</td>\n",
       "      <td>0.015</td>\n",
       "      <td>0.064</td>\n",
       "      <td>0.15</td>\n",
       "      <td>0.001</td>\n",
       "      <td>0.0</td>\n",
       "      <td>...</td>\n",
       "      <td>NaN</td>\n",
       "      <td>NaN</td>\n",
       "      <td>NaN</td>\n",
       "      <td>NaN</td>\n",
       "      <td>NaN</td>\n",
       "      <td>NaN</td>\n",
       "      <td>NaN</td>\n",
       "      <td>NaN</td>\n",
       "      <td>26.2</td>\n",
       "      <td>NaN</td>\n",
       "    </tr>\n",
       "  </tbody>\n",
       "</table>\n",
       "<p>5 rows × 42 columns</p>\n",
       "</div>"
      ],
      "text/plain": [
       "   Unnamed: 0 Nr źródła  C [%]  Si [%]  S [%]  P [%]  Mg [%]  Mn [%]  Ni [%]  \\\n",
       "0           0         1    3.4    2.41  0.017  0.015   0.064    0.15   0.001   \n",
       "1           1         1    3.4    2.41  0.017  0.015   0.064    0.15   0.001   \n",
       "2           2         1    3.4    2.41  0.017  0.015   0.064    0.15   0.001   \n",
       "3           3         1    3.4    2.41  0.017  0.015   0.064    0.15   0.001   \n",
       "4           4         1    3.4    2.41  0.017  0.015   0.064    0.15   0.001   \n",
       "\n",
       "   Cu [%]  ...  A5 [%]  Twardość Brinella [HB]  Twardość Rockwella [HRC]  \\\n",
       "0     0.0  ...     NaN                     NaN                       NaN   \n",
       "1     0.0  ...     NaN                     NaN                       NaN   \n",
       "2     0.0  ...    10.5                     NaN                       NaN   \n",
       "3     0.0  ...     9.6                     NaN                       NaN   \n",
       "4     0.0  ...     NaN                     NaN                       NaN   \n",
       "\n",
       "   Twardość Rockwella [HRA]  Twardość Rockwella [HRB]  Twardość Vickersa [HV]  \\\n",
       "0                       NaN                       NaN                     NaN   \n",
       "1                       NaN                       NaN                     NaN   \n",
       "2                       NaN                       NaN                     NaN   \n",
       "3                       NaN                       NaN                     NaN   \n",
       "4                       NaN                       NaN                     NaN   \n",
       "\n",
       "   Udarność Charpy [J]  Temperatura pomiaru udarności [˚C]  \\\n",
       "0                  NaN                                 NaN   \n",
       "1                  NaN                                 NaN   \n",
       "2                  NaN                                 NaN   \n",
       "3                  NaN                                 NaN   \n",
       "4                  NaN                                 NaN   \n",
       "\n",
       "   Udział austenitu % Martensite volume fraction Xα'  \n",
       "0                28.7                            NaN  \n",
       "1                37.5                            NaN  \n",
       "2                32.0                            NaN  \n",
       "3                28.5                            NaN  \n",
       "4                26.2                            NaN  \n",
       "\n",
       "[5 rows x 42 columns]"
      ]
     },
     "execution_count": 26,
     "metadata": {},
     "output_type": "execute_result"
    }
   ],
   "source": [
    "df_uzup = pd.read_csv(\"dane-zeliwo-uzupelnienie.csv\")\n",
    "df_uzup.head()"
   ]
  },
  {
   "cell_type": "code",
   "execution_count": 27,
   "metadata": {},
   "outputs": [
    {
     "name": "stdout",
     "output_type": "stream",
     "text": [
      "<class 'pandas.core.frame.DataFrame'>\n",
      "RangeIndex: 1508 entries, 0 to 1507\n",
      "Data columns (total 42 columns):\n",
      "Unnamed: 0                                  1508 non-null int64\n",
      "Nr źródła                                   1505 non-null object\n",
      "C [%]                                       1508 non-null float64\n",
      "Si [%]                                      1508 non-null float64\n",
      "S [%]                                       1508 non-null float64\n",
      "P [%]                                       1508 non-null float64\n",
      "Mg [%]                                      1508 non-null float64\n",
      "Mn [%]                                      1508 non-null float64\n",
      "Ni [%]                                      1508 non-null float64\n",
      "Cu [%]                                      1508 non-null float64\n",
      "Mo [%]                                      1508 non-null float64\n",
      "Cr [%]                                      1508 non-null float64\n",
      "Al [%]                                      1508 non-null float64\n",
      "Sn [%]                                      1508 non-null float64\n",
      "B [%]                                       1508 non-null float64\n",
      "V [%]                                       1508 non-null float64\n",
      "Wydzielenia grafitu [mm-2]                  532 non-null float64\n",
      "Udział wydzieleń grafitu [%]                137 non-null float64\n",
      "Średnica sferoidów [μm]                     180 non-null float64\n",
      "Wielkość sferoidów                          39 non-null object\n",
      "Nodularity [%]                              166 non-null float64\n",
      "Udział perlitu [%]                          175 non-null float64\n",
      "Udział ferrytu [%]                          196 non-null float64\n",
      "Rm [MPa] (as cast)                          1508 non-null float64\n",
      "A5 [%]     (as cast)                        1508 non-null float64\n",
      "Minimalna grubość ścianki [mm]              558 non-null float64\n",
      "Temperatura austenityzacji [˚C]             1416 non-null float64\n",
      "Czas austenityzacji [min.]                  1389 non-null float64\n",
      "Temperatura przemiany izotermicznej [˚C]    1419 non-null float64\n",
      "Czas przemiany izotermicznej [min.]         1412 non-null float64\n",
      "Rm [MPa]                                    1094 non-null float64\n",
      "R0,2 [MPa]                                  844 non-null float64\n",
      "A5 [%]                                      968 non-null float64\n",
      "Twardość Brinella [HB]                      416 non-null float64\n",
      "Twardość Rockwella [HRC]                    435 non-null float64\n",
      "Twardość Rockwella [HRA]                    12 non-null float64\n",
      "Twardość Rockwella [HRB]                    0 non-null float64\n",
      "Twardość Vickersa [HV]                      188 non-null float64\n",
      "Udarność Charpy [J]                         338 non-null float64\n",
      "Temperatura pomiaru udarności [˚C]          312 non-null float64\n",
      "Udział austenitu %                          295 non-null float64\n",
      "Martensite volume fraction Xα'              49 non-null float64\n",
      "dtypes: float64(39), int64(1), object(2)\n",
      "memory usage: 494.9+ KB\n"
     ]
    }
   ],
   "source": [
    "df_uzup.info()"
   ]
  },
  {
   "cell_type": "markdown",
   "metadata": {},
   "source": [
    "## Do zrobienia:\n",
    "\n",
    "Uzupełnienie reszty kolumn"
   ]
  },
  {
   "cell_type": "code",
   "execution_count": null,
   "metadata": {},
   "outputs": [],
   "source": []
  }
 ],
 "metadata": {
  "kernelspec": {
   "display_name": "Python 3",
   "language": "python",
   "name": "python3"
  },
  "language_info": {
   "codemirror_mode": {
    "name": "ipython",
    "version": 3
   },
   "file_extension": ".py",
   "mimetype": "text/x-python",
   "name": "python",
   "nbconvert_exporter": "python",
   "pygments_lexer": "ipython3",
   "version": "3.6.9"
  }
 },
 "nbformat": 4,
 "nbformat_minor": 2
}
