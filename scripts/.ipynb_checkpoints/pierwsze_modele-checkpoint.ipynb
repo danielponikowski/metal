{
 "cells": [
  {
   "cell_type": "code",
   "execution_count": 141,
   "metadata": {},
   "outputs": [],
   "source": [
    "import pandas as pd\n",
    "import numpy as np"
   ]
  },
  {
   "cell_type": "code",
   "execution_count": 142,
   "metadata": {},
   "outputs": [],
   "source": [
    "dane = pd.read_csv(\"../data/dane-zeliwo-uzupelnienie_tw.csv\")"
   ]
  },
  {
   "cell_type": "code",
   "execution_count": 143,
   "metadata": {},
   "outputs": [],
   "source": [
    "del dane['Unnamed: 0']"
   ]
  },
  {
   "cell_type": "code",
   "execution_count": 144,
   "metadata": {},
   "outputs": [
    {
     "data": {
      "text/html": [
       "<div>\n",
       "<style scoped>\n",
       "    .dataframe tbody tr th:only-of-type {\n",
       "        vertical-align: middle;\n",
       "    }\n",
       "\n",
       "    .dataframe tbody tr th {\n",
       "        vertical-align: top;\n",
       "    }\n",
       "\n",
       "    .dataframe thead th {\n",
       "        text-align: right;\n",
       "    }\n",
       "</style>\n",
       "<table border=\"1\" class=\"dataframe\">\n",
       "  <thead>\n",
       "    <tr style=\"text-align: right;\">\n",
       "      <th></th>\n",
       "      <th>Nr źródła</th>\n",
       "      <th>C [%]</th>\n",
       "      <th>Si [%]</th>\n",
       "      <th>S [%]</th>\n",
       "      <th>P [%]</th>\n",
       "      <th>Mg [%]</th>\n",
       "      <th>Mn [%]</th>\n",
       "      <th>Ni [%]</th>\n",
       "      <th>Cu [%]</th>\n",
       "      <th>Mo [%]</th>\n",
       "      <th>...</th>\n",
       "      <th>A5 [%]</th>\n",
       "      <th>Twardość Brinella [HB]</th>\n",
       "      <th>Twardość Rockwella [HRC]</th>\n",
       "      <th>Twardość Rockwella [HRA]</th>\n",
       "      <th>Twardość Rockwella [HRB]</th>\n",
       "      <th>Twardość Vickersa [HV]</th>\n",
       "      <th>Udarność Charpy [J]</th>\n",
       "      <th>Temperatura pomiaru udarności [˚C]</th>\n",
       "      <th>Udział austenitu %</th>\n",
       "      <th>Martensite volume fraction Xα'</th>\n",
       "    </tr>\n",
       "  </thead>\n",
       "  <tbody>\n",
       "    <tr>\n",
       "      <th>0</th>\n",
       "      <td>1</td>\n",
       "      <td>3.4</td>\n",
       "      <td>2.41</td>\n",
       "      <td>0.017</td>\n",
       "      <td>0.015</td>\n",
       "      <td>0.064</td>\n",
       "      <td>0.15</td>\n",
       "      <td>0.001</td>\n",
       "      <td>0.0</td>\n",
       "      <td>0.001</td>\n",
       "      <td>...</td>\n",
       "      <td>NaN</td>\n",
       "      <td>NaN</td>\n",
       "      <td>NaN</td>\n",
       "      <td>NaN</td>\n",
       "      <td>NaN</td>\n",
       "      <td>NaN</td>\n",
       "      <td>NaN</td>\n",
       "      <td>NaN</td>\n",
       "      <td>28.7</td>\n",
       "      <td>NaN</td>\n",
       "    </tr>\n",
       "    <tr>\n",
       "      <th>1</th>\n",
       "      <td>1</td>\n",
       "      <td>3.4</td>\n",
       "      <td>2.41</td>\n",
       "      <td>0.017</td>\n",
       "      <td>0.015</td>\n",
       "      <td>0.064</td>\n",
       "      <td>0.15</td>\n",
       "      <td>0.001</td>\n",
       "      <td>0.0</td>\n",
       "      <td>0.001</td>\n",
       "      <td>...</td>\n",
       "      <td>NaN</td>\n",
       "      <td>NaN</td>\n",
       "      <td>NaN</td>\n",
       "      <td>NaN</td>\n",
       "      <td>NaN</td>\n",
       "      <td>NaN</td>\n",
       "      <td>NaN</td>\n",
       "      <td>NaN</td>\n",
       "      <td>37.5</td>\n",
       "      <td>NaN</td>\n",
       "    </tr>\n",
       "    <tr>\n",
       "      <th>2</th>\n",
       "      <td>1</td>\n",
       "      <td>3.4</td>\n",
       "      <td>2.41</td>\n",
       "      <td>0.017</td>\n",
       "      <td>0.015</td>\n",
       "      <td>0.064</td>\n",
       "      <td>0.15</td>\n",
       "      <td>0.001</td>\n",
       "      <td>0.0</td>\n",
       "      <td>0.001</td>\n",
       "      <td>...</td>\n",
       "      <td>10.5</td>\n",
       "      <td>NaN</td>\n",
       "      <td>NaN</td>\n",
       "      <td>NaN</td>\n",
       "      <td>NaN</td>\n",
       "      <td>NaN</td>\n",
       "      <td>NaN</td>\n",
       "      <td>NaN</td>\n",
       "      <td>32.0</td>\n",
       "      <td>NaN</td>\n",
       "    </tr>\n",
       "    <tr>\n",
       "      <th>3</th>\n",
       "      <td>1</td>\n",
       "      <td>3.4</td>\n",
       "      <td>2.41</td>\n",
       "      <td>0.017</td>\n",
       "      <td>0.015</td>\n",
       "      <td>0.064</td>\n",
       "      <td>0.15</td>\n",
       "      <td>0.001</td>\n",
       "      <td>0.0</td>\n",
       "      <td>0.001</td>\n",
       "      <td>...</td>\n",
       "      <td>9.6</td>\n",
       "      <td>NaN</td>\n",
       "      <td>NaN</td>\n",
       "      <td>NaN</td>\n",
       "      <td>NaN</td>\n",
       "      <td>NaN</td>\n",
       "      <td>NaN</td>\n",
       "      <td>NaN</td>\n",
       "      <td>28.5</td>\n",
       "      <td>NaN</td>\n",
       "    </tr>\n",
       "    <tr>\n",
       "      <th>4</th>\n",
       "      <td>1</td>\n",
       "      <td>3.4</td>\n",
       "      <td>2.41</td>\n",
       "      <td>0.017</td>\n",
       "      <td>0.015</td>\n",
       "      <td>0.064</td>\n",
       "      <td>0.15</td>\n",
       "      <td>0.001</td>\n",
       "      <td>0.0</td>\n",
       "      <td>0.001</td>\n",
       "      <td>...</td>\n",
       "      <td>NaN</td>\n",
       "      <td>NaN</td>\n",
       "      <td>NaN</td>\n",
       "      <td>NaN</td>\n",
       "      <td>NaN</td>\n",
       "      <td>NaN</td>\n",
       "      <td>NaN</td>\n",
       "      <td>NaN</td>\n",
       "      <td>26.2</td>\n",
       "      <td>NaN</td>\n",
       "    </tr>\n",
       "  </tbody>\n",
       "</table>\n",
       "<p>5 rows × 41 columns</p>\n",
       "</div>"
      ],
      "text/plain": [
       "  Nr źródła  C [%]  Si [%]  S [%]  P [%]  Mg [%]  Mn [%]  Ni [%]  Cu [%]  \\\n",
       "0         1    3.4    2.41  0.017  0.015   0.064    0.15   0.001     0.0   \n",
       "1         1    3.4    2.41  0.017  0.015   0.064    0.15   0.001     0.0   \n",
       "2         1    3.4    2.41  0.017  0.015   0.064    0.15   0.001     0.0   \n",
       "3         1    3.4    2.41  0.017  0.015   0.064    0.15   0.001     0.0   \n",
       "4         1    3.4    2.41  0.017  0.015   0.064    0.15   0.001     0.0   \n",
       "\n",
       "   Mo [%]  ...  A5 [%]  Twardość Brinella [HB]  Twardość Rockwella [HRC]  \\\n",
       "0   0.001  ...     NaN                     NaN                       NaN   \n",
       "1   0.001  ...     NaN                     NaN                       NaN   \n",
       "2   0.001  ...    10.5                     NaN                       NaN   \n",
       "3   0.001  ...     9.6                     NaN                       NaN   \n",
       "4   0.001  ...     NaN                     NaN                       NaN   \n",
       "\n",
       "   Twardość Rockwella [HRA]  Twardość Rockwella [HRB]  Twardość Vickersa [HV]  \\\n",
       "0                       NaN                       NaN                     NaN   \n",
       "1                       NaN                       NaN                     NaN   \n",
       "2                       NaN                       NaN                     NaN   \n",
       "3                       NaN                       NaN                     NaN   \n",
       "4                       NaN                       NaN                     NaN   \n",
       "\n",
       "   Udarność Charpy [J]  Temperatura pomiaru udarności [˚C] Udział austenitu %  \\\n",
       "0                  NaN                                 NaN               28.7   \n",
       "1                  NaN                                 NaN               37.5   \n",
       "2                  NaN                                 NaN               32.0   \n",
       "3                  NaN                                 NaN               28.5   \n",
       "4                  NaN                                 NaN               26.2   \n",
       "\n",
       "   Martensite volume fraction Xα'  \n",
       "0                             NaN  \n",
       "1                             NaN  \n",
       "2                             NaN  \n",
       "3                             NaN  \n",
       "4                             NaN  \n",
       "\n",
       "[5 rows x 41 columns]"
      ]
     },
     "execution_count": 144,
     "metadata": {},
     "output_type": "execute_result"
    }
   ],
   "source": [
    "dane.head()"
   ]
  },
  {
   "cell_type": "code",
   "execution_count": 145,
   "metadata": {},
   "outputs": [
    {
     "name": "stdout",
     "output_type": "stream",
     "text": [
      "<class 'pandas.core.frame.DataFrame'>\n",
      "RangeIndex: 1508 entries, 0 to 1507\n",
      "Data columns (total 41 columns):\n",
      "Nr źródła                                   1505 non-null object\n",
      "C [%]                                       1508 non-null float64\n",
      "Si [%]                                      1508 non-null float64\n",
      "S [%]                                       1508 non-null float64\n",
      "P [%]                                       1508 non-null float64\n",
      "Mg [%]                                      1508 non-null float64\n",
      "Mn [%]                                      1508 non-null float64\n",
      "Ni [%]                                      1508 non-null float64\n",
      "Cu [%]                                      1508 non-null float64\n",
      "Mo [%]                                      1508 non-null float64\n",
      "Cr [%]                                      1508 non-null float64\n",
      "Al [%]                                      1508 non-null float64\n",
      "Sn [%]                                      1508 non-null float64\n",
      "B [%]                                       1508 non-null float64\n",
      "V [%]                                       1508 non-null float64\n",
      "Wydzielenia grafitu [mm-2]                  532 non-null float64\n",
      "Udział wydzieleń grafitu [%]                137 non-null float64\n",
      "Średnica sferoidów [μm]                     180 non-null float64\n",
      "Wielkość sferoidów                          39 non-null object\n",
      "Nodularity [%]                              166 non-null float64\n",
      "Udział perlitu [%]                          175 non-null float64\n",
      "Udział ferrytu [%]                          196 non-null float64\n",
      "Rm [MPa] (as cast)                          1508 non-null float64\n",
      "A5 [%]     (as cast)                        1508 non-null float64\n",
      "Minimalna grubość ścianki [mm]              558 non-null float64\n",
      "Temperatura austenityzacji [˚C]             1416 non-null float64\n",
      "Czas austenityzacji [min.]                  1389 non-null float64\n",
      "Temperatura przemiany izotermicznej [˚C]    1419 non-null float64\n",
      "Czas przemiany izotermicznej [min.]         1412 non-null float64\n",
      "Rm [MPa]                                    1094 non-null float64\n",
      "R0,2 [MPa]                                  844 non-null float64\n",
      "A5 [%]                                      968 non-null float64\n",
      "Twardość Brinella [HB]                      962 non-null float64\n",
      "Twardość Rockwella [HRC]                    435 non-null float64\n",
      "Twardość Rockwella [HRA]                    12 non-null float64\n",
      "Twardość Rockwella [HRB]                    0 non-null float64\n",
      "Twardość Vickersa [HV]                      188 non-null float64\n",
      "Udarność Charpy [J]                         338 non-null float64\n",
      "Temperatura pomiaru udarności [˚C]          312 non-null float64\n",
      "Udział austenitu %                          295 non-null float64\n",
      "Martensite volume fraction Xα'              49 non-null float64\n",
      "dtypes: float64(39), object(2)\n",
      "memory usage: 483.2+ KB\n"
     ]
    }
   ],
   "source": [
    "dane.info()"
   ]
  },
  {
   "cell_type": "markdown",
   "metadata": {},
   "source": [
    "# Dane  z których skorzystam (narazie uzupełnione):\n",
    "\n",
    "C [%], Si [%], S [%], P [%], Mg [%], Mn [%], Ni [%], Cu [%], Mo [%], Cr [%], Al [%], Sn [%], B [%], V [%],\n",
    "Rm [MPa] (as cast),A5 [%] (as cast), Temperatura austenityzacji [˚C], Czas austenityzacji [min.], Temperatura przemiany izotermicznej [˚C], Czas przemiany izotermicznej [min.]         "
   ]
  },
  {
   "cell_type": "code",
   "execution_count": 153,
   "metadata": {},
   "outputs": [],
   "source": [
    "X = dane.loc[:,[i for i in dane.columns[1:15]] + [i for i in dane.columns[22:24]] +\n",
    "             [i for i in dane.columns[25:29]] + [dane.columns[32]]].copy()\n",
    "\n",
    "X = X.loc[~np.isnan(X['Twardość Brinella [HB]']),:]"
   ]
  },
  {
   "cell_type": "code",
   "execution_count": 158,
   "metadata": {},
   "outputs": [],
   "source": [
    "X = X.fillna(X.median())"
   ]
  },
  {
   "cell_type": "code",
   "execution_count": 161,
   "metadata": {},
   "outputs": [
    {
     "data": {
      "text/plain": [
       "(962, 21)"
      ]
     },
     "execution_count": 161,
     "metadata": {},
     "output_type": "execute_result"
    }
   ],
   "source": [
    "X.shape"
   ]
  },
  {
   "cell_type": "code",
   "execution_count": 162,
   "metadata": {},
   "outputs": [
    {
     "data": {
      "text/plain": [
       "((962, 20), (962,))"
      ]
     },
     "execution_count": 162,
     "metadata": {},
     "output_type": "execute_result"
    }
   ],
   "source": [
    "y = X['Twardość Brinella [HB]']\n",
    "del X['Twardość Brinella [HB]']\n",
    "X.shape, y.shape"
   ]
  },
  {
   "cell_type": "markdown",
   "metadata": {},
   "source": [
    "## NN"
   ]
  },
  {
   "cell_type": "code",
   "execution_count": 163,
   "metadata": {},
   "outputs": [],
   "source": [
    "from sklearn.preprocessing import StandardScaler\n",
    "sc = StandardScaler()\n",
    "X_nn = sc.fit_transform(X.copy())"
   ]
  },
  {
   "cell_type": "code",
   "execution_count": null,
   "metadata": {},
   "outputs": [],
   "source": []
  },
  {
   "cell_type": "code",
   "execution_count": 164,
   "metadata": {},
   "outputs": [
    {
     "data": {
      "text/plain": [
       "((865, 20), (865,), (87, 20), (87,), (10, 20), (10,))"
      ]
     },
     "execution_count": 164,
     "metadata": {},
     "output_type": "execute_result"
    }
   ],
   "source": [
    "from sklearn.model_selection import train_test_split\n",
    "import random\n",
    "random.seed(30)\n",
    "X_train,X_test,y_train,y_test = train_test_split(X_nn,y,test_size = 0.1)\n",
    "X_test,X_valid,y_test,y_valid = train_test_split(X_test,y_test,test_size = 0.1)\n",
    "X_train.shape,y_train.shape,X_test.shape,y_test.shape,X_valid.shape,y_valid.shape"
   ]
  },
  {
   "cell_type": "markdown",
   "metadata": {},
   "source": [
    "20 zmiennych - 930 obserwacji - całość"
   ]
  },
  {
   "cell_type": "code",
   "execution_count": 185,
   "metadata": {
    "scrolled": true
   },
   "outputs": [
    {
     "name": "stdout",
     "output_type": "stream",
     "text": [
      "Epoch 1/5\n",
      "865/865 [==============================] - 0s 75us/step - loss: 99.9949 - mae: 343.1465\n",
      "Epoch 2/5\n",
      "865/865 [==============================] - 0s 17us/step - loss: 99.9821 - mae: 343.1042\n",
      "Epoch 3/5\n",
      "865/865 [==============================] - 0s 18us/step - loss: 99.9692 - mae: 343.0616\n",
      "Epoch 4/5\n",
      "865/865 [==============================] - 0s 21us/step - loss: 99.9562 - mae: 343.0189\n",
      "Epoch 5/5\n",
      "865/865 [==============================] - 0s 19us/step - loss: 99.9433 - mae: 342.9761\n",
      "Epoch 1/5\n",
      "865/865 [==============================] - 0s 16us/step - loss: 99.9304 - mae: 342.9333\n",
      "Epoch 2/5\n",
      "865/865 [==============================] - 0s 17us/step - loss: 99.9174 - mae: 342.8907\n",
      "Epoch 3/5\n",
      "865/865 [==============================] - 0s 17us/step - loss: 99.9045 - mae: 342.8478\n",
      "Epoch 4/5\n",
      "865/865 [==============================] - 0s 17us/step - loss: 99.8915 - mae: 342.8050\n",
      "Epoch 5/5\n",
      "865/865 [==============================] - 0s 20us/step - loss: 99.8786 - mae: 342.7624\n",
      "Epoch 1/5\n",
      "865/865 [==============================] - 0s 19us/step - loss: 99.8656 - mae: 342.7194\n",
      "Epoch 2/5\n",
      "865/865 [==============================] - 0s 20us/step - loss: 99.8527 - mae: 342.6768\n",
      "Epoch 3/5\n",
      "865/865 [==============================] - 0s 17us/step - loss: 99.8397 - mae: 342.6338\n",
      "Epoch 4/5\n",
      "865/865 [==============================] - 0s 18us/step - loss: 99.8267 - mae: 342.5909\n",
      "Epoch 5/5\n",
      "865/865 [==============================] - 0s 18us/step - loss: 99.8137 - mae: 342.5480\n",
      "Epoch 1/5\n",
      "865/865 [==============================] - 0s 16us/step - loss: 99.8007 - mae: 342.5049\n",
      "Epoch 2/5\n",
      "865/865 [==============================] - 0s 17us/step - loss: 99.7876 - mae: 342.4619\n",
      "Epoch 3/5\n",
      "865/865 [==============================] - 0s 18us/step - loss: 99.7746 - mae: 342.4186\n",
      "Epoch 4/5\n",
      "865/865 [==============================] - 0s 16us/step - loss: 99.7615 - mae: 342.3757\n",
      "Epoch 5/5\n",
      "865/865 [==============================] - 0s 18us/step - loss: 99.7485 - mae: 342.3325\n",
      "Epoch 1/5\n",
      "865/865 [==============================] - 0s 17us/step - loss: 99.7354 - mae: 342.2894\n",
      "Epoch 2/5\n",
      "865/865 [==============================] - 0s 18us/step - loss: 99.7222 - mae: 342.2459\n",
      "Epoch 3/5\n",
      "865/865 [==============================] - 0s 18us/step - loss: 99.7091 - mae: 342.2024\n",
      "Epoch 4/5\n",
      "865/865 [==============================] - 0s 18us/step - loss: 99.6959 - mae: 342.1589\n",
      "Epoch 5/5\n",
      "865/865 [==============================] - 0s 18us/step - loss: 99.6827 - mae: 342.1152\n",
      "Epoch 1/5\n",
      "865/865 [==============================] - 0s 19us/step - loss: 99.6695 - mae: 342.0715\n",
      "Epoch 2/5\n",
      "865/865 [==============================] - 0s 17us/step - loss: 99.6562 - mae: 342.0276\n",
      "Epoch 3/5\n",
      "865/865 [==============================] - 0s 17us/step - loss: 99.6428 - mae: 341.9835\n",
      "Epoch 4/5\n",
      "865/865 [==============================] - 0s 17us/step - loss: 99.6295 - mae: 341.9393\n",
      "Epoch 5/5\n",
      "865/865 [==============================] - 0s 17us/step - loss: 99.6161 - mae: 341.8952\n",
      "Epoch 1/5\n",
      "865/865 [==============================] - 0s 18us/step - loss: 99.6026 - mae: 341.8505\n",
      "Epoch 2/5\n",
      "865/865 [==============================] - 0s 17us/step - loss: 99.5891 - mae: 341.8059\n",
      "Epoch 3/5\n",
      "865/865 [==============================] - 0s 18us/step - loss: 99.5755 - mae: 341.7610\n",
      "Epoch 4/5\n",
      "865/865 [==============================] - 0s 17us/step - loss: 99.5618 - mae: 341.7157\n",
      "Epoch 5/5\n",
      "865/865 [==============================] - 0s 18us/step - loss: 99.5481 - mae: 341.6706\n",
      "Epoch 1/5\n",
      "865/865 [==============================] - 0s 17us/step - loss: 99.5343 - mae: 341.6249\n",
      "Epoch 2/5\n",
      "865/865 [==============================] - 0s 17us/step - loss: 99.5204 - mae: 341.5790\n",
      "Epoch 3/5\n",
      "865/865 [==============================] - 0s 18us/step - loss: 99.5063 - mae: 341.5324\n",
      "Epoch 4/5\n",
      "865/865 [==============================] - 0s 17us/step - loss: 99.4922 - mae: 341.4861\n",
      "Epoch 5/5\n",
      "865/865 [==============================] - 0s 19us/step - loss: 99.4780 - mae: 341.4389\n",
      "Epoch 1/5\n",
      "865/865 [==============================] - 0s 16us/step - loss: 99.4636 - mae: 341.3915\n",
      "Epoch 2/5\n",
      "865/865 [==============================] - 0s 17us/step - loss: 99.4491 - mae: 341.3436\n",
      "Epoch 3/5\n",
      "865/865 [==============================] - 0s 19us/step - loss: 99.4344 - mae: 341.2951\n",
      "Epoch 4/5\n",
      "865/865 [==============================] - 0s 17us/step - loss: 99.4195 - mae: 341.2458\n",
      "Epoch 5/5\n",
      "865/865 [==============================] - 0s 17us/step - loss: 99.4045 - mae: 341.1962\n",
      "Epoch 1/5\n",
      "865/865 [==============================] - 0s 20us/step - loss: 99.3893 - mae: 341.1459\n",
      "Epoch 2/5\n",
      "865/865 [==============================] - 0s 17us/step - loss: 99.3739 - mae: 341.0949\n",
      "Epoch 3/5\n",
      "865/865 [==============================] - 0s 16us/step - loss: 99.3582 - mae: 341.0430\n",
      "Epoch 4/5\n",
      "865/865 [==============================] - 0s 16us/step - loss: 99.3422 - mae: 340.9903\n",
      "Epoch 5/5\n",
      "865/865 [==============================] - 0s 16us/step - loss: 99.3259 - mae: 340.9366\n",
      "Epoch 1/5\n",
      "865/865 [==============================] - 0s 23us/step - loss: 99.3093 - mae: 340.8817\n",
      "Epoch 2/5\n",
      "865/865 [==============================] - 0s 16us/step - loss: 99.2923 - mae: 340.8256\n",
      "Epoch 3/5\n",
      "865/865 [==============================] - 0s 22us/step - loss: 99.2750 - mae: 340.7683\n",
      "Epoch 4/5\n",
      "865/865 [==============================] - 0s 18us/step - loss: 99.2572 - mae: 340.7096\n",
      "Epoch 5/5\n",
      "865/865 [==============================] - 0s 21us/step - loss: 99.2389 - mae: 340.6492\n",
      "Epoch 1/5\n",
      "865/865 [==============================] - 0s 26us/step - loss: 99.2201 - mae: 340.5872\n",
      "Epoch 2/5\n",
      "865/865 [==============================] - 0s 30us/step - loss: 99.2007 - mae: 340.5230\n",
      "Epoch 3/5\n",
      "865/865 [==============================] - 0s 24us/step - loss: 99.1808 - mae: 340.4569\n",
      "Epoch 4/5\n",
      "865/865 [==============================] - 0s 18us/step - loss: 99.1601 - mae: 340.3886\n",
      "Epoch 5/5\n",
      "865/865 [==============================] - 0s 18us/step - loss: 99.1386 - mae: 340.3178\n",
      "Epoch 1/5\n",
      "865/865 [==============================] - 0s 16us/step - loss: 99.1163 - mae: 340.2439\n",
      "Epoch 2/5\n",
      "865/865 [==============================] - 0s 17us/step - loss: 99.0930 - mae: 340.1673\n",
      "Epoch 3/5\n",
      "865/865 [==============================] - 0s 15us/step - loss: 99.0686 - mae: 340.0868\n",
      "Epoch 4/5\n",
      "865/865 [==============================] - 0s 14us/step - loss: 99.0431 - mae: 340.0025\n",
      "Epoch 5/5\n",
      "865/865 [==============================] - 0s 15us/step - loss: 99.0161 - mae: 339.9130\n",
      "Epoch 1/5\n",
      "865/865 [==============================] - 0s 16us/step - loss: 98.9878 - mae: 339.8201\n",
      "Epoch 2/5\n",
      "865/865 [==============================] - 0s 15us/step - loss: 98.9577 - mae: 339.7202\n",
      "Epoch 3/5\n",
      "865/865 [==============================] - 0s 15us/step - loss: 98.9257 - mae: 339.6147\n",
      "Epoch 4/5\n",
      "865/865 [==============================] - 0s 16us/step - loss: 98.8917 - mae: 339.5022\n",
      "Epoch 5/5\n",
      "865/865 [==============================] - 0s 15us/step - loss: 98.8552 - mae: 339.3820\n",
      "Epoch 1/5\n",
      "865/865 [==============================] - 0s 18us/step - loss: 98.8158 - mae: 339.2519\n",
      "Epoch 2/5\n",
      "865/865 [==============================] - 0s 17us/step - loss: 98.7733 - mae: 339.1115\n",
      "Epoch 3/5\n",
      "865/865 [==============================] - 0s 15us/step - loss: 98.7269 - mae: 338.9591\n",
      "Epoch 4/5\n",
      "865/865 [==============================] - 0s 17us/step - loss: 98.6760 - mae: 338.7909\n",
      "Epoch 5/5\n",
      "865/865 [==============================] - 0s 15us/step - loss: 98.6201 - mae: 338.6068\n",
      "Epoch 1/5\n",
      "865/865 [==============================] - 0s 16us/step - loss: 98.5581 - mae: 338.4023\n",
      "Epoch 2/5\n",
      "865/865 [==============================] - 0s 15us/step - loss: 98.4888 - mae: 338.1747\n",
      "Epoch 3/5\n",
      "865/865 [==============================] - 0s 16us/step - loss: 98.4105 - mae: 337.9173\n",
      "Epoch 4/5\n",
      "865/865 [==============================] - 0s 15us/step - loss: 98.3213 - mae: 337.6234\n",
      "Epoch 5/5\n",
      "865/865 [==============================] - 0s 17us/step - loss: 98.2185 - mae: 337.2848\n",
      "Epoch 1/5\n",
      "865/865 [==============================] - 0s 16us/step - loss: 98.0988 - mae: 336.8920\n",
      "Epoch 2/5\n",
      "865/865 [==============================] - 0s 17us/step - loss: 97.9580 - mae: 336.4294\n",
      "Epoch 3/5\n",
      "865/865 [==============================] - 0s 15us/step - loss: 97.7899 - mae: 335.8776\n",
      "Epoch 4/5\n"
     ]
    },
    {
     "name": "stdout",
     "output_type": "stream",
     "text": [
      "865/865 [==============================] - 0s 14us/step - loss: 97.5867 - mae: 335.2122\n",
      "Epoch 5/5\n",
      "865/865 [==============================] - 0s 14us/step - loss: 97.3366 - mae: 334.3911\n",
      "Epoch 1/5\n",
      "865/865 [==============================] - 0s 15us/step - loss: 97.0232 - mae: 333.3623\n",
      "Epoch 2/5\n",
      "865/865 [==============================] - 0s 15us/step - loss: 96.6261 - mae: 332.0618\n",
      "Epoch 3/5\n",
      "865/865 [==============================] - 0s 14us/step - loss: 96.1137 - mae: 330.3836\n",
      "Epoch 4/5\n",
      "865/865 [==============================] - 0s 15us/step - loss: 95.4362 - mae: 328.1583\n",
      "Epoch 5/5\n",
      "865/865 [==============================] - 0s 17us/step - loss: 94.5274 - mae: 325.1842\n",
      "Epoch 1/5\n",
      "865/865 [==============================] - 0s 15us/step - loss: 93.2838 - mae: 321.0927\n",
      "Epoch 2/5\n",
      "865/865 [==============================] - 0s 16us/step - loss: 91.5427 - mae: 315.3739\n",
      "Epoch 3/5\n",
      "865/865 [==============================] - 0s 16us/step - loss: 89.0618 - mae: 307.2367\n",
      "Epoch 4/5\n",
      "865/865 [==============================] - 0s 16us/step - loss: 85.4158 - mae: 295.2422\n",
      "Epoch 5/5\n",
      "865/865 [==============================] - 0s 17us/step - loss: 79.9285 - mae: 277.1674\n",
      "Epoch 1/5\n",
      "865/865 [==============================] - 0s 16us/step - loss: 71.4095 - mae: 249.1105\n",
      "Epoch 2/5\n",
      "865/865 [==============================] - 0s 16us/step - loss: 57.6119 - mae: 203.7297\n",
      "Epoch 3/5\n",
      "865/865 [==============================] - 0s 17us/step - loss: 36.0954 - mae: 131.2603\n",
      "Epoch 4/5\n",
      "865/865 [==============================] - 0s 16us/step - loss: 17.6158 - mae: 64.1404\n",
      "Epoch 5/5\n",
      "865/865 [==============================] - 0s 15us/step - loss: 13.6705 - mae: 48.5395\n",
      "Epoch 1/5\n",
      "865/865 [==============================] - 0s 20us/step - loss: 11.9393 - mae: 42.1262\n",
      "Epoch 2/5\n",
      "865/865 [==============================] - 0s 17us/step - loss: 11.1908 - mae: 38.8205\n",
      "Epoch 3/5\n",
      "865/865 [==============================] - 0s 24us/step - loss: 10.9048 - mae: 37.4607\n",
      "Epoch 4/5\n",
      "865/865 [==============================] - 0s 16us/step - loss: 10.7862 - mae: 36.8184\n",
      "Epoch 5/5\n",
      "865/865 [==============================] - 0s 16us/step - loss: 10.6798 - mae: 36.5446\n",
      "Epoch 1/5\n",
      "865/865 [==============================] - 0s 29us/step - loss: 10.6282 - mae: 36.0097\n",
      "Epoch 2/5\n",
      "865/865 [==============================] - 0s 24us/step - loss: 10.5635 - mae: 35.8931\n",
      "Epoch 3/5\n",
      "865/865 [==============================] - 0s 18us/step - loss: 10.5558 - mae: 35.6567\n",
      "Epoch 4/5\n",
      "865/865 [==============================] - 0s 20us/step - loss: 10.5344 - mae: 35.8368\n",
      "Epoch 5/5\n",
      "865/865 [==============================] - 0s 20us/step - loss: 10.5104 - mae: 35.6306\n",
      "Epoch 1/5\n",
      "865/865 [==============================] - 0s 19us/step - loss: 10.4575 - mae: 35.2376\n",
      "Epoch 2/5\n",
      "865/865 [==============================] - 0s 19us/step - loss: 10.4686 - mae: 35.4354\n",
      "Epoch 3/5\n",
      "865/865 [==============================] - 0s 17us/step - loss: 10.3978 - mae: 35.0417\n",
      "Epoch 4/5\n",
      "865/865 [==============================] - 0s 19us/step - loss: 10.3934 - mae: 35.2813\n",
      "Epoch 5/5\n",
      "865/865 [==============================] - 0s 19us/step - loss: 10.3269 - mae: 34.9318\n",
      "Epoch 1/5\n",
      "865/865 [==============================] - 0s 15us/step - loss: 10.3435 - mae: 35.2143\n",
      "Epoch 2/5\n",
      "865/865 [==============================] - 0s 15us/step - loss: 10.2201 - mae: 34.6639\n",
      "Epoch 3/5\n",
      "865/865 [==============================] - 0s 16us/step - loss: 10.1448 - mae: 34.4886\n",
      "Epoch 4/5\n",
      "865/865 [==============================] - 0s 16us/step - loss: 10.0028 - mae: 33.9045\n",
      "Epoch 5/5\n",
      "865/865 [==============================] - 0s 16us/step - loss: 9.9903 - mae: 34.0892\n",
      "Epoch 1/5\n",
      "865/865 [==============================] - 0s 21us/step - loss: 9.9505 - mae: 34.0444\n",
      "Epoch 2/5\n",
      "865/865 [==============================] - 0s 19us/step - loss: 9.8436 - mae: 33.4374\n",
      "Epoch 3/5\n",
      "865/865 [==============================] - 0s 18us/step - loss: 9.7754 - mae: 33.2224\n",
      "Epoch 4/5\n",
      "865/865 [==============================] - 0s 20us/step - loss: 9.6640 - mae: 32.7948\n",
      "Epoch 5/5\n",
      "865/865 [==============================] - 0s 20us/step - loss: 9.7270 - mae: 33.3675\n",
      "Epoch 1/5\n",
      "865/865 [==============================] - 0s 20us/step - loss: 9.6085 - mae: 32.9325\n",
      "Epoch 2/5\n",
      "865/865 [==============================] - 0s 21us/step - loss: 9.6313 - mae: 32.9587\n",
      "Epoch 3/5\n",
      "865/865 [==============================] - 0s 20us/step - loss: 9.5508 - mae: 32.5629\n",
      "Epoch 4/5\n",
      "865/865 [==============================] - 0s 20us/step - loss: 9.5279 - mae: 32.7578\n",
      "Epoch 5/5\n",
      "865/865 [==============================] - 0s 21us/step - loss: 9.5137 - mae: 32.6785\n",
      "Epoch 1/5\n",
      "865/865 [==============================] - 0s 19us/step - loss: 9.4382 - mae: 32.5105\n",
      "Epoch 2/5\n",
      "865/865 [==============================] - 0s 19us/step - loss: 9.4284 - mae: 32.5500\n",
      "Epoch 3/5\n",
      "865/865 [==============================] - 0s 16us/step - loss: 9.4486 - mae: 32.2658\n",
      "Epoch 4/5\n",
      "865/865 [==============================] - 0s 18us/step - loss: 9.3632 - mae: 32.2015\n",
      "Epoch 5/5\n",
      "865/865 [==============================] - 0s 17us/step - loss: 9.2736 - mae: 31.9051\n",
      "Epoch 1/5\n",
      "865/865 [==============================] - 0s 19us/step - loss: 9.4166 - mae: 32.5006\n",
      "Epoch 2/5\n",
      "865/865 [==============================] - 0s 19us/step - loss: 9.2505 - mae: 32.2009\n",
      "Epoch 3/5\n",
      "865/865 [==============================] - 0s 19us/step - loss: 9.2728 - mae: 31.8779\n",
      "Epoch 4/5\n",
      "865/865 [==============================] - 0s 25us/step - loss: 9.2507 - mae: 31.8483\n",
      "Epoch 5/5\n",
      "865/865 [==============================] - 0s 19us/step - loss: 9.2306 - mae: 31.8502\n",
      "Epoch 1/5\n",
      "865/865 [==============================] - 0s 20us/step - loss: 9.2558 - mae: 31.9494\n",
      "Epoch 2/5\n",
      "865/865 [==============================] - 0s 19us/step - loss: 9.1417 - mae: 31.5321\n",
      "Epoch 3/5\n",
      "865/865 [==============================] - 0s 18us/step - loss: 9.1248 - mae: 31.5018\n",
      "Epoch 4/5\n",
      "865/865 [==============================] - 0s 19us/step - loss: 9.1310 - mae: 31.4005\n",
      "Epoch 5/5\n",
      "865/865 [==============================] - 0s 18us/step - loss: 9.0904 - mae: 31.4531\n",
      "Epoch 1/5\n",
      "865/865 [==============================] - 0s 20us/step - loss: 9.0887 - mae: 31.4939\n",
      "Epoch 2/5\n",
      "865/865 [==============================] - 0s 19us/step - loss: 9.1199 - mae: 31.5411\n",
      "Epoch 3/5\n",
      "865/865 [==============================] - 0s 20us/step - loss: 9.1135 - mae: 31.5299\n",
      "Epoch 4/5\n",
      "865/865 [==============================] - 0s 19us/step - loss: 9.0438 - mae: 31.3183\n",
      "Epoch 5/5\n",
      "865/865 [==============================] - 0s 20us/step - loss: 9.0122 - mae: 31.1900\n",
      "Epoch 1/5\n",
      "865/865 [==============================] - 0s 21us/step - loss: 9.0338 - mae: 31.1008\n",
      "Epoch 2/5\n",
      "865/865 [==============================] - 0s 19us/step - loss: 9.0068 - mae: 31.2759\n",
      "Epoch 3/5\n",
      "865/865 [==============================] - 0s 22us/step - loss: 8.9899 - mae: 31.2084\n",
      "Epoch 4/5\n",
      "865/865 [==============================] - 0s 18us/step - loss: 8.9779 - mae: 30.9049\n",
      "Epoch 5/5\n",
      "865/865 [==============================] - 0s 20us/step - loss: 8.9248 - mae: 30.9538\n",
      "Epoch 1/5\n",
      "865/865 [==============================] - 0s 27us/step - loss: 8.9433 - mae: 30.8917\n",
      "Epoch 2/5\n",
      "865/865 [==============================] - 0s 26us/step - loss: 8.9364 - mae: 30.9818\n",
      "Epoch 3/5\n",
      "865/865 [==============================] - 0s 21us/step - loss: 8.8686 - mae: 30.6213\n",
      "Epoch 4/5\n",
      "865/865 [==============================] - 0s 20us/step - loss: 8.8683 - mae: 30.6014\n",
      "Epoch 5/5\n",
      "865/865 [==============================] - 0s 18us/step - loss: 8.7752 - mae: 30.4393\n",
      "Epoch 1/5\n",
      "865/865 [==============================] - 0s 17us/step - loss: 8.8218 - mae: 30.8136\n",
      "Epoch 2/5\n",
      "865/865 [==============================] - 0s 17us/step - loss: 8.7748 - mae: 30.4087\n",
      "Epoch 3/5\n",
      "865/865 [==============================] - 0s 17us/step - loss: 8.8566 - mae: 30.7545\n",
      "Epoch 4/5\n",
      "865/865 [==============================] - 0s 18us/step - loss: 8.8046 - mae: 30.5098\n",
      "Epoch 5/5\n",
      "865/865 [==============================] - 0s 17us/step - loss: 8.7611 - mae: 30.4194\n",
      "Epoch 1/5\n",
      "865/865 [==============================] - 0s 17us/step - loss: 8.7147 - mae: 30.2856\n",
      "Epoch 2/5\n",
      "865/865 [==============================] - 0s 17us/step - loss: 8.6739 - mae: 30.0943\n",
      "Epoch 3/5\n"
     ]
    },
    {
     "name": "stdout",
     "output_type": "stream",
     "text": [
      "865/865 [==============================] - 0s 17us/step - loss: 8.7696 - mae: 30.5751\n",
      "Epoch 4/5\n",
      "865/865 [==============================] - 0s 18us/step - loss: 8.7120 - mae: 30.3224\n",
      "Epoch 5/5\n",
      "865/865 [==============================] - 0s 17us/step - loss: 8.6738 - mae: 30.1348\n",
      "Epoch 1/5\n",
      "865/865 [==============================] - 0s 17us/step - loss: 8.6579 - mae: 30.0748\n",
      "Epoch 2/5\n",
      "865/865 [==============================] - 0s 16us/step - loss: 8.5894 - mae: 29.9082\n",
      "Epoch 3/5\n",
      "865/865 [==============================] - 0s 15us/step - loss: 8.6304 - mae: 29.9570\n",
      "Epoch 4/5\n",
      "865/865 [==============================] - 0s 16us/step - loss: 8.5414 - mae: 29.7368\n",
      "Epoch 5/5\n",
      "865/865 [==============================] - 0s 18us/step - loss: 8.6278 - mae: 30.1106\n",
      "Epoch 1/5\n",
      "865/865 [==============================] - 0s 16us/step - loss: 8.6196 - mae: 29.8643\n",
      "Epoch 2/5\n",
      "865/865 [==============================] - 0s 16us/step - loss: 8.5247 - mae: 29.7034\n",
      "Epoch 3/5\n",
      "865/865 [==============================] - 0s 16us/step - loss: 8.6225 - mae: 30.1482\n",
      "Epoch 4/5\n",
      "865/865 [==============================] - 0s 16us/step - loss: 8.5192 - mae: 29.8725\n",
      "Epoch 5/5\n",
      "865/865 [==============================] - 0s 15us/step - loss: 8.5076 - mae: 29.5523\n",
      "Epoch 1/5\n",
      "865/865 [==============================] - 0s 16us/step - loss: 8.4063 - mae: 29.4984\n",
      "Epoch 2/5\n",
      "865/865 [==============================] - 0s 15us/step - loss: 8.4591 - mae: 29.6445\n",
      "Epoch 3/5\n",
      "865/865 [==============================] - 0s 15us/step - loss: 8.4097 - mae: 29.1897\n",
      "Epoch 4/5\n",
      "865/865 [==============================] - 0s 15us/step - loss: 8.3480 - mae: 29.2058\n",
      "Epoch 5/5\n",
      "865/865 [==============================] - 0s 17us/step - loss: 8.3813 - mae: 29.5603\n",
      "Epoch 1/5\n",
      "865/865 [==============================] - 0s 21us/step - loss: 8.2834 - mae: 28.9896\n",
      "Epoch 2/5\n",
      "865/865 [==============================] - 0s 18us/step - loss: 8.2255 - mae: 28.7680\n",
      "Epoch 3/5\n",
      "865/865 [==============================] - 0s 17us/step - loss: 8.3336 - mae: 29.2338\n",
      "Epoch 4/5\n",
      "865/865 [==============================] - 0s 18us/step - loss: 8.2863 - mae: 29.2613\n",
      "Epoch 5/5\n",
      "865/865 [==============================] - 0s 21us/step - loss: 8.2982 - mae: 29.0860\n",
      "Epoch 1/5\n",
      "865/865 [==============================] - 0s 15us/step - loss: 8.2578 - mae: 28.9952\n",
      "Epoch 2/5\n",
      "865/865 [==============================] - 0s 17us/step - loss: 8.1780 - mae: 28.6049\n",
      "Epoch 3/5\n",
      "865/865 [==============================] - 0s 18us/step - loss: 8.2223 - mae: 28.7844\n",
      "Epoch 4/5\n",
      "865/865 [==============================] - 0s 18us/step - loss: 8.2299 - mae: 28.8762\n",
      "Epoch 5/5\n",
      "865/865 [==============================] - 0s 18us/step - loss: 8.2484 - mae: 28.8909\n",
      "Epoch 1/5\n",
      "865/865 [==============================] - 0s 16us/step - loss: 8.0878 - mae: 28.4039\n",
      "Epoch 2/5\n",
      "865/865 [==============================] - 0s 17us/step - loss: 8.2030 - mae: 28.8350\n",
      "Epoch 3/5\n",
      "865/865 [==============================] - 0s 17us/step - loss: 8.0510 - mae: 28.2718\n",
      "Epoch 4/5\n",
      "865/865 [==============================] - 0s 17us/step - loss: 8.1888 - mae: 28.8877\n",
      "Epoch 5/5\n",
      "865/865 [==============================] - 0s 16us/step - loss: 8.0284 - mae: 28.3184\n",
      "Epoch 1/5\n",
      "865/865 [==============================] - 0s 20us/step - loss: 8.0850 - mae: 28.4742\n",
      "Epoch 2/5\n",
      "865/865 [==============================] - 0s 18us/step - loss: 8.0312 - mae: 28.2195\n",
      "Epoch 3/5\n",
      "865/865 [==============================] - 0s 19us/step - loss: 8.0377 - mae: 28.2253\n",
      "Epoch 4/5\n",
      "865/865 [==============================] - 0s 16us/step - loss: 8.0904 - mae: 28.3882\n",
      "Epoch 5/5\n",
      "865/865 [==============================] - 0s 15us/step - loss: 8.0079 - mae: 28.1264\n",
      "Epoch 1/5\n",
      "865/865 [==============================] - 0s 25us/step - loss: 8.0836 - mae: 28.5437\n",
      "Epoch 2/5\n",
      "865/865 [==============================] - 0s 23us/step - loss: 8.0047 - mae: 28.0683\n",
      "Epoch 3/5\n",
      "865/865 [==============================] - 0s 23us/step - loss: 7.9576 - mae: 27.9040\n",
      "Epoch 4/5\n",
      "865/865 [==============================] - 0s 18us/step - loss: 8.0324 - mae: 28.2460\n",
      "Epoch 5/5\n",
      "865/865 [==============================] - 0s 18us/step - loss: 8.0251 - mae: 28.3206\n",
      "Epoch 1/5\n",
      "865/865 [==============================] - 0s 18us/step - loss: 7.9310 - mae: 27.9693\n",
      "Epoch 2/5\n",
      "865/865 [==============================] - 0s 20us/step - loss: 7.8988 - mae: 27.9312\n",
      "Epoch 3/5\n",
      "865/865 [==============================] - 0s 19us/step - loss: 7.8775 - mae: 27.8261\n",
      "Epoch 4/5\n",
      "865/865 [==============================] - 0s 17us/step - loss: 7.9654 - mae: 28.1632\n",
      "Epoch 5/5\n",
      "865/865 [==============================] - 0s 17us/step - loss: 7.9214 - mae: 27.9310\n",
      "Epoch 1/5\n",
      "865/865 [==============================] - 0s 14us/step - loss: 7.9596 - mae: 28.1336\n",
      "Epoch 2/5\n",
      "865/865 [==============================] - 0s 16us/step - loss: 7.8616 - mae: 27.8149\n",
      "Epoch 3/5\n",
      "865/865 [==============================] - 0s 13us/step - loss: 7.9349 - mae: 27.9212\n",
      "Epoch 4/5\n",
      "865/865 [==============================] - 0s 15us/step - loss: 7.8774 - mae: 27.9300\n",
      "Epoch 5/5\n",
      "865/865 [==============================] - 0s 16us/step - loss: 7.8856 - mae: 27.8435\n",
      "Epoch 1/5\n",
      "865/865 [==============================] - 0s 16us/step - loss: 7.8142 - mae: 27.6089\n",
      "Epoch 2/5\n",
      "865/865 [==============================] - 0s 16us/step - loss: 7.7804 - mae: 27.5674\n",
      "Epoch 3/5\n",
      "865/865 [==============================] - 0s 17us/step - loss: 7.7597 - mae: 27.6215\n",
      "Epoch 4/5\n",
      "865/865 [==============================] - 0s 16us/step - loss: 7.7665 - mae: 27.5673\n",
      "Epoch 5/5\n",
      "865/865 [==============================] - 0s 14us/step - loss: 7.7987 - mae: 27.7550\n",
      "Epoch 1/5\n",
      "865/865 [==============================] - 0s 16us/step - loss: 7.8105 - mae: 27.6060\n",
      "Epoch 2/5\n",
      "865/865 [==============================] - 0s 17us/step - loss: 7.8232 - mae: 27.7368\n",
      "Epoch 3/5\n",
      "865/865 [==============================] - 0s 15us/step - loss: 7.7799 - mae: 27.3237\n",
      "Epoch 4/5\n",
      "865/865 [==============================] - 0s 16us/step - loss: 7.7764 - mae: 27.5824\n",
      "Epoch 5/5\n",
      "865/865 [==============================] - 0s 16us/step - loss: 7.7689 - mae: 27.5956\n",
      "Epoch 1/5\n",
      "865/865 [==============================] - 0s 15us/step - loss: 7.7795 - mae: 27.3995\n",
      "Epoch 2/5\n",
      "865/865 [==============================] - 0s 15us/step - loss: 7.8006 - mae: 27.5187\n",
      "Epoch 3/5\n",
      "865/865 [==============================] - 0s 15us/step - loss: 7.7678 - mae: 27.6841\n",
      "Epoch 4/5\n",
      "865/865 [==============================] - 0s 15us/step - loss: 7.7784 - mae: 27.5622\n",
      "Epoch 5/5\n",
      "865/865 [==============================] - 0s 17us/step - loss: 7.7449 - mae: 27.4221\n",
      "Epoch 1/5\n",
      "865/865 [==============================] - 0s 17us/step - loss: 7.6533 - mae: 27.3373\n",
      "Epoch 2/5\n",
      "865/865 [==============================] - 0s 16us/step - loss: 7.7143 - mae: 27.3774\n",
      "Epoch 3/5\n",
      "865/865 [==============================] - 0s 17us/step - loss: 7.5901 - mae: 26.8384\n",
      "Epoch 4/5\n",
      "865/865 [==============================] - 0s 17us/step - loss: 7.7967 - mae: 27.6018\n",
      "Epoch 5/5\n",
      "865/865 [==============================] - 0s 16us/step - loss: 7.6601 - mae: 27.2554\n",
      "Epoch 1/5\n",
      "865/865 [==============================] - 0s 20us/step - loss: 7.7036 - mae: 27.4569\n",
      "Epoch 2/5\n",
      "865/865 [==============================] - 0s 19us/step - loss: 7.6265 - mae: 27.0058\n",
      "Epoch 3/5\n",
      "865/865 [==============================] - 0s 21us/step - loss: 7.6795 - mae: 27.2580\n",
      "Epoch 4/5\n",
      "865/865 [==============================] - 0s 22us/step - loss: 7.6433 - mae: 27.1824\n",
      "Epoch 5/5\n",
      "865/865 [==============================] - 0s 21us/step - loss: 7.6329 - mae: 27.0496\n",
      "Epoch 1/5\n",
      "865/865 [==============================] - 0s 19us/step - loss: 7.7041 - mae: 27.3983\n",
      "Epoch 2/5\n",
      "865/865 [==============================] - 0s 19us/step - loss: 7.6122 - mae: 27.0463\n",
      "Epoch 3/5\n",
      "865/865 [==============================] - 0s 19us/step - loss: 7.5066 - mae: 26.7537\n",
      "Epoch 4/5\n",
      "865/865 [==============================] - 0s 17us/step - loss: 7.5735 - mae: 26.9896\n",
      "Epoch 5/5\n",
      "865/865 [==============================] - 0s 18us/step - loss: 7.6057 - mae: 27.0504\n"
     ]
    }
   ],
   "source": [
    "import keras\n",
    "from keras.models import Sequential\n",
    "from keras.layers import Dense\n",
    "from keras import losses\n",
    "from sklearn.metrics import mean_absolute_error\n",
    "import plotly\n",
    "import plotly.graph_objects as go\n",
    "from plotly.subplots import make_subplots\n",
    "\n",
    "random.seed(30)\n",
    "\n",
    "lower = y_test - 0.1*y_test\n",
    "upper = y_test + 0.1*y_test\n",
    "lower_20 = y_test - 0.2*y_test\n",
    "upper_20 = y_test + 0.2*y_test\n",
    "n = 50\n",
    "mae_plot = pd.DataFrame({\"epochs\":[0 for i in range(n)],\n",
    "                        \"MAE\":[0 for i in range(n)],\n",
    "                        \"+/- 10%\":[0 for i in range(n)],\n",
    "                        \"MAE valid\":[0 for i in range(n)]})\n",
    "\n",
    "\n",
    "model = Sequential()\n",
    "model.add(Dense(12, input_dim=20,kernel_initializer='normal', activation='selu'))\n",
    "model.add(Dense(4,kernel_initializer='normal', activation='linear'))\n",
    "model.add(Dense(1,kernel_initializer='normal', activation='relu'))\n",
    "model.compile(loss=keras.losses.mean_absolute_percentage_error, optimizer='sgd',\n",
    "              metrics=['mae'])\n",
    "n_epochs = 5\n",
    "for i in range(0,n):\n",
    "    history = model.fit(X_train, y_train, epochs=n_epochs, batch_size=64)\n",
    "    y_pred = model.predict(X_test)\n",
    "    n = sum([ sum((y_pred[i] > lower.values[i]) & (y_pred[i] < upper.values[i])) \n",
    "             for i in range(y_pred.shape[0])])/y_test.shape[0]\n",
    "    mae = mean_absolute_error(y_pred,y_test)\n",
    "    mae_valid = mean_absolute_error(model.predict(X_valid),y_valid)\n",
    "    mae_plot.iloc[i,:] = [(i+1)*n_epochs,mae,n,mae_valid]\n",
    "    \n",
    "    \n",
    "    if (i+1)*n_epochs % 50 == 0:\n",
    "        to_plot = pd.DataFrame({\"y_test\":y_test.values,\n",
    "                                \"y_pred\":list(y_pred.reshape((87,))),\n",
    "                                \"lower\":list(lower),\n",
    "                                \"upper\":list(upper),\n",
    "                                \"upper_20\": list(upper_20),\n",
    "                                \"lower_20\": list(lower_20)})\n",
    "\n",
    "        to_plot = to_plot.sort_values(\"y_test\")\n",
    "        to_plot = to_plot.reset_index(drop = True)\n",
    "        fig = make_subplots(specs=[[{\"secondary_y\": False}]])\n",
    "\n",
    "        fig.add_trace(go.Scatter(x=to_plot.index, y=to_plot['y_test'],\n",
    "                            mode='markers',\n",
    "                            name='y_test',marker=dict(color= \"grey\")))\n",
    "\n",
    "        fig.add_trace(go.Scatter(x=to_plot.index, y=to_plot['y_pred'],\n",
    "                            mode='markers',\n",
    "                            name='y_pred',\n",
    "                            marker=dict(color= \"orange\")))\n",
    "\n",
    "        fig.add_trace(go.Scatter(x=to_plot.index, y=to_plot['lower'],\n",
    "                            mode='lines',\n",
    "                            name='-10% y_test',\n",
    "                            marker=dict(color= \"blue\")))\n",
    "\n",
    "        fig.add_trace(go.Scatter(x=to_plot.index, y=to_plot['upper'],\n",
    "                            mode='lines',\n",
    "                            name='+ 10% y_test',\n",
    "                            marker=dict(color= \"blue\")))\n",
    "\n",
    "        fig.add_trace(go.Scatter(x=to_plot.index, y=to_plot['lower_20'],\n",
    "                            mode='lines',\n",
    "                            name='-20% y_test',\n",
    "                            marker=dict(color= \"red\")))\n",
    "\n",
    "        fig.add_trace(go.Scatter(x=to_plot.index, y=to_plot['upper_20'],\n",
    "                            mode='lines',\n",
    "                            name='+20% y_test',\n",
    "                            marker=dict(color= \"red\")))\n",
    "        \n",
    "        title = str((i+1)*n_epochs) + \" epochs\"\n",
    "        fig.update_layout(title=title)\n",
    "        \n",
    "        \n",
    "\n",
    "        name = title + \".html\"\n",
    "        plotly.offline.plot(fig, filename=name)\n",
    "\n"
   ]
  },
  {
   "cell_type": "code",
   "execution_count": 186,
   "metadata": {},
   "outputs": [
    {
     "data": {
      "application/vnd.plotly.v1+json": {
       "config": {
        "plotlyServerURL": "https://plot.ly"
       },
       "data": [
        {
         "mode": "markers",
         "name": "MAE",
         "type": "scatter",
         "x": [
          5,
          10,
          15,
          20,
          25,
          30,
          35,
          40,
          45,
          50,
          55,
          60,
          65,
          70,
          75,
          80,
          85,
          90,
          95,
          100,
          105,
          110,
          115,
          120,
          125,
          130,
          135,
          140,
          145,
          150,
          155,
          160,
          165,
          170,
          175,
          180,
          185,
          190,
          195,
          200,
          205,
          210,
          215,
          220,
          225,
          230,
          235,
          240,
          245,
          250
         ],
         "xaxis": "x",
         "y": [
          338.0557873969928,
          337.8420919287616,
          337.6276356288209,
          337.41222369309133,
          337.1948381311044,
          336.9745577510198,
          336.7496896863806,
          336.5174620293475,
          336.2739202049409,
          336.01265950772955,
          335.72254875522924,
          335.3868182984714,
          334.97492455800375,
          334.4297557498669,
          333.62689072148555,
          332.23102864912187,
          329.07341361780277,
          318.53243099870355,
          259.7867585315924,
          41.06838481333064,
          31.311258867636496,
          30.07592800096534,
          29.497594990346624,
          28.902029019059807,
          29.111945990200702,
          28.55199201912715,
          29.225887444156342,
          28.36984258542116,
          28.189363768128146,
          28.43668012246318,
          29.031173860396468,
          30.144342812724496,
          29.453012190193963,
          28.783658349048135,
          30.715956954079115,
          29.965069671280077,
          30.672082147707886,
          29.936102344030623,
          30.325089265669895,
          30.955522524077313,
          32.17771586100261,
          32.421428538355336,
          30.992465946592134,
          30.472375825026944,
          31.422975842706087,
          29.89424986389862,
          30.824422845950078,
          33.20080944543597,
          29.70481225726249,
          29.29588646198141
         ],
         "yaxis": "y"
        },
        {
         "mode": "markers",
         "name": "+/- 10%",
         "type": "scatter",
         "x": [
          5,
          10,
          15,
          20,
          25,
          30,
          35,
          40,
          45,
          50,
          55,
          60,
          65,
          70,
          75,
          80,
          85,
          90,
          95,
          100,
          105,
          110,
          115,
          120,
          125,
          130,
          135,
          140,
          145,
          150,
          155,
          160,
          165,
          170,
          175,
          180,
          185,
          190,
          195,
          200,
          205,
          210,
          215,
          220,
          225,
          230,
          235,
          240,
          245,
          250
         ],
         "xaxis": "x",
         "y": [
          0,
          0,
          0,
          0,
          0,
          0,
          0,
          0,
          0,
          0,
          0,
          0,
          0,
          0,
          0,
          0,
          0,
          0,
          0,
          0.5747126436781609,
          0.6551724137931034,
          0.6781609195402298,
          0.6896551724137931,
          0.6781609195402298,
          0.7011494252873564,
          0.6666666666666666,
          0.6896551724137931,
          0.7011494252873564,
          0.7126436781609196,
          0.7126436781609196,
          0.7241379310344828,
          0.6781609195402298,
          0.7011494252873564,
          0.7011494252873564,
          0.7241379310344828,
          0.7011494252873564,
          0.6206896551724138,
          0.7126436781609196,
          0.7011494252873564,
          0.6896551724137931,
          0.6436781609195402,
          0.6781609195402298,
          0.735632183908046,
          0.7011494252873564,
          0.6781609195402298,
          0.7126436781609196,
          0.7241379310344828,
          0.7011494252873564,
          0.7471264367816092,
          0.7241379310344828
         ],
         "yaxis": "y2"
        },
        {
         "mode": "markers",
         "name": "MAE valid",
         "type": "scatter",
         "x": [
          5,
          10,
          15,
          20,
          25,
          30,
          35,
          40,
          45,
          50,
          55,
          60,
          65,
          70,
          75,
          80,
          85,
          90,
          95,
          100,
          105,
          110,
          115,
          120,
          125,
          130,
          135,
          140,
          145,
          150,
          155,
          160,
          165,
          170,
          175,
          180,
          185,
          190,
          195,
          200,
          205,
          210,
          215,
          220,
          225,
          230,
          235,
          240,
          245,
          250
         ],
         "xaxis": "x",
         "y": [
          343.4975648241043,
          343.28392117488386,
          343.06953356432916,
          342.85421641635895,
          342.6369653897285,
          342.4168725090027,
          342.1922801809311,
          341.9604643540382,
          341.71754291820525,
          341.45720966625214,
          341.1685615377426,
          340.835240729332,
          340.42745104599,
          339.89051748085024,
          339.1055125312805,
          337.7580493049621,
          334.77890406417845,
          324.82911625671386,
          267.85376416015623,
          63.23498937988281,
          67.38881170654297,
          66.27490026855469,
          67.44075567626953,
          62.647765563964846,
          63.387243103027345,
          61.606080078125004,
          56.139534973144535,
          59.934884094238285,
          56.43366186523438,
          56.27486364746094,
          51.484934448242186,
          58.62703649902344,
          55.3664072265625,
          55.26407720947266,
          59.82253515625,
          52.30163366699219,
          50.48600561523438,
          50.44346105957032,
          49.91446020507813,
          52.77026770019531,
          54.74300634765625,
          60.21655065917969,
          50.72423498535157,
          49.98991796875001,
          53.30491125488281,
          49.800782226562504,
          49.2710443725586,
          53.969458984375,
          44.20753881835938,
          47.89561712646485
         ],
         "yaxis": "y"
        }
       ],
       "layout": {
        "template": {
         "data": {
          "bar": [
           {
            "error_x": {
             "color": "#2a3f5f"
            },
            "error_y": {
             "color": "#2a3f5f"
            },
            "marker": {
             "line": {
              "color": "#E5ECF6",
              "width": 0.5
             }
            },
            "type": "bar"
           }
          ],
          "barpolar": [
           {
            "marker": {
             "line": {
              "color": "#E5ECF6",
              "width": 0.5
             }
            },
            "type": "barpolar"
           }
          ],
          "carpet": [
           {
            "aaxis": {
             "endlinecolor": "#2a3f5f",
             "gridcolor": "white",
             "linecolor": "white",
             "minorgridcolor": "white",
             "startlinecolor": "#2a3f5f"
            },
            "baxis": {
             "endlinecolor": "#2a3f5f",
             "gridcolor": "white",
             "linecolor": "white",
             "minorgridcolor": "white",
             "startlinecolor": "#2a3f5f"
            },
            "type": "carpet"
           }
          ],
          "choropleth": [
           {
            "colorbar": {
             "outlinewidth": 0,
             "ticks": ""
            },
            "type": "choropleth"
           }
          ],
          "contour": [
           {
            "colorbar": {
             "outlinewidth": 0,
             "ticks": ""
            },
            "colorscale": [
             [
              0,
              "#0d0887"
             ],
             [
              0.1111111111111111,
              "#46039f"
             ],
             [
              0.2222222222222222,
              "#7201a8"
             ],
             [
              0.3333333333333333,
              "#9c179e"
             ],
             [
              0.4444444444444444,
              "#bd3786"
             ],
             [
              0.5555555555555556,
              "#d8576b"
             ],
             [
              0.6666666666666666,
              "#ed7953"
             ],
             [
              0.7777777777777778,
              "#fb9f3a"
             ],
             [
              0.8888888888888888,
              "#fdca26"
             ],
             [
              1,
              "#f0f921"
             ]
            ],
            "type": "contour"
           }
          ],
          "contourcarpet": [
           {
            "colorbar": {
             "outlinewidth": 0,
             "ticks": ""
            },
            "type": "contourcarpet"
           }
          ],
          "heatmap": [
           {
            "colorbar": {
             "outlinewidth": 0,
             "ticks": ""
            },
            "colorscale": [
             [
              0,
              "#0d0887"
             ],
             [
              0.1111111111111111,
              "#46039f"
             ],
             [
              0.2222222222222222,
              "#7201a8"
             ],
             [
              0.3333333333333333,
              "#9c179e"
             ],
             [
              0.4444444444444444,
              "#bd3786"
             ],
             [
              0.5555555555555556,
              "#d8576b"
             ],
             [
              0.6666666666666666,
              "#ed7953"
             ],
             [
              0.7777777777777778,
              "#fb9f3a"
             ],
             [
              0.8888888888888888,
              "#fdca26"
             ],
             [
              1,
              "#f0f921"
             ]
            ],
            "type": "heatmap"
           }
          ],
          "heatmapgl": [
           {
            "colorbar": {
             "outlinewidth": 0,
             "ticks": ""
            },
            "colorscale": [
             [
              0,
              "#0d0887"
             ],
             [
              0.1111111111111111,
              "#46039f"
             ],
             [
              0.2222222222222222,
              "#7201a8"
             ],
             [
              0.3333333333333333,
              "#9c179e"
             ],
             [
              0.4444444444444444,
              "#bd3786"
             ],
             [
              0.5555555555555556,
              "#d8576b"
             ],
             [
              0.6666666666666666,
              "#ed7953"
             ],
             [
              0.7777777777777778,
              "#fb9f3a"
             ],
             [
              0.8888888888888888,
              "#fdca26"
             ],
             [
              1,
              "#f0f921"
             ]
            ],
            "type": "heatmapgl"
           }
          ],
          "histogram": [
           {
            "marker": {
             "colorbar": {
              "outlinewidth": 0,
              "ticks": ""
             }
            },
            "type": "histogram"
           }
          ],
          "histogram2d": [
           {
            "colorbar": {
             "outlinewidth": 0,
             "ticks": ""
            },
            "colorscale": [
             [
              0,
              "#0d0887"
             ],
             [
              0.1111111111111111,
              "#46039f"
             ],
             [
              0.2222222222222222,
              "#7201a8"
             ],
             [
              0.3333333333333333,
              "#9c179e"
             ],
             [
              0.4444444444444444,
              "#bd3786"
             ],
             [
              0.5555555555555556,
              "#d8576b"
             ],
             [
              0.6666666666666666,
              "#ed7953"
             ],
             [
              0.7777777777777778,
              "#fb9f3a"
             ],
             [
              0.8888888888888888,
              "#fdca26"
             ],
             [
              1,
              "#f0f921"
             ]
            ],
            "type": "histogram2d"
           }
          ],
          "histogram2dcontour": [
           {
            "colorbar": {
             "outlinewidth": 0,
             "ticks": ""
            },
            "colorscale": [
             [
              0,
              "#0d0887"
             ],
             [
              0.1111111111111111,
              "#46039f"
             ],
             [
              0.2222222222222222,
              "#7201a8"
             ],
             [
              0.3333333333333333,
              "#9c179e"
             ],
             [
              0.4444444444444444,
              "#bd3786"
             ],
             [
              0.5555555555555556,
              "#d8576b"
             ],
             [
              0.6666666666666666,
              "#ed7953"
             ],
             [
              0.7777777777777778,
              "#fb9f3a"
             ],
             [
              0.8888888888888888,
              "#fdca26"
             ],
             [
              1,
              "#f0f921"
             ]
            ],
            "type": "histogram2dcontour"
           }
          ],
          "mesh3d": [
           {
            "colorbar": {
             "outlinewidth": 0,
             "ticks": ""
            },
            "type": "mesh3d"
           }
          ],
          "parcoords": [
           {
            "line": {
             "colorbar": {
              "outlinewidth": 0,
              "ticks": ""
             }
            },
            "type": "parcoords"
           }
          ],
          "pie": [
           {
            "automargin": true,
            "type": "pie"
           }
          ],
          "scatter": [
           {
            "marker": {
             "colorbar": {
              "outlinewidth": 0,
              "ticks": ""
             }
            },
            "type": "scatter"
           }
          ],
          "scatter3d": [
           {
            "line": {
             "colorbar": {
              "outlinewidth": 0,
              "ticks": ""
             }
            },
            "marker": {
             "colorbar": {
              "outlinewidth": 0,
              "ticks": ""
             }
            },
            "type": "scatter3d"
           }
          ],
          "scattercarpet": [
           {
            "marker": {
             "colorbar": {
              "outlinewidth": 0,
              "ticks": ""
             }
            },
            "type": "scattercarpet"
           }
          ],
          "scattergeo": [
           {
            "marker": {
             "colorbar": {
              "outlinewidth": 0,
              "ticks": ""
             }
            },
            "type": "scattergeo"
           }
          ],
          "scattergl": [
           {
            "marker": {
             "colorbar": {
              "outlinewidth": 0,
              "ticks": ""
             }
            },
            "type": "scattergl"
           }
          ],
          "scattermapbox": [
           {
            "marker": {
             "colorbar": {
              "outlinewidth": 0,
              "ticks": ""
             }
            },
            "type": "scattermapbox"
           }
          ],
          "scatterpolar": [
           {
            "marker": {
             "colorbar": {
              "outlinewidth": 0,
              "ticks": ""
             }
            },
            "type": "scatterpolar"
           }
          ],
          "scatterpolargl": [
           {
            "marker": {
             "colorbar": {
              "outlinewidth": 0,
              "ticks": ""
             }
            },
            "type": "scatterpolargl"
           }
          ],
          "scatterternary": [
           {
            "marker": {
             "colorbar": {
              "outlinewidth": 0,
              "ticks": ""
             }
            },
            "type": "scatterternary"
           }
          ],
          "surface": [
           {
            "colorbar": {
             "outlinewidth": 0,
             "ticks": ""
            },
            "colorscale": [
             [
              0,
              "#0d0887"
             ],
             [
              0.1111111111111111,
              "#46039f"
             ],
             [
              0.2222222222222222,
              "#7201a8"
             ],
             [
              0.3333333333333333,
              "#9c179e"
             ],
             [
              0.4444444444444444,
              "#bd3786"
             ],
             [
              0.5555555555555556,
              "#d8576b"
             ],
             [
              0.6666666666666666,
              "#ed7953"
             ],
             [
              0.7777777777777778,
              "#fb9f3a"
             ],
             [
              0.8888888888888888,
              "#fdca26"
             ],
             [
              1,
              "#f0f921"
             ]
            ],
            "type": "surface"
           }
          ],
          "table": [
           {
            "cells": {
             "fill": {
              "color": "#EBF0F8"
             },
             "line": {
              "color": "white"
             }
            },
            "header": {
             "fill": {
              "color": "#C8D4E3"
             },
             "line": {
              "color": "white"
             }
            },
            "type": "table"
           }
          ]
         },
         "layout": {
          "annotationdefaults": {
           "arrowcolor": "#2a3f5f",
           "arrowhead": 0,
           "arrowwidth": 1
          },
          "coloraxis": {
           "colorbar": {
            "outlinewidth": 0,
            "ticks": ""
           }
          },
          "colorscale": {
           "diverging": [
            [
             0,
             "#8e0152"
            ],
            [
             0.1,
             "#c51b7d"
            ],
            [
             0.2,
             "#de77ae"
            ],
            [
             0.3,
             "#f1b6da"
            ],
            [
             0.4,
             "#fde0ef"
            ],
            [
             0.5,
             "#f7f7f7"
            ],
            [
             0.6,
             "#e6f5d0"
            ],
            [
             0.7,
             "#b8e186"
            ],
            [
             0.8,
             "#7fbc41"
            ],
            [
             0.9,
             "#4d9221"
            ],
            [
             1,
             "#276419"
            ]
           ],
           "sequential": [
            [
             0,
             "#0d0887"
            ],
            [
             0.1111111111111111,
             "#46039f"
            ],
            [
             0.2222222222222222,
             "#7201a8"
            ],
            [
             0.3333333333333333,
             "#9c179e"
            ],
            [
             0.4444444444444444,
             "#bd3786"
            ],
            [
             0.5555555555555556,
             "#d8576b"
            ],
            [
             0.6666666666666666,
             "#ed7953"
            ],
            [
             0.7777777777777778,
             "#fb9f3a"
            ],
            [
             0.8888888888888888,
             "#fdca26"
            ],
            [
             1,
             "#f0f921"
            ]
           ],
           "sequentialminus": [
            [
             0,
             "#0d0887"
            ],
            [
             0.1111111111111111,
             "#46039f"
            ],
            [
             0.2222222222222222,
             "#7201a8"
            ],
            [
             0.3333333333333333,
             "#9c179e"
            ],
            [
             0.4444444444444444,
             "#bd3786"
            ],
            [
             0.5555555555555556,
             "#d8576b"
            ],
            [
             0.6666666666666666,
             "#ed7953"
            ],
            [
             0.7777777777777778,
             "#fb9f3a"
            ],
            [
             0.8888888888888888,
             "#fdca26"
            ],
            [
             1,
             "#f0f921"
            ]
           ]
          },
          "colorway": [
           "#636efa",
           "#EF553B",
           "#00cc96",
           "#ab63fa",
           "#FFA15A",
           "#19d3f3",
           "#FF6692",
           "#B6E880",
           "#FF97FF",
           "#FECB52"
          ],
          "font": {
           "color": "#2a3f5f"
          },
          "geo": {
           "bgcolor": "white",
           "lakecolor": "white",
           "landcolor": "#E5ECF6",
           "showlakes": true,
           "showland": true,
           "subunitcolor": "white"
          },
          "hoverlabel": {
           "align": "left"
          },
          "hovermode": "closest",
          "mapbox": {
           "style": "light"
          },
          "paper_bgcolor": "white",
          "plot_bgcolor": "#E5ECF6",
          "polar": {
           "angularaxis": {
            "gridcolor": "white",
            "linecolor": "white",
            "ticks": ""
           },
           "bgcolor": "#E5ECF6",
           "radialaxis": {
            "gridcolor": "white",
            "linecolor": "white",
            "ticks": ""
           }
          },
          "scene": {
           "xaxis": {
            "backgroundcolor": "#E5ECF6",
            "gridcolor": "white",
            "gridwidth": 2,
            "linecolor": "white",
            "showbackground": true,
            "ticks": "",
            "zerolinecolor": "white"
           },
           "yaxis": {
            "backgroundcolor": "#E5ECF6",
            "gridcolor": "white",
            "gridwidth": 2,
            "linecolor": "white",
            "showbackground": true,
            "ticks": "",
            "zerolinecolor": "white"
           },
           "zaxis": {
            "backgroundcolor": "#E5ECF6",
            "gridcolor": "white",
            "gridwidth": 2,
            "linecolor": "white",
            "showbackground": true,
            "ticks": "",
            "zerolinecolor": "white"
           }
          },
          "shapedefaults": {
           "line": {
            "color": "#2a3f5f"
           }
          },
          "ternary": {
           "aaxis": {
            "gridcolor": "white",
            "linecolor": "white",
            "ticks": ""
           },
           "baxis": {
            "gridcolor": "white",
            "linecolor": "white",
            "ticks": ""
           },
           "bgcolor": "#E5ECF6",
           "caxis": {
            "gridcolor": "white",
            "linecolor": "white",
            "ticks": ""
           }
          },
          "title": {
           "x": 0.05
          },
          "xaxis": {
           "automargin": true,
           "gridcolor": "white",
           "linecolor": "white",
           "ticks": "",
           "title": {
            "standoff": 15
           },
           "zerolinecolor": "white",
           "zerolinewidth": 2
          },
          "yaxis": {
           "automargin": true,
           "gridcolor": "white",
           "linecolor": "white",
           "ticks": "",
           "title": {
            "standoff": 15
           },
           "zerolinecolor": "white",
           "zerolinewidth": 2
          }
         }
        },
        "xaxis": {
         "anchor": "y",
         "domain": [
          0,
          0.94
         ]
        },
        "yaxis": {
         "anchor": "x",
         "domain": [
          0,
          1
         ],
         "title": {
          "text": "MAE"
         }
        },
        "yaxis2": {
         "anchor": "x",
         "overlaying": "y",
         "showgrid": false,
         "side": "right",
         "title": {
          "text": "+/- 10%"
         }
        }
       }
      },
      "text/html": [
       "<div>\n",
       "        \n",
       "        \n",
       "            <div id=\"0506f9ee-4bca-4903-83cc-911e381e0dae\" class=\"plotly-graph-div\" style=\"height:525px; width:100%;\"></div>\n",
       "            <script type=\"text/javascript\">\n",
       "                require([\"plotly\"], function(Plotly) {\n",
       "                    window.PLOTLYENV=window.PLOTLYENV || {};\n",
       "                    \n",
       "                if (document.getElementById(\"0506f9ee-4bca-4903-83cc-911e381e0dae\")) {\n",
       "                    Plotly.newPlot(\n",
       "                        '0506f9ee-4bca-4903-83cc-911e381e0dae',\n",
       "                        [{\"mode\": \"markers\", \"name\": \"MAE\", \"type\": \"scatter\", \"x\": [5, 10, 15, 20, 25, 30, 35, 40, 45, 50, 55, 60, 65, 70, 75, 80, 85, 90, 95, 100, 105, 110, 115, 120, 125, 130, 135, 140, 145, 150, 155, 160, 165, 170, 175, 180, 185, 190, 195, 200, 205, 210, 215, 220, 225, 230, 235, 240, 245, 250], \"xaxis\": \"x\", \"y\": [338.0557873969928, 337.8420919287616, 337.6276356288209, 337.41222369309133, 337.1948381311044, 336.9745577510198, 336.7496896863806, 336.5174620293475, 336.2739202049409, 336.01265950772955, 335.72254875522924, 335.3868182984714, 334.97492455800375, 334.4297557498669, 333.62689072148555, 332.23102864912187, 329.07341361780277, 318.53243099870355, 259.7867585315924, 41.06838481333064, 31.311258867636496, 30.07592800096534, 29.497594990346624, 28.902029019059807, 29.111945990200702, 28.55199201912715, 29.225887444156342, 28.36984258542116, 28.189363768128146, 28.43668012246318, 29.031173860396468, 30.144342812724496, 29.453012190193963, 28.783658349048135, 30.715956954079115, 29.965069671280077, 30.672082147707886, 29.936102344030623, 30.325089265669895, 30.955522524077313, 32.17771586100261, 32.421428538355336, 30.992465946592134, 30.472375825026944, 31.422975842706087, 29.89424986389862, 30.824422845950078, 33.20080944543597, 29.70481225726249, 29.29588646198141], \"yaxis\": \"y\"}, {\"mode\": \"markers\", \"name\": \"+/- 10%\", \"type\": \"scatter\", \"x\": [5, 10, 15, 20, 25, 30, 35, 40, 45, 50, 55, 60, 65, 70, 75, 80, 85, 90, 95, 100, 105, 110, 115, 120, 125, 130, 135, 140, 145, 150, 155, 160, 165, 170, 175, 180, 185, 190, 195, 200, 205, 210, 215, 220, 225, 230, 235, 240, 245, 250], \"xaxis\": \"x\", \"y\": [0.0, 0.0, 0.0, 0.0, 0.0, 0.0, 0.0, 0.0, 0.0, 0.0, 0.0, 0.0, 0.0, 0.0, 0.0, 0.0, 0.0, 0.0, 0.0, 0.5747126436781609, 0.6551724137931034, 0.6781609195402298, 0.6896551724137931, 0.6781609195402298, 0.7011494252873564, 0.6666666666666666, 0.6896551724137931, 0.7011494252873564, 0.7126436781609196, 0.7126436781609196, 0.7241379310344828, 0.6781609195402298, 0.7011494252873564, 0.7011494252873564, 0.7241379310344828, 0.7011494252873564, 0.6206896551724138, 0.7126436781609196, 0.7011494252873564, 0.6896551724137931, 0.6436781609195402, 0.6781609195402298, 0.735632183908046, 0.7011494252873564, 0.6781609195402298, 0.7126436781609196, 0.7241379310344828, 0.7011494252873564, 0.7471264367816092, 0.7241379310344828], \"yaxis\": \"y2\"}, {\"mode\": \"markers\", \"name\": \"MAE valid\", \"type\": \"scatter\", \"x\": [5, 10, 15, 20, 25, 30, 35, 40, 45, 50, 55, 60, 65, 70, 75, 80, 85, 90, 95, 100, 105, 110, 115, 120, 125, 130, 135, 140, 145, 150, 155, 160, 165, 170, 175, 180, 185, 190, 195, 200, 205, 210, 215, 220, 225, 230, 235, 240, 245, 250], \"xaxis\": \"x\", \"y\": [343.4975648241043, 343.28392117488386, 343.06953356432916, 342.85421641635895, 342.6369653897285, 342.4168725090027, 342.1922801809311, 341.9604643540382, 341.71754291820525, 341.45720966625214, 341.1685615377426, 340.835240729332, 340.42745104599, 339.89051748085024, 339.1055125312805, 337.7580493049621, 334.77890406417845, 324.82911625671386, 267.85376416015623, 63.23498937988281, 67.38881170654297, 66.27490026855469, 67.44075567626953, 62.647765563964846, 63.387243103027345, 61.606080078125004, 56.139534973144535, 59.934884094238285, 56.43366186523438, 56.27486364746094, 51.484934448242186, 58.62703649902344, 55.3664072265625, 55.26407720947266, 59.82253515625, 52.30163366699219, 50.48600561523438, 50.44346105957032, 49.91446020507813, 52.77026770019531, 54.74300634765625, 60.21655065917969, 50.72423498535157, 49.98991796875001, 53.30491125488281, 49.800782226562504, 49.2710443725586, 53.969458984375, 44.20753881835938, 47.89561712646485], \"yaxis\": \"y\"}],\n",
       "                        {\"template\": {\"data\": {\"bar\": [{\"error_x\": {\"color\": \"#2a3f5f\"}, \"error_y\": {\"color\": \"#2a3f5f\"}, \"marker\": {\"line\": {\"color\": \"#E5ECF6\", \"width\": 0.5}}, \"type\": \"bar\"}], \"barpolar\": [{\"marker\": {\"line\": {\"color\": \"#E5ECF6\", \"width\": 0.5}}, \"type\": \"barpolar\"}], \"carpet\": [{\"aaxis\": {\"endlinecolor\": \"#2a3f5f\", \"gridcolor\": \"white\", \"linecolor\": \"white\", \"minorgridcolor\": \"white\", \"startlinecolor\": \"#2a3f5f\"}, \"baxis\": {\"endlinecolor\": \"#2a3f5f\", \"gridcolor\": \"white\", \"linecolor\": \"white\", \"minorgridcolor\": \"white\", \"startlinecolor\": \"#2a3f5f\"}, \"type\": \"carpet\"}], \"choropleth\": [{\"colorbar\": {\"outlinewidth\": 0, \"ticks\": \"\"}, \"type\": \"choropleth\"}], \"contour\": [{\"colorbar\": {\"outlinewidth\": 0, \"ticks\": \"\"}, \"colorscale\": [[0.0, \"#0d0887\"], [0.1111111111111111, \"#46039f\"], [0.2222222222222222, \"#7201a8\"], [0.3333333333333333, \"#9c179e\"], [0.4444444444444444, \"#bd3786\"], [0.5555555555555556, \"#d8576b\"], [0.6666666666666666, \"#ed7953\"], [0.7777777777777778, \"#fb9f3a\"], [0.8888888888888888, \"#fdca26\"], [1.0, \"#f0f921\"]], \"type\": \"contour\"}], \"contourcarpet\": [{\"colorbar\": {\"outlinewidth\": 0, \"ticks\": \"\"}, \"type\": \"contourcarpet\"}], \"heatmap\": [{\"colorbar\": {\"outlinewidth\": 0, \"ticks\": \"\"}, \"colorscale\": [[0.0, \"#0d0887\"], [0.1111111111111111, \"#46039f\"], [0.2222222222222222, \"#7201a8\"], [0.3333333333333333, \"#9c179e\"], [0.4444444444444444, \"#bd3786\"], [0.5555555555555556, \"#d8576b\"], [0.6666666666666666, \"#ed7953\"], [0.7777777777777778, \"#fb9f3a\"], [0.8888888888888888, \"#fdca26\"], [1.0, \"#f0f921\"]], \"type\": \"heatmap\"}], \"heatmapgl\": [{\"colorbar\": {\"outlinewidth\": 0, \"ticks\": \"\"}, \"colorscale\": [[0.0, \"#0d0887\"], [0.1111111111111111, \"#46039f\"], [0.2222222222222222, \"#7201a8\"], [0.3333333333333333, \"#9c179e\"], [0.4444444444444444, \"#bd3786\"], [0.5555555555555556, \"#d8576b\"], [0.6666666666666666, \"#ed7953\"], [0.7777777777777778, \"#fb9f3a\"], [0.8888888888888888, \"#fdca26\"], [1.0, \"#f0f921\"]], \"type\": \"heatmapgl\"}], \"histogram\": [{\"marker\": {\"colorbar\": {\"outlinewidth\": 0, \"ticks\": \"\"}}, \"type\": \"histogram\"}], \"histogram2d\": [{\"colorbar\": {\"outlinewidth\": 0, \"ticks\": \"\"}, \"colorscale\": [[0.0, \"#0d0887\"], [0.1111111111111111, \"#46039f\"], [0.2222222222222222, \"#7201a8\"], [0.3333333333333333, \"#9c179e\"], [0.4444444444444444, \"#bd3786\"], [0.5555555555555556, \"#d8576b\"], [0.6666666666666666, \"#ed7953\"], [0.7777777777777778, \"#fb9f3a\"], [0.8888888888888888, \"#fdca26\"], [1.0, \"#f0f921\"]], \"type\": \"histogram2d\"}], \"histogram2dcontour\": [{\"colorbar\": {\"outlinewidth\": 0, \"ticks\": \"\"}, \"colorscale\": [[0.0, \"#0d0887\"], [0.1111111111111111, \"#46039f\"], [0.2222222222222222, \"#7201a8\"], [0.3333333333333333, \"#9c179e\"], [0.4444444444444444, \"#bd3786\"], [0.5555555555555556, \"#d8576b\"], [0.6666666666666666, \"#ed7953\"], [0.7777777777777778, \"#fb9f3a\"], [0.8888888888888888, \"#fdca26\"], [1.0, \"#f0f921\"]], \"type\": \"histogram2dcontour\"}], \"mesh3d\": [{\"colorbar\": {\"outlinewidth\": 0, \"ticks\": \"\"}, \"type\": \"mesh3d\"}], \"parcoords\": [{\"line\": {\"colorbar\": {\"outlinewidth\": 0, \"ticks\": \"\"}}, \"type\": \"parcoords\"}], \"pie\": [{\"automargin\": true, \"type\": \"pie\"}], \"scatter\": [{\"marker\": {\"colorbar\": {\"outlinewidth\": 0, \"ticks\": \"\"}}, \"type\": \"scatter\"}], \"scatter3d\": [{\"line\": {\"colorbar\": {\"outlinewidth\": 0, \"ticks\": \"\"}}, \"marker\": {\"colorbar\": {\"outlinewidth\": 0, \"ticks\": \"\"}}, \"type\": \"scatter3d\"}], \"scattercarpet\": [{\"marker\": {\"colorbar\": {\"outlinewidth\": 0, \"ticks\": \"\"}}, \"type\": \"scattercarpet\"}], \"scattergeo\": [{\"marker\": {\"colorbar\": {\"outlinewidth\": 0, \"ticks\": \"\"}}, \"type\": \"scattergeo\"}], \"scattergl\": [{\"marker\": {\"colorbar\": {\"outlinewidth\": 0, \"ticks\": \"\"}}, \"type\": \"scattergl\"}], \"scattermapbox\": [{\"marker\": {\"colorbar\": {\"outlinewidth\": 0, \"ticks\": \"\"}}, \"type\": \"scattermapbox\"}], \"scatterpolar\": [{\"marker\": {\"colorbar\": {\"outlinewidth\": 0, \"ticks\": \"\"}}, \"type\": \"scatterpolar\"}], \"scatterpolargl\": [{\"marker\": {\"colorbar\": {\"outlinewidth\": 0, \"ticks\": \"\"}}, \"type\": \"scatterpolargl\"}], \"scatterternary\": [{\"marker\": {\"colorbar\": {\"outlinewidth\": 0, \"ticks\": \"\"}}, \"type\": \"scatterternary\"}], \"surface\": [{\"colorbar\": {\"outlinewidth\": 0, \"ticks\": \"\"}, \"colorscale\": [[0.0, \"#0d0887\"], [0.1111111111111111, \"#46039f\"], [0.2222222222222222, \"#7201a8\"], [0.3333333333333333, \"#9c179e\"], [0.4444444444444444, \"#bd3786\"], [0.5555555555555556, \"#d8576b\"], [0.6666666666666666, \"#ed7953\"], [0.7777777777777778, \"#fb9f3a\"], [0.8888888888888888, \"#fdca26\"], [1.0, \"#f0f921\"]], \"type\": \"surface\"}], \"table\": [{\"cells\": {\"fill\": {\"color\": \"#EBF0F8\"}, \"line\": {\"color\": \"white\"}}, \"header\": {\"fill\": {\"color\": \"#C8D4E3\"}, \"line\": {\"color\": \"white\"}}, \"type\": \"table\"}]}, \"layout\": {\"annotationdefaults\": {\"arrowcolor\": \"#2a3f5f\", \"arrowhead\": 0, \"arrowwidth\": 1}, \"coloraxis\": {\"colorbar\": {\"outlinewidth\": 0, \"ticks\": \"\"}}, \"colorscale\": {\"diverging\": [[0, \"#8e0152\"], [0.1, \"#c51b7d\"], [0.2, \"#de77ae\"], [0.3, \"#f1b6da\"], [0.4, \"#fde0ef\"], [0.5, \"#f7f7f7\"], [0.6, \"#e6f5d0\"], [0.7, \"#b8e186\"], [0.8, \"#7fbc41\"], [0.9, \"#4d9221\"], [1, \"#276419\"]], \"sequential\": [[0.0, \"#0d0887\"], [0.1111111111111111, \"#46039f\"], [0.2222222222222222, \"#7201a8\"], [0.3333333333333333, \"#9c179e\"], [0.4444444444444444, \"#bd3786\"], [0.5555555555555556, \"#d8576b\"], [0.6666666666666666, \"#ed7953\"], [0.7777777777777778, \"#fb9f3a\"], [0.8888888888888888, \"#fdca26\"], [1.0, \"#f0f921\"]], \"sequentialminus\": [[0.0, \"#0d0887\"], [0.1111111111111111, \"#46039f\"], [0.2222222222222222, \"#7201a8\"], [0.3333333333333333, \"#9c179e\"], [0.4444444444444444, \"#bd3786\"], [0.5555555555555556, \"#d8576b\"], [0.6666666666666666, \"#ed7953\"], [0.7777777777777778, \"#fb9f3a\"], [0.8888888888888888, \"#fdca26\"], [1.0, \"#f0f921\"]]}, \"colorway\": [\"#636efa\", \"#EF553B\", \"#00cc96\", \"#ab63fa\", \"#FFA15A\", \"#19d3f3\", \"#FF6692\", \"#B6E880\", \"#FF97FF\", \"#FECB52\"], \"font\": {\"color\": \"#2a3f5f\"}, \"geo\": {\"bgcolor\": \"white\", \"lakecolor\": \"white\", \"landcolor\": \"#E5ECF6\", \"showlakes\": true, \"showland\": true, \"subunitcolor\": \"white\"}, \"hoverlabel\": {\"align\": \"left\"}, \"hovermode\": \"closest\", \"mapbox\": {\"style\": \"light\"}, \"paper_bgcolor\": \"white\", \"plot_bgcolor\": \"#E5ECF6\", \"polar\": {\"angularaxis\": {\"gridcolor\": \"white\", \"linecolor\": \"white\", \"ticks\": \"\"}, \"bgcolor\": \"#E5ECF6\", \"radialaxis\": {\"gridcolor\": \"white\", \"linecolor\": \"white\", \"ticks\": \"\"}}, \"scene\": {\"xaxis\": {\"backgroundcolor\": \"#E5ECF6\", \"gridcolor\": \"white\", \"gridwidth\": 2, \"linecolor\": \"white\", \"showbackground\": true, \"ticks\": \"\", \"zerolinecolor\": \"white\"}, \"yaxis\": {\"backgroundcolor\": \"#E5ECF6\", \"gridcolor\": \"white\", \"gridwidth\": 2, \"linecolor\": \"white\", \"showbackground\": true, \"ticks\": \"\", \"zerolinecolor\": \"white\"}, \"zaxis\": {\"backgroundcolor\": \"#E5ECF6\", \"gridcolor\": \"white\", \"gridwidth\": 2, \"linecolor\": \"white\", \"showbackground\": true, \"ticks\": \"\", \"zerolinecolor\": \"white\"}}, \"shapedefaults\": {\"line\": {\"color\": \"#2a3f5f\"}}, \"ternary\": {\"aaxis\": {\"gridcolor\": \"white\", \"linecolor\": \"white\", \"ticks\": \"\"}, \"baxis\": {\"gridcolor\": \"white\", \"linecolor\": \"white\", \"ticks\": \"\"}, \"bgcolor\": \"#E5ECF6\", \"caxis\": {\"gridcolor\": \"white\", \"linecolor\": \"white\", \"ticks\": \"\"}}, \"title\": {\"x\": 0.05}, \"xaxis\": {\"automargin\": true, \"gridcolor\": \"white\", \"linecolor\": \"white\", \"ticks\": \"\", \"title\": {\"standoff\": 15}, \"zerolinecolor\": \"white\", \"zerolinewidth\": 2}, \"yaxis\": {\"automargin\": true, \"gridcolor\": \"white\", \"linecolor\": \"white\", \"ticks\": \"\", \"title\": {\"standoff\": 15}, \"zerolinecolor\": \"white\", \"zerolinewidth\": 2}}}, \"xaxis\": {\"anchor\": \"y\", \"domain\": [0.0, 0.94]}, \"yaxis\": {\"anchor\": \"x\", \"domain\": [0.0, 1.0], \"title\": {\"text\": \"MAE\"}}, \"yaxis2\": {\"anchor\": \"x\", \"overlaying\": \"y\", \"showgrid\": false, \"side\": \"right\", \"title\": {\"text\": \"+/- 10%\"}}},\n",
       "                        {\"responsive\": true}\n",
       "                    ).then(function(){\n",
       "                            \n",
       "var gd = document.getElementById('0506f9ee-4bca-4903-83cc-911e381e0dae');\n",
       "var x = new MutationObserver(function (mutations, observer) {{\n",
       "        var display = window.getComputedStyle(gd).display;\n",
       "        if (!display || display === 'none') {{\n",
       "            console.log([gd, 'removed!']);\n",
       "            Plotly.purge(gd);\n",
       "            observer.disconnect();\n",
       "        }}\n",
       "}});\n",
       "\n",
       "// Listen for the removal of the full notebook cells\n",
       "var notebookContainer = gd.closest('#notebook-container');\n",
       "if (notebookContainer) {{\n",
       "    x.observe(notebookContainer, {childList: true});\n",
       "}}\n",
       "\n",
       "// Listen for the clearing of the current output cell\n",
       "var outputEl = gd.closest('.output');\n",
       "if (outputEl) {{\n",
       "    x.observe(outputEl, {childList: true});\n",
       "}}\n",
       "\n",
       "                        })\n",
       "                };\n",
       "                });\n",
       "            </script>\n",
       "        </div>"
      ]
     },
     "metadata": {},
     "output_type": "display_data"
    }
   ],
   "source": [
    "import plotly.graph_objects as go\n",
    "from plotly.subplots import make_subplots\n",
    "\n",
    "\n",
    "fig = make_subplots(specs=[[{\"secondary_y\": True}]])\n",
    "fig.add_trace(go.Scatter(x=mae_plot['epochs'], y=mae_plot['MAE'],\n",
    "                    mode='markers',\n",
    "                    name='MAE'),secondary_y = False)\n",
    "fig.add_trace(go.Scatter(x=mae_plot['epochs'], y=mae_plot['+/- 10%'],\n",
    "                    mode='markers',\n",
    "                    name='+/- 10%'),secondary_y = True)\n",
    "\n",
    "fig.add_trace(go.Scatter(x=mae_plot['epochs'], y=mae_plot['MAE valid'],\n",
    "                    mode='markers',\n",
    "                    name='MAE valid'),secondary_y = False)\n",
    "\n",
    "fig.update_yaxes(title_text=\"MAE\", secondary_y=False)\n",
    "fig.update_yaxes(title_text=\"+/- 10%\", secondary_y=True)\n",
    "fig['layout']['yaxis2']['showgrid'] = False\n",
    "\n",
    "fig.show()"
   ]
  },
  {
   "cell_type": "code",
   "execution_count": 174,
   "metadata": {},
   "outputs": [
    {
     "data": {
      "application/vnd.plotly.v1+json": {
       "config": {
        "plotlyServerURL": "https://plot.ly"
       },
       "data": [
        {
         "marker": {
          "color": "grey"
         },
         "mode": "markers",
         "name": "y_test",
         "type": "scatter",
         "x": [
          176,
          194.23,
          220,
          223,
          229,
          248,
          250.98,
          253,
          263.54,
          266,
          268,
          268.57,
          277,
          277,
          277,
          277,
          290,
          290,
          294.82,
          295.51,
          298,
          298,
          300,
          302.58,
          305,
          308,
          310,
          313,
          314,
          314,
          314,
          314.58,
          314.98,
          317.06,
          317.06,
          317.06,
          319.44,
          323.57,
          325,
          329,
          329,
          329,
          329,
          329,
          330.15,
          331,
          331,
          331,
          331,
          334.41,
          337.28,
          341,
          343.53,
          356,
          360,
          360,
          362,
          365,
          367.65,
          368,
          371,
          374,
          375,
          380,
          380,
          381.23,
          388,
          388,
          388,
          388,
          388,
          392.38,
          393,
          415,
          415,
          416.23,
          417.48,
          417.8,
          419,
          421.25,
          427,
          434,
          450.45,
          453,
          469,
          509.35,
          520
         ],
         "y": [
          176,
          194.23,
          220,
          223,
          229,
          248,
          250.98,
          253,
          263.54,
          266,
          268,
          268.57,
          277,
          277,
          277,
          277,
          290,
          290,
          294.82,
          295.51,
          298,
          298,
          300,
          302.58,
          305,
          308,
          310,
          313,
          314,
          314,
          314,
          314.58,
          314.98,
          317.06,
          317.06,
          317.06,
          319.44,
          323.57,
          325,
          329,
          329,
          329,
          329,
          329,
          330.15,
          331,
          331,
          331,
          331,
          334.41,
          337.28,
          341,
          343.53,
          356,
          360,
          360,
          362,
          365,
          367.65,
          368,
          371,
          374,
          375,
          380,
          380,
          381.23,
          388,
          388,
          388,
          388,
          388,
          392.38,
          393,
          415,
          415,
          416.23,
          417.48,
          417.8,
          419,
          421.25,
          427,
          434,
          450.45,
          453,
          469,
          509.35,
          520
         ]
        },
        {
         "marker": {
          "color": "orange"
         },
         "mode": "markers",
         "name": "y_pred",
         "type": "scatter",
         "x": [
          176,
          194.23,
          220,
          223,
          229,
          248,
          250.98,
          253,
          263.54,
          266,
          268,
          268.57,
          277,
          277,
          277,
          277,
          290,
          290,
          294.82,
          295.51,
          298,
          298,
          300,
          302.58,
          305,
          308,
          310,
          313,
          314,
          314,
          314,
          314.58,
          314.98,
          317.06,
          317.06,
          317.06,
          319.44,
          323.57,
          325,
          329,
          329,
          329,
          329,
          329,
          330.15,
          331,
          331,
          331,
          331,
          334.41,
          337.28,
          341,
          343.53,
          356,
          360,
          360,
          362,
          365,
          367.65,
          368,
          371,
          374,
          375,
          380,
          380,
          381.23,
          388,
          388,
          388,
          388,
          388,
          392.38,
          393,
          415,
          415,
          416.23,
          417.48,
          417.8,
          419,
          421.25,
          427,
          434,
          450.45,
          453,
          469,
          509.35,
          520
         ],
         "y": [
          168.2212942944544,
          283.12886890793953,
          220.80970425631665,
          221.68633978998656,
          266.98726720731094,
          264.5172408459684,
          262.09594906691007,
          237.7111578210177,
          270.3170936822319,
          220.80970425631665,
          335.5205247269107,
          251.4963092687202,
          277.03490857007773,
          278.4744080244145,
          306.6314789408721,
          277.03490857007773,
          341.4627784762544,
          270.1511204657594,
          293.14864391281907,
          294.77484736514594,
          299.72234040762777,
          315.89749257522277,
          524.9416417846735,
          319.3159658884341,
          306.9965486566571,
          391.13747740589105,
          313.553883551756,
          302.2117150084039,
          321.5611343795863,
          293.5724987548116,
          321.5611343795863,
          292.3940709656258,
          310.00496774533593,
          288.6003061085595,
          314.0245752350932,
          307.9995509489298,
          424.22636917432584,
          319.4444982677046,
          328.00505075565235,
          328.9095979665758,
          328.9095979665758,
          328.9095979665758,
          328.9095979665758,
          328.9095979665758,
          239.716558594997,
          321.5611343795863,
          321.5611343795863,
          325.7862374245335,
          321.5611343795863,
          315.6237522979526,
          336.0334117375282,
          373.57216504015884,
          349.4181785063513,
          361.2308719847339,
          381.79305527062866,
          368.90946211915764,
          371.34501475328403,
          359.02440160269236,
          338.55904785093963,
          336.5614119167331,
          369.7545310510802,
          394.9387863067586,
          345.72268130424953,
          387.4733380034238,
          370.3557787515133,
          356.63458162652,
          374.86207727088924,
          405.96087132954705,
          405.96087132954705,
          344.13649067413763,
          405.96087132954705,
          367.1544314238623,
          400.79042233289147,
          415.55087515405734,
          369.5472842556804,
          412.48685442249194,
          376.8321862583052,
          428.6290349463808,
          509.0175578597727,
          307.52054849831575,
          420.82269794123636,
          420.6616167641459,
          423.6329385704973,
          516.3149683327739,
          499.5427695968491,
          460.65746669910664,
          516.1606746934632
         ]
        },
        {
         "marker": {
          "color": "blue"
         },
         "mode": "lines",
         "name": "-10% y_test",
         "type": "scatter",
         "x": [
          176,
          194.23,
          220,
          223,
          229,
          248,
          250.98,
          253,
          263.54,
          266,
          268,
          268.57,
          277,
          277,
          277,
          277,
          290,
          290,
          294.82,
          295.51,
          298,
          298,
          300,
          302.58,
          305,
          308,
          310,
          313,
          314,
          314,
          314,
          314.58,
          314.98,
          317.06,
          317.06,
          317.06,
          319.44,
          323.57,
          325,
          329,
          329,
          329,
          329,
          329,
          330.15,
          331,
          331,
          331,
          331,
          334.41,
          337.28,
          341,
          343.53,
          356,
          360,
          360,
          362,
          365,
          367.65,
          368,
          371,
          374,
          375,
          380,
          380,
          381.23,
          388,
          388,
          388,
          388,
          388,
          392.38,
          393,
          415,
          415,
          416.23,
          417.48,
          417.8,
          419,
          421.25,
          427,
          434,
          450.45,
          453,
          469,
          509.35,
          520
         ],
         "y": [
          158.4,
          174.807,
          198,
          200.7,
          206.1,
          223.2,
          225.882,
          227.7,
          237.186,
          239.4,
          241.2,
          241.713,
          249.3,
          249.3,
          249.3,
          249.3,
          261,
          261,
          265.33799999999997,
          265.959,
          268.2,
          268.2,
          270,
          272.322,
          274.5,
          277.2,
          279,
          281.7,
          282.6,
          282.6,
          282.6,
          283.12199999999996,
          283.482,
          285.354,
          285.354,
          285.354,
          287.496,
          291.21299999999997,
          292.5,
          296.1,
          296.1,
          296.1,
          296.1,
          296.1,
          297.135,
          297.9,
          297.9,
          297.9,
          297.9,
          300.96900000000005,
          303.55199999999996,
          306.9,
          309.17699999999996,
          320.4,
          324,
          324,
          325.8,
          328.5,
          330.885,
          331.2,
          333.9,
          336.6,
          337.5,
          342,
          342,
          343.107,
          349.2,
          349.2,
          349.2,
          349.2,
          349.2,
          353.142,
          353.7,
          373.5,
          373.5,
          374.607,
          375.732,
          376.02,
          377.1,
          379.125,
          384.3,
          390.6,
          405.405,
          407.7,
          422.1,
          458.415,
          468
         ]
        },
        {
         "marker": {
          "color": "blue"
         },
         "mode": "lines",
         "name": "+ 10% y_test",
         "type": "scatter",
         "x": [
          176,
          194.23,
          220,
          223,
          229,
          248,
          250.98,
          253,
          263.54,
          266,
          268,
          268.57,
          277,
          277,
          277,
          277,
          290,
          290,
          294.82,
          295.51,
          298,
          298,
          300,
          302.58,
          305,
          308,
          310,
          313,
          314,
          314,
          314,
          314.58,
          314.98,
          317.06,
          317.06,
          317.06,
          319.44,
          323.57,
          325,
          329,
          329,
          329,
          329,
          329,
          330.15,
          331,
          331,
          331,
          331,
          334.41,
          337.28,
          341,
          343.53,
          356,
          360,
          360,
          362,
          365,
          367.65,
          368,
          371,
          374,
          375,
          380,
          380,
          381.23,
          388,
          388,
          388,
          388,
          388,
          392.38,
          393,
          415,
          415,
          416.23,
          417.48,
          417.8,
          419,
          421.25,
          427,
          434,
          450.45,
          453,
          469,
          509.35,
          520
         ],
         "y": [
          193.6,
          213.653,
          242,
          245.3,
          251.9,
          272.8,
          276.078,
          278.3,
          289.894,
          292.6,
          294.8,
          295.427,
          304.7,
          304.7,
          304.7,
          304.7,
          319,
          319,
          324.302,
          325.061,
          327.8,
          327.8,
          330,
          332.83799999999997,
          335.5,
          338.8,
          341,
          344.3,
          345.4,
          345.4,
          345.4,
          346.038,
          346.478,
          348.766,
          348.766,
          348.766,
          351.384,
          355.927,
          357.5,
          361.9,
          361.9,
          361.9,
          361.9,
          361.9,
          363.16499999999996,
          364.1,
          364.1,
          364.1,
          364.1,
          367.851,
          371.008,
          375.1,
          377.883,
          391.6,
          396,
          396,
          398.2,
          401.5,
          404.41499999999996,
          404.8,
          408.1,
          411.4,
          412.5,
          418,
          418,
          419.353,
          426.8,
          426.8,
          426.8,
          426.8,
          426.8,
          431.618,
          432.3,
          456.5,
          456.5,
          457.853,
          459.228,
          459.58000000000004,
          460.9,
          463.375,
          469.7,
          477.4,
          495.495,
          498.3,
          515.9,
          560.2850000000001,
          572
         ]
        },
        {
         "marker": {
          "color": "red"
         },
         "mode": "lines",
         "name": "-20% y_test",
         "type": "scatter",
         "x": [
          176,
          194.23,
          220,
          223,
          229,
          248,
          250.98,
          253,
          263.54,
          266,
          268,
          268.57,
          277,
          277,
          277,
          277,
          290,
          290,
          294.82,
          295.51,
          298,
          298,
          300,
          302.58,
          305,
          308,
          310,
          313,
          314,
          314,
          314,
          314.58,
          314.98,
          317.06,
          317.06,
          317.06,
          319.44,
          323.57,
          325,
          329,
          329,
          329,
          329,
          329,
          330.15,
          331,
          331,
          331,
          331,
          334.41,
          337.28,
          341,
          343.53,
          356,
          360,
          360,
          362,
          365,
          367.65,
          368,
          371,
          374,
          375,
          380,
          380,
          381.23,
          388,
          388,
          388,
          388,
          388,
          392.38,
          393,
          415,
          415,
          416.23,
          417.48,
          417.8,
          419,
          421.25,
          427,
          434,
          450.45,
          453,
          469,
          509.35,
          520
         ],
         "y": [
          140.8,
          155.384,
          176,
          178.4,
          183.2,
          198.4,
          200.784,
          202.4,
          210.83200000000002,
          212.8,
          214.4,
          214.856,
          221.6,
          221.6,
          221.6,
          221.6,
          232,
          232,
          235.856,
          236.408,
          238.4,
          238.4,
          240,
          242.064,
          244,
          246.4,
          248,
          250.4,
          251.2,
          251.2,
          251.2,
          251.664,
          251.984,
          253.648,
          253.648,
          253.648,
          255.552,
          258.856,
          260,
          263.2,
          263.2,
          263.2,
          263.2,
          263.2,
          264.12,
          264.8,
          264.8,
          264.8,
          264.8,
          267.528,
          269.82399999999996,
          272.8,
          274.82399999999996,
          284.8,
          288,
          288,
          289.6,
          292,
          294.12,
          294.4,
          296.8,
          299.2,
          300,
          304,
          304,
          304.98400000000004,
          310.4,
          310.4,
          310.4,
          310.4,
          310.4,
          313.904,
          314.4,
          332,
          332,
          332.98400000000004,
          333.98400000000004,
          334.24,
          335.2,
          337,
          341.6,
          347.2,
          360.36,
          362.4,
          375.2,
          407.48,
          416
         ]
        },
        {
         "marker": {
          "color": "red"
         },
         "mode": "lines",
         "name": "+20% y_test",
         "type": "scatter",
         "x": [
          176,
          194.23,
          220,
          223,
          229,
          248,
          250.98,
          253,
          263.54,
          266,
          268,
          268.57,
          277,
          277,
          277,
          277,
          290,
          290,
          294.82,
          295.51,
          298,
          298,
          300,
          302.58,
          305,
          308,
          310,
          313,
          314,
          314,
          314,
          314.58,
          314.98,
          317.06,
          317.06,
          317.06,
          319.44,
          323.57,
          325,
          329,
          329,
          329,
          329,
          329,
          330.15,
          331,
          331,
          331,
          331,
          334.41,
          337.28,
          341,
          343.53,
          356,
          360,
          360,
          362,
          365,
          367.65,
          368,
          371,
          374,
          375,
          380,
          380,
          381.23,
          388,
          388,
          388,
          388,
          388,
          392.38,
          393,
          415,
          415,
          416.23,
          417.48,
          417.8,
          419,
          421.25,
          427,
          434,
          450.45,
          453,
          469,
          509.35,
          520
         ],
         "y": [
          211.2,
          233.076,
          264,
          267.6,
          274.8,
          297.6,
          301.176,
          303.6,
          316.24800000000005,
          319.2,
          321.6,
          322.284,
          332.4,
          332.4,
          332.4,
          332.4,
          348,
          348,
          353.784,
          354.61199999999997,
          357.6,
          357.6,
          360,
          363.096,
          366,
          369.6,
          372,
          375.6,
          376.8,
          376.8,
          376.8,
          377.496,
          377.976,
          380.472,
          380.472,
          380.472,
          383.328,
          388.284,
          390,
          394.8,
          394.8,
          394.8,
          394.8,
          394.8,
          396.17999999999995,
          397.2,
          397.2,
          397.2,
          397.2,
          401.29200000000003,
          404.736,
          409.2,
          412.236,
          427.2,
          432,
          432,
          434.4,
          438,
          441.17999999999995,
          441.6,
          445.2,
          448.8,
          450,
          456,
          456,
          457.476,
          465.6,
          465.6,
          465.6,
          465.6,
          465.6,
          470.856,
          471.6,
          498,
          498,
          499.476,
          500.976,
          501.36,
          502.8,
          505.5,
          512.4,
          520.8,
          540.54,
          543.6,
          562.8,
          611.22,
          624
         ]
        }
       ],
       "layout": {
        "template": {
         "data": {
          "bar": [
           {
            "error_x": {
             "color": "#2a3f5f"
            },
            "error_y": {
             "color": "#2a3f5f"
            },
            "marker": {
             "line": {
              "color": "#E5ECF6",
              "width": 0.5
             }
            },
            "type": "bar"
           }
          ],
          "barpolar": [
           {
            "marker": {
             "line": {
              "color": "#E5ECF6",
              "width": 0.5
             }
            },
            "type": "barpolar"
           }
          ],
          "carpet": [
           {
            "aaxis": {
             "endlinecolor": "#2a3f5f",
             "gridcolor": "white",
             "linecolor": "white",
             "minorgridcolor": "white",
             "startlinecolor": "#2a3f5f"
            },
            "baxis": {
             "endlinecolor": "#2a3f5f",
             "gridcolor": "white",
             "linecolor": "white",
             "minorgridcolor": "white",
             "startlinecolor": "#2a3f5f"
            },
            "type": "carpet"
           }
          ],
          "choropleth": [
           {
            "colorbar": {
             "outlinewidth": 0,
             "ticks": ""
            },
            "type": "choropleth"
           }
          ],
          "contour": [
           {
            "colorbar": {
             "outlinewidth": 0,
             "ticks": ""
            },
            "colorscale": [
             [
              0,
              "#0d0887"
             ],
             [
              0.1111111111111111,
              "#46039f"
             ],
             [
              0.2222222222222222,
              "#7201a8"
             ],
             [
              0.3333333333333333,
              "#9c179e"
             ],
             [
              0.4444444444444444,
              "#bd3786"
             ],
             [
              0.5555555555555556,
              "#d8576b"
             ],
             [
              0.6666666666666666,
              "#ed7953"
             ],
             [
              0.7777777777777778,
              "#fb9f3a"
             ],
             [
              0.8888888888888888,
              "#fdca26"
             ],
             [
              1,
              "#f0f921"
             ]
            ],
            "type": "contour"
           }
          ],
          "contourcarpet": [
           {
            "colorbar": {
             "outlinewidth": 0,
             "ticks": ""
            },
            "type": "contourcarpet"
           }
          ],
          "heatmap": [
           {
            "colorbar": {
             "outlinewidth": 0,
             "ticks": ""
            },
            "colorscale": [
             [
              0,
              "#0d0887"
             ],
             [
              0.1111111111111111,
              "#46039f"
             ],
             [
              0.2222222222222222,
              "#7201a8"
             ],
             [
              0.3333333333333333,
              "#9c179e"
             ],
             [
              0.4444444444444444,
              "#bd3786"
             ],
             [
              0.5555555555555556,
              "#d8576b"
             ],
             [
              0.6666666666666666,
              "#ed7953"
             ],
             [
              0.7777777777777778,
              "#fb9f3a"
             ],
             [
              0.8888888888888888,
              "#fdca26"
             ],
             [
              1,
              "#f0f921"
             ]
            ],
            "type": "heatmap"
           }
          ],
          "heatmapgl": [
           {
            "colorbar": {
             "outlinewidth": 0,
             "ticks": ""
            },
            "colorscale": [
             [
              0,
              "#0d0887"
             ],
             [
              0.1111111111111111,
              "#46039f"
             ],
             [
              0.2222222222222222,
              "#7201a8"
             ],
             [
              0.3333333333333333,
              "#9c179e"
             ],
             [
              0.4444444444444444,
              "#bd3786"
             ],
             [
              0.5555555555555556,
              "#d8576b"
             ],
             [
              0.6666666666666666,
              "#ed7953"
             ],
             [
              0.7777777777777778,
              "#fb9f3a"
             ],
             [
              0.8888888888888888,
              "#fdca26"
             ],
             [
              1,
              "#f0f921"
             ]
            ],
            "type": "heatmapgl"
           }
          ],
          "histogram": [
           {
            "marker": {
             "colorbar": {
              "outlinewidth": 0,
              "ticks": ""
             }
            },
            "type": "histogram"
           }
          ],
          "histogram2d": [
           {
            "colorbar": {
             "outlinewidth": 0,
             "ticks": ""
            },
            "colorscale": [
             [
              0,
              "#0d0887"
             ],
             [
              0.1111111111111111,
              "#46039f"
             ],
             [
              0.2222222222222222,
              "#7201a8"
             ],
             [
              0.3333333333333333,
              "#9c179e"
             ],
             [
              0.4444444444444444,
              "#bd3786"
             ],
             [
              0.5555555555555556,
              "#d8576b"
             ],
             [
              0.6666666666666666,
              "#ed7953"
             ],
             [
              0.7777777777777778,
              "#fb9f3a"
             ],
             [
              0.8888888888888888,
              "#fdca26"
             ],
             [
              1,
              "#f0f921"
             ]
            ],
            "type": "histogram2d"
           }
          ],
          "histogram2dcontour": [
           {
            "colorbar": {
             "outlinewidth": 0,
             "ticks": ""
            },
            "colorscale": [
             [
              0,
              "#0d0887"
             ],
             [
              0.1111111111111111,
              "#46039f"
             ],
             [
              0.2222222222222222,
              "#7201a8"
             ],
             [
              0.3333333333333333,
              "#9c179e"
             ],
             [
              0.4444444444444444,
              "#bd3786"
             ],
             [
              0.5555555555555556,
              "#d8576b"
             ],
             [
              0.6666666666666666,
              "#ed7953"
             ],
             [
              0.7777777777777778,
              "#fb9f3a"
             ],
             [
              0.8888888888888888,
              "#fdca26"
             ],
             [
              1,
              "#f0f921"
             ]
            ],
            "type": "histogram2dcontour"
           }
          ],
          "mesh3d": [
           {
            "colorbar": {
             "outlinewidth": 0,
             "ticks": ""
            },
            "type": "mesh3d"
           }
          ],
          "parcoords": [
           {
            "line": {
             "colorbar": {
              "outlinewidth": 0,
              "ticks": ""
             }
            },
            "type": "parcoords"
           }
          ],
          "pie": [
           {
            "automargin": true,
            "type": "pie"
           }
          ],
          "scatter": [
           {
            "marker": {
             "colorbar": {
              "outlinewidth": 0,
              "ticks": ""
             }
            },
            "type": "scatter"
           }
          ],
          "scatter3d": [
           {
            "line": {
             "colorbar": {
              "outlinewidth": 0,
              "ticks": ""
             }
            },
            "marker": {
             "colorbar": {
              "outlinewidth": 0,
              "ticks": ""
             }
            },
            "type": "scatter3d"
           }
          ],
          "scattercarpet": [
           {
            "marker": {
             "colorbar": {
              "outlinewidth": 0,
              "ticks": ""
             }
            },
            "type": "scattercarpet"
           }
          ],
          "scattergeo": [
           {
            "marker": {
             "colorbar": {
              "outlinewidth": 0,
              "ticks": ""
             }
            },
            "type": "scattergeo"
           }
          ],
          "scattergl": [
           {
            "marker": {
             "colorbar": {
              "outlinewidth": 0,
              "ticks": ""
             }
            },
            "type": "scattergl"
           }
          ],
          "scattermapbox": [
           {
            "marker": {
             "colorbar": {
              "outlinewidth": 0,
              "ticks": ""
             }
            },
            "type": "scattermapbox"
           }
          ],
          "scatterpolar": [
           {
            "marker": {
             "colorbar": {
              "outlinewidth": 0,
              "ticks": ""
             }
            },
            "type": "scatterpolar"
           }
          ],
          "scatterpolargl": [
           {
            "marker": {
             "colorbar": {
              "outlinewidth": 0,
              "ticks": ""
             }
            },
            "type": "scatterpolargl"
           }
          ],
          "scatterternary": [
           {
            "marker": {
             "colorbar": {
              "outlinewidth": 0,
              "ticks": ""
             }
            },
            "type": "scatterternary"
           }
          ],
          "surface": [
           {
            "colorbar": {
             "outlinewidth": 0,
             "ticks": ""
            },
            "colorscale": [
             [
              0,
              "#0d0887"
             ],
             [
              0.1111111111111111,
              "#46039f"
             ],
             [
              0.2222222222222222,
              "#7201a8"
             ],
             [
              0.3333333333333333,
              "#9c179e"
             ],
             [
              0.4444444444444444,
              "#bd3786"
             ],
             [
              0.5555555555555556,
              "#d8576b"
             ],
             [
              0.6666666666666666,
              "#ed7953"
             ],
             [
              0.7777777777777778,
              "#fb9f3a"
             ],
             [
              0.8888888888888888,
              "#fdca26"
             ],
             [
              1,
              "#f0f921"
             ]
            ],
            "type": "surface"
           }
          ],
          "table": [
           {
            "cells": {
             "fill": {
              "color": "#EBF0F8"
             },
             "line": {
              "color": "white"
             }
            },
            "header": {
             "fill": {
              "color": "#C8D4E3"
             },
             "line": {
              "color": "white"
             }
            },
            "type": "table"
           }
          ]
         },
         "layout": {
          "annotationdefaults": {
           "arrowcolor": "#2a3f5f",
           "arrowhead": 0,
           "arrowwidth": 1
          },
          "coloraxis": {
           "colorbar": {
            "outlinewidth": 0,
            "ticks": ""
           }
          },
          "colorscale": {
           "diverging": [
            [
             0,
             "#8e0152"
            ],
            [
             0.1,
             "#c51b7d"
            ],
            [
             0.2,
             "#de77ae"
            ],
            [
             0.3,
             "#f1b6da"
            ],
            [
             0.4,
             "#fde0ef"
            ],
            [
             0.5,
             "#f7f7f7"
            ],
            [
             0.6,
             "#e6f5d0"
            ],
            [
             0.7,
             "#b8e186"
            ],
            [
             0.8,
             "#7fbc41"
            ],
            [
             0.9,
             "#4d9221"
            ],
            [
             1,
             "#276419"
            ]
           ],
           "sequential": [
            [
             0,
             "#0d0887"
            ],
            [
             0.1111111111111111,
             "#46039f"
            ],
            [
             0.2222222222222222,
             "#7201a8"
            ],
            [
             0.3333333333333333,
             "#9c179e"
            ],
            [
             0.4444444444444444,
             "#bd3786"
            ],
            [
             0.5555555555555556,
             "#d8576b"
            ],
            [
             0.6666666666666666,
             "#ed7953"
            ],
            [
             0.7777777777777778,
             "#fb9f3a"
            ],
            [
             0.8888888888888888,
             "#fdca26"
            ],
            [
             1,
             "#f0f921"
            ]
           ],
           "sequentialminus": [
            [
             0,
             "#0d0887"
            ],
            [
             0.1111111111111111,
             "#46039f"
            ],
            [
             0.2222222222222222,
             "#7201a8"
            ],
            [
             0.3333333333333333,
             "#9c179e"
            ],
            [
             0.4444444444444444,
             "#bd3786"
            ],
            [
             0.5555555555555556,
             "#d8576b"
            ],
            [
             0.6666666666666666,
             "#ed7953"
            ],
            [
             0.7777777777777778,
             "#fb9f3a"
            ],
            [
             0.8888888888888888,
             "#fdca26"
            ],
            [
             1,
             "#f0f921"
            ]
           ]
          },
          "colorway": [
           "#636efa",
           "#EF553B",
           "#00cc96",
           "#ab63fa",
           "#FFA15A",
           "#19d3f3",
           "#FF6692",
           "#B6E880",
           "#FF97FF",
           "#FECB52"
          ],
          "font": {
           "color": "#2a3f5f"
          },
          "geo": {
           "bgcolor": "white",
           "lakecolor": "white",
           "landcolor": "#E5ECF6",
           "showlakes": true,
           "showland": true,
           "subunitcolor": "white"
          },
          "hoverlabel": {
           "align": "left"
          },
          "hovermode": "closest",
          "mapbox": {
           "style": "light"
          },
          "paper_bgcolor": "white",
          "plot_bgcolor": "#E5ECF6",
          "polar": {
           "angularaxis": {
            "gridcolor": "white",
            "linecolor": "white",
            "ticks": ""
           },
           "bgcolor": "#E5ECF6",
           "radialaxis": {
            "gridcolor": "white",
            "linecolor": "white",
            "ticks": ""
           }
          },
          "scene": {
           "xaxis": {
            "backgroundcolor": "#E5ECF6",
            "gridcolor": "white",
            "gridwidth": 2,
            "linecolor": "white",
            "showbackground": true,
            "ticks": "",
            "zerolinecolor": "white"
           },
           "yaxis": {
            "backgroundcolor": "#E5ECF6",
            "gridcolor": "white",
            "gridwidth": 2,
            "linecolor": "white",
            "showbackground": true,
            "ticks": "",
            "zerolinecolor": "white"
           },
           "zaxis": {
            "backgroundcolor": "#E5ECF6",
            "gridcolor": "white",
            "gridwidth": 2,
            "linecolor": "white",
            "showbackground": true,
            "ticks": "",
            "zerolinecolor": "white"
           }
          },
          "shapedefaults": {
           "line": {
            "color": "#2a3f5f"
           }
          },
          "ternary": {
           "aaxis": {
            "gridcolor": "white",
            "linecolor": "white",
            "ticks": ""
           },
           "baxis": {
            "gridcolor": "white",
            "linecolor": "white",
            "ticks": ""
           },
           "bgcolor": "#E5ECF6",
           "caxis": {
            "gridcolor": "white",
            "linecolor": "white",
            "ticks": ""
           }
          },
          "title": {
           "x": 0.05
          },
          "xaxis": {
           "automargin": true,
           "gridcolor": "white",
           "linecolor": "white",
           "ticks": "",
           "title": {
            "standoff": 15
           },
           "zerolinecolor": "white",
           "zerolinewidth": 2
          },
          "yaxis": {
           "automargin": true,
           "gridcolor": "white",
           "linecolor": "white",
           "ticks": "",
           "title": {
            "standoff": 15
           },
           "zerolinecolor": "white",
           "zerolinewidth": 2
          }
         }
        },
        "xaxis": {
         "anchor": "y",
         "domain": [
          0,
          1
         ]
        },
        "yaxis": {
         "anchor": "x",
         "domain": [
          0,
          1
         ]
        }
       }
      },
      "text/html": [
       "<div>\n",
       "        \n",
       "        \n",
       "            <div id=\"5e2fb235-b001-44e6-8bd7-520c4a6adf6e\" class=\"plotly-graph-div\" style=\"height:525px; width:100%;\"></div>\n",
       "            <script type=\"text/javascript\">\n",
       "                require([\"plotly\"], function(Plotly) {\n",
       "                    window.PLOTLYENV=window.PLOTLYENV || {};\n",
       "                    \n",
       "                if (document.getElementById(\"5e2fb235-b001-44e6-8bd7-520c4a6adf6e\")) {\n",
       "                    Plotly.newPlot(\n",
       "                        '5e2fb235-b001-44e6-8bd7-520c4a6adf6e',\n",
       "                        [{\"marker\": {\"color\": \"grey\"}, \"mode\": \"markers\", \"name\": \"y_test\", \"type\": \"scatter\", \"x\": [176.0, 194.23, 220.0, 223.0, 229.0, 248.0, 250.98, 253.0, 263.54, 266.0, 268.0, 268.57, 277.0, 277.0, 277.0, 277.0, 290.0, 290.0, 294.82, 295.51, 298.0, 298.0, 300.0, 302.58, 305.0, 308.0, 310.0, 313.0, 314.0, 314.0, 314.0, 314.58, 314.98, 317.06, 317.06, 317.06, 319.44, 323.57, 325.0, 329.0, 329.0, 329.0, 329.0, 329.0, 330.15, 331.0, 331.0, 331.0, 331.0, 334.41, 337.28, 341.0, 343.53, 356.0, 360.0, 360.0, 362.0, 365.0, 367.65, 368.0, 371.0, 374.0, 375.0, 380.0, 380.0, 381.23, 388.0, 388.0, 388.0, 388.0, 388.0, 392.38, 393.0, 415.0, 415.0, 416.23, 417.48, 417.8, 419.0, 421.25, 427.0, 434.0, 450.45, 453.0, 469.0, 509.35, 520.0], \"y\": [176.0, 194.23, 220.0, 223.0, 229.0, 248.0, 250.98, 253.0, 263.54, 266.0, 268.0, 268.57, 277.0, 277.0, 277.0, 277.0, 290.0, 290.0, 294.82, 295.51, 298.0, 298.0, 300.0, 302.58, 305.0, 308.0, 310.0, 313.0, 314.0, 314.0, 314.0, 314.58, 314.98, 317.06, 317.06, 317.06, 319.44, 323.57, 325.0, 329.0, 329.0, 329.0, 329.0, 329.0, 330.15, 331.0, 331.0, 331.0, 331.0, 334.41, 337.28, 341.0, 343.53, 356.0, 360.0, 360.0, 362.0, 365.0, 367.65, 368.0, 371.0, 374.0, 375.0, 380.0, 380.0, 381.23, 388.0, 388.0, 388.0, 388.0, 388.0, 392.38, 393.0, 415.0, 415.0, 416.23, 417.48, 417.8, 419.0, 421.25, 427.0, 434.0, 450.45, 453.0, 469.0, 509.35, 520.0]}, {\"marker\": {\"color\": \"orange\"}, \"mode\": \"markers\", \"name\": \"y_pred\", \"type\": \"scatter\", \"x\": [176.0, 194.23, 220.0, 223.0, 229.0, 248.0, 250.98, 253.0, 263.54, 266.0, 268.0, 268.57, 277.0, 277.0, 277.0, 277.0, 290.0, 290.0, 294.82, 295.51, 298.0, 298.0, 300.0, 302.58, 305.0, 308.0, 310.0, 313.0, 314.0, 314.0, 314.0, 314.58, 314.98, 317.06, 317.06, 317.06, 319.44, 323.57, 325.0, 329.0, 329.0, 329.0, 329.0, 329.0, 330.15, 331.0, 331.0, 331.0, 331.0, 334.41, 337.28, 341.0, 343.53, 356.0, 360.0, 360.0, 362.0, 365.0, 367.65, 368.0, 371.0, 374.0, 375.0, 380.0, 380.0, 381.23, 388.0, 388.0, 388.0, 388.0, 388.0, 392.38, 393.0, 415.0, 415.0, 416.23, 417.48, 417.8, 419.0, 421.25, 427.0, 434.0, 450.45, 453.0, 469.0, 509.35, 520.0], \"y\": [168.2212942944544, 283.12886890793953, 220.80970425631665, 221.68633978998656, 266.98726720731094, 264.5172408459684, 262.09594906691007, 237.7111578210177, 270.3170936822319, 220.80970425631665, 335.5205247269107, 251.4963092687202, 277.03490857007773, 278.4744080244145, 306.6314789408721, 277.03490857007773, 341.4627784762544, 270.1511204657594, 293.14864391281907, 294.77484736514594, 299.72234040762777, 315.89749257522277, 524.9416417846735, 319.3159658884341, 306.9965486566571, 391.13747740589105, 313.553883551756, 302.2117150084039, 321.5611343795863, 293.5724987548116, 321.5611343795863, 292.3940709656258, 310.00496774533593, 288.6003061085595, 314.0245752350932, 307.9995509489298, 424.22636917432584, 319.4444982677046, 328.00505075565235, 328.9095979665758, 328.9095979665758, 328.9095979665758, 328.9095979665758, 328.9095979665758, 239.716558594997, 321.5611343795863, 321.5611343795863, 325.7862374245335, 321.5611343795863, 315.6237522979526, 336.0334117375282, 373.57216504015884, 349.4181785063513, 361.2308719847339, 381.79305527062866, 368.90946211915764, 371.34501475328403, 359.02440160269236, 338.55904785093963, 336.5614119167331, 369.7545310510802, 394.9387863067586, 345.72268130424953, 387.4733380034238, 370.3557787515133, 356.63458162652, 374.86207727088924, 405.96087132954705, 405.96087132954705, 344.13649067413763, 405.96087132954705, 367.1544314238623, 400.79042233289147, 415.55087515405734, 369.5472842556804, 412.48685442249194, 376.8321862583052, 428.6290349463808, 509.0175578597727, 307.52054849831575, 420.82269794123636, 420.6616167641459, 423.6329385704973, 516.3149683327739, 499.5427695968491, 460.65746669910664, 516.1606746934632]}, {\"marker\": {\"color\": \"blue\"}, \"mode\": \"lines\", \"name\": \"-10% y_test\", \"type\": \"scatter\", \"x\": [176.0, 194.23, 220.0, 223.0, 229.0, 248.0, 250.98, 253.0, 263.54, 266.0, 268.0, 268.57, 277.0, 277.0, 277.0, 277.0, 290.0, 290.0, 294.82, 295.51, 298.0, 298.0, 300.0, 302.58, 305.0, 308.0, 310.0, 313.0, 314.0, 314.0, 314.0, 314.58, 314.98, 317.06, 317.06, 317.06, 319.44, 323.57, 325.0, 329.0, 329.0, 329.0, 329.0, 329.0, 330.15, 331.0, 331.0, 331.0, 331.0, 334.41, 337.28, 341.0, 343.53, 356.0, 360.0, 360.0, 362.0, 365.0, 367.65, 368.0, 371.0, 374.0, 375.0, 380.0, 380.0, 381.23, 388.0, 388.0, 388.0, 388.0, 388.0, 392.38, 393.0, 415.0, 415.0, 416.23, 417.48, 417.8, 419.0, 421.25, 427.0, 434.0, 450.45, 453.0, 469.0, 509.35, 520.0], \"y\": [158.4, 174.807, 198.0, 200.7, 206.1, 223.2, 225.882, 227.7, 237.186, 239.4, 241.2, 241.713, 249.3, 249.3, 249.3, 249.3, 261.0, 261.0, 265.33799999999997, 265.959, 268.2, 268.2, 270.0, 272.322, 274.5, 277.2, 279.0, 281.7, 282.6, 282.6, 282.6, 283.12199999999996, 283.482, 285.354, 285.354, 285.354, 287.496, 291.21299999999997, 292.5, 296.1, 296.1, 296.1, 296.1, 296.1, 297.135, 297.9, 297.9, 297.9, 297.9, 300.96900000000005, 303.55199999999996, 306.9, 309.17699999999996, 320.4, 324.0, 324.0, 325.8, 328.5, 330.885, 331.2, 333.9, 336.6, 337.5, 342.0, 342.0, 343.107, 349.2, 349.2, 349.2, 349.2, 349.2, 353.142, 353.7, 373.5, 373.5, 374.607, 375.732, 376.02, 377.1, 379.125, 384.3, 390.6, 405.405, 407.7, 422.1, 458.415, 468.0]}, {\"marker\": {\"color\": \"blue\"}, \"mode\": \"lines\", \"name\": \"+ 10% y_test\", \"type\": \"scatter\", \"x\": [176.0, 194.23, 220.0, 223.0, 229.0, 248.0, 250.98, 253.0, 263.54, 266.0, 268.0, 268.57, 277.0, 277.0, 277.0, 277.0, 290.0, 290.0, 294.82, 295.51, 298.0, 298.0, 300.0, 302.58, 305.0, 308.0, 310.0, 313.0, 314.0, 314.0, 314.0, 314.58, 314.98, 317.06, 317.06, 317.06, 319.44, 323.57, 325.0, 329.0, 329.0, 329.0, 329.0, 329.0, 330.15, 331.0, 331.0, 331.0, 331.0, 334.41, 337.28, 341.0, 343.53, 356.0, 360.0, 360.0, 362.0, 365.0, 367.65, 368.0, 371.0, 374.0, 375.0, 380.0, 380.0, 381.23, 388.0, 388.0, 388.0, 388.0, 388.0, 392.38, 393.0, 415.0, 415.0, 416.23, 417.48, 417.8, 419.0, 421.25, 427.0, 434.0, 450.45, 453.0, 469.0, 509.35, 520.0], \"y\": [193.6, 213.653, 242.0, 245.3, 251.9, 272.8, 276.078, 278.3, 289.894, 292.6, 294.8, 295.427, 304.7, 304.7, 304.7, 304.7, 319.0, 319.0, 324.302, 325.061, 327.8, 327.8, 330.0, 332.83799999999997, 335.5, 338.8, 341.0, 344.3, 345.4, 345.4, 345.4, 346.038, 346.478, 348.766, 348.766, 348.766, 351.384, 355.927, 357.5, 361.9, 361.9, 361.9, 361.9, 361.9, 363.16499999999996, 364.1, 364.1, 364.1, 364.1, 367.851, 371.008, 375.1, 377.883, 391.6, 396.0, 396.0, 398.2, 401.5, 404.41499999999996, 404.8, 408.1, 411.4, 412.5, 418.0, 418.0, 419.353, 426.8, 426.8, 426.8, 426.8, 426.8, 431.618, 432.3, 456.5, 456.5, 457.853, 459.228, 459.58000000000004, 460.9, 463.375, 469.7, 477.4, 495.495, 498.3, 515.9, 560.2850000000001, 572.0]}, {\"marker\": {\"color\": \"red\"}, \"mode\": \"lines\", \"name\": \"-20% y_test\", \"type\": \"scatter\", \"x\": [176.0, 194.23, 220.0, 223.0, 229.0, 248.0, 250.98, 253.0, 263.54, 266.0, 268.0, 268.57, 277.0, 277.0, 277.0, 277.0, 290.0, 290.0, 294.82, 295.51, 298.0, 298.0, 300.0, 302.58, 305.0, 308.0, 310.0, 313.0, 314.0, 314.0, 314.0, 314.58, 314.98, 317.06, 317.06, 317.06, 319.44, 323.57, 325.0, 329.0, 329.0, 329.0, 329.0, 329.0, 330.15, 331.0, 331.0, 331.0, 331.0, 334.41, 337.28, 341.0, 343.53, 356.0, 360.0, 360.0, 362.0, 365.0, 367.65, 368.0, 371.0, 374.0, 375.0, 380.0, 380.0, 381.23, 388.0, 388.0, 388.0, 388.0, 388.0, 392.38, 393.0, 415.0, 415.0, 416.23, 417.48, 417.8, 419.0, 421.25, 427.0, 434.0, 450.45, 453.0, 469.0, 509.35, 520.0], \"y\": [140.8, 155.384, 176.0, 178.4, 183.2, 198.4, 200.784, 202.4, 210.83200000000002, 212.8, 214.4, 214.856, 221.6, 221.6, 221.6, 221.6, 232.0, 232.0, 235.856, 236.408, 238.4, 238.4, 240.0, 242.064, 244.0, 246.4, 248.0, 250.4, 251.2, 251.2, 251.2, 251.664, 251.984, 253.648, 253.648, 253.648, 255.552, 258.856, 260.0, 263.2, 263.2, 263.2, 263.2, 263.2, 264.12, 264.8, 264.8, 264.8, 264.8, 267.528, 269.82399999999996, 272.8, 274.82399999999996, 284.8, 288.0, 288.0, 289.6, 292.0, 294.12, 294.4, 296.8, 299.2, 300.0, 304.0, 304.0, 304.98400000000004, 310.4, 310.4, 310.4, 310.4, 310.4, 313.904, 314.4, 332.0, 332.0, 332.98400000000004, 333.98400000000004, 334.24, 335.2, 337.0, 341.6, 347.2, 360.36, 362.4, 375.2, 407.48, 416.0]}, {\"marker\": {\"color\": \"red\"}, \"mode\": \"lines\", \"name\": \"+20% y_test\", \"type\": \"scatter\", \"x\": [176.0, 194.23, 220.0, 223.0, 229.0, 248.0, 250.98, 253.0, 263.54, 266.0, 268.0, 268.57, 277.0, 277.0, 277.0, 277.0, 290.0, 290.0, 294.82, 295.51, 298.0, 298.0, 300.0, 302.58, 305.0, 308.0, 310.0, 313.0, 314.0, 314.0, 314.0, 314.58, 314.98, 317.06, 317.06, 317.06, 319.44, 323.57, 325.0, 329.0, 329.0, 329.0, 329.0, 329.0, 330.15, 331.0, 331.0, 331.0, 331.0, 334.41, 337.28, 341.0, 343.53, 356.0, 360.0, 360.0, 362.0, 365.0, 367.65, 368.0, 371.0, 374.0, 375.0, 380.0, 380.0, 381.23, 388.0, 388.0, 388.0, 388.0, 388.0, 392.38, 393.0, 415.0, 415.0, 416.23, 417.48, 417.8, 419.0, 421.25, 427.0, 434.0, 450.45, 453.0, 469.0, 509.35, 520.0], \"y\": [211.2, 233.076, 264.0, 267.6, 274.8, 297.6, 301.176, 303.6, 316.24800000000005, 319.2, 321.6, 322.284, 332.4, 332.4, 332.4, 332.4, 348.0, 348.0, 353.784, 354.61199999999997, 357.6, 357.6, 360.0, 363.096, 366.0, 369.6, 372.0, 375.6, 376.8, 376.8, 376.8, 377.496, 377.976, 380.472, 380.472, 380.472, 383.328, 388.284, 390.0, 394.8, 394.8, 394.8, 394.8, 394.8, 396.17999999999995, 397.2, 397.2, 397.2, 397.2, 401.29200000000003, 404.736, 409.2, 412.236, 427.2, 432.0, 432.0, 434.4, 438.0, 441.17999999999995, 441.6, 445.2, 448.8, 450.0, 456.0, 456.0, 457.476, 465.6, 465.6, 465.6, 465.6, 465.6, 470.856, 471.6, 498.0, 498.0, 499.476, 500.976, 501.36, 502.8, 505.5, 512.4, 520.8, 540.54, 543.6, 562.8, 611.22, 624.0]}],\n",
       "                        {\"template\": {\"data\": {\"bar\": [{\"error_x\": {\"color\": \"#2a3f5f\"}, \"error_y\": {\"color\": \"#2a3f5f\"}, \"marker\": {\"line\": {\"color\": \"#E5ECF6\", \"width\": 0.5}}, \"type\": \"bar\"}], \"barpolar\": [{\"marker\": {\"line\": {\"color\": \"#E5ECF6\", \"width\": 0.5}}, \"type\": \"barpolar\"}], \"carpet\": [{\"aaxis\": {\"endlinecolor\": \"#2a3f5f\", \"gridcolor\": \"white\", \"linecolor\": \"white\", \"minorgridcolor\": \"white\", \"startlinecolor\": \"#2a3f5f\"}, \"baxis\": {\"endlinecolor\": \"#2a3f5f\", \"gridcolor\": \"white\", \"linecolor\": \"white\", \"minorgridcolor\": \"white\", \"startlinecolor\": \"#2a3f5f\"}, \"type\": \"carpet\"}], \"choropleth\": [{\"colorbar\": {\"outlinewidth\": 0, \"ticks\": \"\"}, \"type\": \"choropleth\"}], \"contour\": [{\"colorbar\": {\"outlinewidth\": 0, \"ticks\": \"\"}, \"colorscale\": [[0.0, \"#0d0887\"], [0.1111111111111111, \"#46039f\"], [0.2222222222222222, \"#7201a8\"], [0.3333333333333333, \"#9c179e\"], [0.4444444444444444, \"#bd3786\"], [0.5555555555555556, \"#d8576b\"], [0.6666666666666666, \"#ed7953\"], [0.7777777777777778, \"#fb9f3a\"], [0.8888888888888888, \"#fdca26\"], [1.0, \"#f0f921\"]], \"type\": \"contour\"}], \"contourcarpet\": [{\"colorbar\": {\"outlinewidth\": 0, \"ticks\": \"\"}, \"type\": \"contourcarpet\"}], \"heatmap\": [{\"colorbar\": {\"outlinewidth\": 0, \"ticks\": \"\"}, \"colorscale\": [[0.0, \"#0d0887\"], [0.1111111111111111, \"#46039f\"], [0.2222222222222222, \"#7201a8\"], [0.3333333333333333, \"#9c179e\"], [0.4444444444444444, \"#bd3786\"], [0.5555555555555556, \"#d8576b\"], [0.6666666666666666, \"#ed7953\"], [0.7777777777777778, \"#fb9f3a\"], [0.8888888888888888, \"#fdca26\"], [1.0, \"#f0f921\"]], \"type\": \"heatmap\"}], \"heatmapgl\": [{\"colorbar\": {\"outlinewidth\": 0, \"ticks\": \"\"}, \"colorscale\": [[0.0, \"#0d0887\"], [0.1111111111111111, \"#46039f\"], [0.2222222222222222, \"#7201a8\"], [0.3333333333333333, \"#9c179e\"], [0.4444444444444444, \"#bd3786\"], [0.5555555555555556, \"#d8576b\"], [0.6666666666666666, \"#ed7953\"], [0.7777777777777778, \"#fb9f3a\"], [0.8888888888888888, \"#fdca26\"], [1.0, \"#f0f921\"]], \"type\": \"heatmapgl\"}], \"histogram\": [{\"marker\": {\"colorbar\": {\"outlinewidth\": 0, \"ticks\": \"\"}}, \"type\": \"histogram\"}], \"histogram2d\": [{\"colorbar\": {\"outlinewidth\": 0, \"ticks\": \"\"}, \"colorscale\": [[0.0, \"#0d0887\"], [0.1111111111111111, \"#46039f\"], [0.2222222222222222, \"#7201a8\"], [0.3333333333333333, \"#9c179e\"], [0.4444444444444444, \"#bd3786\"], [0.5555555555555556, \"#d8576b\"], [0.6666666666666666, \"#ed7953\"], [0.7777777777777778, \"#fb9f3a\"], [0.8888888888888888, \"#fdca26\"], [1.0, \"#f0f921\"]], \"type\": \"histogram2d\"}], \"histogram2dcontour\": [{\"colorbar\": {\"outlinewidth\": 0, \"ticks\": \"\"}, \"colorscale\": [[0.0, \"#0d0887\"], [0.1111111111111111, \"#46039f\"], [0.2222222222222222, \"#7201a8\"], [0.3333333333333333, \"#9c179e\"], [0.4444444444444444, \"#bd3786\"], [0.5555555555555556, \"#d8576b\"], [0.6666666666666666, \"#ed7953\"], [0.7777777777777778, \"#fb9f3a\"], [0.8888888888888888, \"#fdca26\"], [1.0, \"#f0f921\"]], \"type\": \"histogram2dcontour\"}], \"mesh3d\": [{\"colorbar\": {\"outlinewidth\": 0, \"ticks\": \"\"}, \"type\": \"mesh3d\"}], \"parcoords\": [{\"line\": {\"colorbar\": {\"outlinewidth\": 0, \"ticks\": \"\"}}, \"type\": \"parcoords\"}], \"pie\": [{\"automargin\": true, \"type\": \"pie\"}], \"scatter\": [{\"marker\": {\"colorbar\": {\"outlinewidth\": 0, \"ticks\": \"\"}}, \"type\": \"scatter\"}], \"scatter3d\": [{\"line\": {\"colorbar\": {\"outlinewidth\": 0, \"ticks\": \"\"}}, \"marker\": {\"colorbar\": {\"outlinewidth\": 0, \"ticks\": \"\"}}, \"type\": \"scatter3d\"}], \"scattercarpet\": [{\"marker\": {\"colorbar\": {\"outlinewidth\": 0, \"ticks\": \"\"}}, \"type\": \"scattercarpet\"}], \"scattergeo\": [{\"marker\": {\"colorbar\": {\"outlinewidth\": 0, \"ticks\": \"\"}}, \"type\": \"scattergeo\"}], \"scattergl\": [{\"marker\": {\"colorbar\": {\"outlinewidth\": 0, \"ticks\": \"\"}}, \"type\": \"scattergl\"}], \"scattermapbox\": [{\"marker\": {\"colorbar\": {\"outlinewidth\": 0, \"ticks\": \"\"}}, \"type\": \"scattermapbox\"}], \"scatterpolar\": [{\"marker\": {\"colorbar\": {\"outlinewidth\": 0, \"ticks\": \"\"}}, \"type\": \"scatterpolar\"}], \"scatterpolargl\": [{\"marker\": {\"colorbar\": {\"outlinewidth\": 0, \"ticks\": \"\"}}, \"type\": \"scatterpolargl\"}], \"scatterternary\": [{\"marker\": {\"colorbar\": {\"outlinewidth\": 0, \"ticks\": \"\"}}, \"type\": \"scatterternary\"}], \"surface\": [{\"colorbar\": {\"outlinewidth\": 0, \"ticks\": \"\"}, \"colorscale\": [[0.0, \"#0d0887\"], [0.1111111111111111, \"#46039f\"], [0.2222222222222222, \"#7201a8\"], [0.3333333333333333, \"#9c179e\"], [0.4444444444444444, \"#bd3786\"], [0.5555555555555556, \"#d8576b\"], [0.6666666666666666, \"#ed7953\"], [0.7777777777777778, \"#fb9f3a\"], [0.8888888888888888, \"#fdca26\"], [1.0, \"#f0f921\"]], \"type\": \"surface\"}], \"table\": [{\"cells\": {\"fill\": {\"color\": \"#EBF0F8\"}, \"line\": {\"color\": \"white\"}}, \"header\": {\"fill\": {\"color\": \"#C8D4E3\"}, \"line\": {\"color\": \"white\"}}, \"type\": \"table\"}]}, \"layout\": {\"annotationdefaults\": {\"arrowcolor\": \"#2a3f5f\", \"arrowhead\": 0, \"arrowwidth\": 1}, \"coloraxis\": {\"colorbar\": {\"outlinewidth\": 0, \"ticks\": \"\"}}, \"colorscale\": {\"diverging\": [[0, \"#8e0152\"], [0.1, \"#c51b7d\"], [0.2, \"#de77ae\"], [0.3, \"#f1b6da\"], [0.4, \"#fde0ef\"], [0.5, \"#f7f7f7\"], [0.6, \"#e6f5d0\"], [0.7, \"#b8e186\"], [0.8, \"#7fbc41\"], [0.9, \"#4d9221\"], [1, \"#276419\"]], \"sequential\": [[0.0, \"#0d0887\"], [0.1111111111111111, \"#46039f\"], [0.2222222222222222, \"#7201a8\"], [0.3333333333333333, \"#9c179e\"], [0.4444444444444444, \"#bd3786\"], [0.5555555555555556, \"#d8576b\"], [0.6666666666666666, \"#ed7953\"], [0.7777777777777778, \"#fb9f3a\"], [0.8888888888888888, \"#fdca26\"], [1.0, \"#f0f921\"]], \"sequentialminus\": [[0.0, \"#0d0887\"], [0.1111111111111111, \"#46039f\"], [0.2222222222222222, \"#7201a8\"], [0.3333333333333333, \"#9c179e\"], [0.4444444444444444, \"#bd3786\"], [0.5555555555555556, \"#d8576b\"], [0.6666666666666666, \"#ed7953\"], [0.7777777777777778, \"#fb9f3a\"], [0.8888888888888888, \"#fdca26\"], [1.0, \"#f0f921\"]]}, \"colorway\": [\"#636efa\", \"#EF553B\", \"#00cc96\", \"#ab63fa\", \"#FFA15A\", \"#19d3f3\", \"#FF6692\", \"#B6E880\", \"#FF97FF\", \"#FECB52\"], \"font\": {\"color\": \"#2a3f5f\"}, \"geo\": {\"bgcolor\": \"white\", \"lakecolor\": \"white\", \"landcolor\": \"#E5ECF6\", \"showlakes\": true, \"showland\": true, \"subunitcolor\": \"white\"}, \"hoverlabel\": {\"align\": \"left\"}, \"hovermode\": \"closest\", \"mapbox\": {\"style\": \"light\"}, \"paper_bgcolor\": \"white\", \"plot_bgcolor\": \"#E5ECF6\", \"polar\": {\"angularaxis\": {\"gridcolor\": \"white\", \"linecolor\": \"white\", \"ticks\": \"\"}, \"bgcolor\": \"#E5ECF6\", \"radialaxis\": {\"gridcolor\": \"white\", \"linecolor\": \"white\", \"ticks\": \"\"}}, \"scene\": {\"xaxis\": {\"backgroundcolor\": \"#E5ECF6\", \"gridcolor\": \"white\", \"gridwidth\": 2, \"linecolor\": \"white\", \"showbackground\": true, \"ticks\": \"\", \"zerolinecolor\": \"white\"}, \"yaxis\": {\"backgroundcolor\": \"#E5ECF6\", \"gridcolor\": \"white\", \"gridwidth\": 2, \"linecolor\": \"white\", \"showbackground\": true, \"ticks\": \"\", \"zerolinecolor\": \"white\"}, \"zaxis\": {\"backgroundcolor\": \"#E5ECF6\", \"gridcolor\": \"white\", \"gridwidth\": 2, \"linecolor\": \"white\", \"showbackground\": true, \"ticks\": \"\", \"zerolinecolor\": \"white\"}}, \"shapedefaults\": {\"line\": {\"color\": \"#2a3f5f\"}}, \"ternary\": {\"aaxis\": {\"gridcolor\": \"white\", \"linecolor\": \"white\", \"ticks\": \"\"}, \"baxis\": {\"gridcolor\": \"white\", \"linecolor\": \"white\", \"ticks\": \"\"}, \"bgcolor\": \"#E5ECF6\", \"caxis\": {\"gridcolor\": \"white\", \"linecolor\": \"white\", \"ticks\": \"\"}}, \"title\": {\"x\": 0.05}, \"xaxis\": {\"automargin\": true, \"gridcolor\": \"white\", \"linecolor\": \"white\", \"ticks\": \"\", \"title\": {\"standoff\": 15}, \"zerolinecolor\": \"white\", \"zerolinewidth\": 2}, \"yaxis\": {\"automargin\": true, \"gridcolor\": \"white\", \"linecolor\": \"white\", \"ticks\": \"\", \"title\": {\"standoff\": 15}, \"zerolinecolor\": \"white\", \"zerolinewidth\": 2}}}, \"xaxis\": {\"anchor\": \"y\", \"domain\": [0.0, 1.0]}, \"yaxis\": {\"anchor\": \"x\", \"domain\": [0.0, 1.0]}},\n",
       "                        {\"responsive\": true}\n",
       "                    ).then(function(){\n",
       "                            \n",
       "var gd = document.getElementById('5e2fb235-b001-44e6-8bd7-520c4a6adf6e');\n",
       "var x = new MutationObserver(function (mutations, observer) {{\n",
       "        var display = window.getComputedStyle(gd).display;\n",
       "        if (!display || display === 'none') {{\n",
       "            console.log([gd, 'removed!']);\n",
       "            Plotly.purge(gd);\n",
       "            observer.disconnect();\n",
       "        }}\n",
       "}});\n",
       "\n",
       "// Listen for the removal of the full notebook cells\n",
       "var notebookContainer = gd.closest('#notebook-container');\n",
       "if (notebookContainer) {{\n",
       "    x.observe(notebookContainer, {childList: true});\n",
       "}}\n",
       "\n",
       "// Listen for the clearing of the current output cell\n",
       "var outputEl = gd.closest('.output');\n",
       "if (outputEl) {{\n",
       "    x.observe(outputEl, {childList: true});\n",
       "}}\n",
       "\n",
       "                        })\n",
       "                };\n",
       "                });\n",
       "            </script>\n",
       "        </div>"
      ]
     },
     "metadata": {},
     "output_type": "display_data"
    },
    {
     "data": {
      "text/plain": [
       "'name.html'"
      ]
     },
     "execution_count": 174,
     "metadata": {},
     "output_type": "execute_result"
    }
   ],
   "source": [
    "import plotly\n",
    "to_plot = to_plot.sort_values(\"y_test\")\n",
    "\n",
    "\n",
    "fig = make_subplots(specs=[[{\"secondary_y\": False}]])\n",
    "\n",
    "fig.add_trace(go.Scatter(x=to_plot['y_test'], y=to_plot['y_test'],\n",
    "                    mode='markers',\n",
    "                    name='y_test',marker=dict(color= \"grey\")))\n",
    "\n",
    "fig.add_trace(go.Scatter(x=to_plot['y_test'], y=to_plot['y_pred'],\n",
    "                    mode='markers',\n",
    "                    name='y_pred',\n",
    "                    marker=dict(color= \"orange\")))\n",
    "\n",
    "fig.add_trace(go.Scatter(x=to_plot['y_test'], y=to_plot['lower'],\n",
    "                    mode='lines',\n",
    "                    name='-10% y_test',\n",
    "                    marker=dict(color= \"blue\")))\n",
    "\n",
    "fig.add_trace(go.Scatter(x=to_plot['y_test'], y=to_plot['upper'],\n",
    "                    mode='lines',\n",
    "                    name='+ 10% y_test',\n",
    "                    marker=dict(color= \"blue\")))\n",
    "\n",
    "fig.add_trace(go.Scatter(x=to_plot['y_test'], y=to_plot['lower_20'],\n",
    "                    mode='lines',\n",
    "                    name='-20% y_test',\n",
    "                    marker=dict(color= \"red\")))\n",
    "\n",
    "fig.add_trace(go.Scatter(x=to_plot['y_test'], y=to_plot['upper_20'],\n",
    "                    mode='lines',\n",
    "                    name='+20% y_test',\n",
    "                    marker=dict(color= \"red\")))\n",
    "\n",
    "\n",
    "\n",
    "fig.show()\n",
    "\n",
    "\n",
    "plotly.offline.plot(fig, filename='name.html')"
   ]
  },
  {
   "cell_type": "markdown",
   "metadata": {},
   "source": [
    "# Czy predykcje są w +/- 10% wartosci prawdziwej?"
   ]
  },
  {
   "cell_type": "code",
   "execution_count": 169,
   "metadata": {},
   "outputs": [
    {
     "name": "stdout",
     "output_type": "stream",
     "text": [
      "W przedziale +/- 10% wartości prawdziwej otrzymalem 63 obserwacji, calkowity zbior ma 87 wierszy.\n",
      "MAE = 30.58873274879894\n"
     ]
    }
   ],
   "source": [
    "y_pred = model.predict(X_test)\n",
    "n = sum([ sum((y_pred[i] > lower.values[i]) & (y_pred[i] < upper.values[i])) \n",
    "     for i in range(y_pred.shape[0])])\n",
    "\n",
    "print(f\"W przedziale +/- 10% wartości prawdziwej otrzymalem {n} obserwacji, calkowity zbior ma {y_pred.shape[0]} wierszy.\")\n",
    "print(f\"MAE = {mean_absolute_error(y_pred,y_test)}\")"
   ]
  },
  {
   "cell_type": "markdown",
   "metadata": {},
   "source": [
    "## inny model"
   ]
  },
  {
   "cell_type": "code",
   "execution_count": 170,
   "metadata": {
    "scrolled": true
   },
   "outputs": [
    {
     "name": "stdout",
     "output_type": "stream",
     "text": [
      "[1]\tvalid_0's l1: 48.9224\tvalid_0's l2: 3778.85\n",
      "[2]\tvalid_0's l1: 45.9138\tvalid_0's l2: 3376.06\n",
      "[3]\tvalid_0's l1: 43.3376\tvalid_0's l2: 3049.46\n",
      "[4]\tvalid_0's l1: 41.1105\tvalid_0's l2: 2779.91\n",
      "[5]\tvalid_0's l1: 38.9945\tvalid_0's l2: 2570.69\n",
      "[6]\tvalid_0's l1: 37.2318\tvalid_0's l2: 2376.61\n",
      "[7]\tvalid_0's l1: 35.5093\tvalid_0's l2: 2207.67\n",
      "[8]\tvalid_0's l1: 34.2442\tvalid_0's l2: 2075.72\n",
      "[9]\tvalid_0's l1: 32.9917\tvalid_0's l2: 1958.17\n",
      "[10]\tvalid_0's l1: 32.0262\tvalid_0's l2: 1868.88\n",
      "[11]\tvalid_0's l1: 31.0538\tvalid_0's l2: 1789.12\n",
      "[12]\tvalid_0's l1: 30.2672\tvalid_0's l2: 1721.48\n",
      "[13]\tvalid_0's l1: 29.7219\tvalid_0's l2: 1667.47\n",
      "[14]\tvalid_0's l1: 29.3952\tvalid_0's l2: 1639.35\n",
      "[15]\tvalid_0's l1: 28.8953\tvalid_0's l2: 1599.42\n",
      "[16]\tvalid_0's l1: 28.2877\tvalid_0's l2: 1565.5\n",
      "[17]\tvalid_0's l1: 27.6638\tvalid_0's l2: 1515.78\n",
      "[18]\tvalid_0's l1: 27.2639\tvalid_0's l2: 1483.5\n",
      "[19]\tvalid_0's l1: 26.8107\tvalid_0's l2: 1453.76\n",
      "[20]\tvalid_0's l1: 26.1553\tvalid_0's l2: 1410.43\n",
      "[21]\tvalid_0's l1: 25.7753\tvalid_0's l2: 1372.4\n",
      "[22]\tvalid_0's l1: 25.737\tvalid_0's l2: 1363.42\n",
      "[23]\tvalid_0's l1: 25.3449\tvalid_0's l2: 1320.84\n",
      "[24]\tvalid_0's l1: 25.2902\tvalid_0's l2: 1312.11\n",
      "[25]\tvalid_0's l1: 25.0321\tvalid_0's l2: 1275.52\n",
      "[26]\tvalid_0's l1: 24.9106\tvalid_0's l2: 1255.45\n",
      "[27]\tvalid_0's l1: 24.8974\tvalid_0's l2: 1247.85\n",
      "[28]\tvalid_0's l1: 24.8671\tvalid_0's l2: 1236.35\n",
      "[29]\tvalid_0's l1: 24.7174\tvalid_0's l2: 1222.8\n",
      "[30]\tvalid_0's l1: 24.7492\tvalid_0's l2: 1226.58\n",
      "[31]\tvalid_0's l1: 24.5675\tvalid_0's l2: 1214.04\n",
      "[32]\tvalid_0's l1: 24.4672\tvalid_0's l2: 1198.41\n",
      "[33]\tvalid_0's l1: 24.3969\tvalid_0's l2: 1186.64\n",
      "[34]\tvalid_0's l1: 24.3608\tvalid_0's l2: 1176.13\n",
      "[35]\tvalid_0's l1: 24.3279\tvalid_0's l2: 1164\n",
      "[36]\tvalid_0's l1: 24.2581\tvalid_0's l2: 1157.62\n",
      "[37]\tvalid_0's l1: 24.1393\tvalid_0's l2: 1143.97\n",
      "[38]\tvalid_0's l1: 24.1718\tvalid_0's l2: 1133.67\n",
      "[39]\tvalid_0's l1: 24.1809\tvalid_0's l2: 1121.34\n",
      "[40]\tvalid_0's l1: 24.1469\tvalid_0's l2: 1109.03\n",
      "[41]\tvalid_0's l1: 24.088\tvalid_0's l2: 1098.74\n",
      "[42]\tvalid_0's l1: 23.9447\tvalid_0's l2: 1090.9\n",
      "[43]\tvalid_0's l1: 23.7503\tvalid_0's l2: 1080.13\n",
      "[44]\tvalid_0's l1: 23.555\tvalid_0's l2: 1068.5\n",
      "[45]\tvalid_0's l1: 23.6131\tvalid_0's l2: 1063.15\n",
      "[46]\tvalid_0's l1: 23.6251\tvalid_0's l2: 1060.49\n",
      "[47]\tvalid_0's l1: 23.606\tvalid_0's l2: 1060.39\n",
      "[48]\tvalid_0's l1: 23.4812\tvalid_0's l2: 1050.58\n",
      "[49]\tvalid_0's l1: 23.4194\tvalid_0's l2: 1049.42\n",
      "[50]\tvalid_0's l1: 23.2519\tvalid_0's l2: 1040.34\n",
      "[51]\tvalid_0's l1: 23.1997\tvalid_0's l2: 1039.3\n",
      "[52]\tvalid_0's l1: 23.0999\tvalid_0's l2: 1034.58\n",
      "[53]\tvalid_0's l1: 23.148\tvalid_0's l2: 1036.47\n",
      "[54]\tvalid_0's l1: 23.0329\tvalid_0's l2: 1034.17\n",
      "[55]\tvalid_0's l1: 22.9472\tvalid_0's l2: 1032.85\n",
      "[56]\tvalid_0's l1: 22.7858\tvalid_0's l2: 1027.16\n",
      "[57]\tvalid_0's l1: 22.6931\tvalid_0's l2: 1028.56\n",
      "[58]\tvalid_0's l1: 22.6783\tvalid_0's l2: 1031.04\n",
      "[59]\tvalid_0's l1: 22.6855\tvalid_0's l2: 1033.01\n",
      "[60]\tvalid_0's l1: 22.7317\tvalid_0's l2: 1035.15\n",
      "[61]\tvalid_0's l1: 22.6709\tvalid_0's l2: 1032.94\n",
      "[62]\tvalid_0's l1: 22.6388\tvalid_0's l2: 1030.47\n",
      "[63]\tvalid_0's l1: 22.6372\tvalid_0's l2: 1031.73\n",
      "[64]\tvalid_0's l1: 22.5908\tvalid_0's l2: 1036\n",
      "[65]\tvalid_0's l1: 22.6021\tvalid_0's l2: 1040.03\n",
      "[66]\tvalid_0's l1: 22.4553\tvalid_0's l2: 1035.43\n",
      "[67]\tvalid_0's l1: 22.4721\tvalid_0's l2: 1037.55\n",
      "[68]\tvalid_0's l1: 22.4688\tvalid_0's l2: 1038\n",
      "[69]\tvalid_0's l1: 22.457\tvalid_0's l2: 1038.21\n",
      "[70]\tvalid_0's l1: 22.4362\tvalid_0's l2: 1039.14\n",
      "[71]\tvalid_0's l1: 22.3932\tvalid_0's l2: 1040.68\n",
      "[72]\tvalid_0's l1: 22.3885\tvalid_0's l2: 1040.07\n",
      "[73]\tvalid_0's l1: 22.4107\tvalid_0's l2: 1040.65\n",
      "[74]\tvalid_0's l1: 22.3579\tvalid_0's l2: 1040.06\n",
      "[75]\tvalid_0's l1: 22.3114\tvalid_0's l2: 1042.99\n",
      "[76]\tvalid_0's l1: 22.3869\tvalid_0's l2: 1047.58\n",
      "[77]\tvalid_0's l1: 22.3296\tvalid_0's l2: 1046.14\n",
      "[78]\tvalid_0's l1: 22.2591\tvalid_0's l2: 1043.9\n",
      "[79]\tvalid_0's l1: 22.1275\tvalid_0's l2: 1038.03\n",
      "[80]\tvalid_0's l1: 22.1482\tvalid_0's l2: 1040.92\n",
      "[81]\tvalid_0's l1: 22.1374\tvalid_0's l2: 1042.02\n",
      "[82]\tvalid_0's l1: 22.0779\tvalid_0's l2: 1041.14\n",
      "[83]\tvalid_0's l1: 22.0649\tvalid_0's l2: 1041.75\n",
      "[84]\tvalid_0's l1: 22.053\tvalid_0's l2: 1043.62\n",
      "[85]\tvalid_0's l1: 22.1006\tvalid_0's l2: 1047.64\n",
      "[86]\tvalid_0's l1: 22.0961\tvalid_0's l2: 1045.57\n",
      "[87]\tvalid_0's l1: 22.0368\tvalid_0's l2: 1042.28\n",
      "[88]\tvalid_0's l1: 22.0158\tvalid_0's l2: 1043.8\n",
      "[89]\tvalid_0's l1: 22.0102\tvalid_0's l2: 1044.89\n",
      "[90]\tvalid_0's l1: 22.0107\tvalid_0's l2: 1046.27\n",
      "[91]\tvalid_0's l1: 21.9876\tvalid_0's l2: 1048.31\n",
      "[92]\tvalid_0's l1: 22.0118\tvalid_0's l2: 1052.7\n",
      "[93]\tvalid_0's l1: 22.0291\tvalid_0's l2: 1055.37\n",
      "[94]\tvalid_0's l1: 22.0297\tvalid_0's l2: 1056.37\n",
      "[95]\tvalid_0's l1: 21.9687\tvalid_0's l2: 1056.07\n",
      "[96]\tvalid_0's l1: 22.0134\tvalid_0's l2: 1060.14\n",
      "[97]\tvalid_0's l1: 22.0658\tvalid_0's l2: 1062.59\n",
      "[98]\tvalid_0's l1: 22.0346\tvalid_0's l2: 1062.41\n",
      "[99]\tvalid_0's l1: 22.0515\tvalid_0's l2: 1065.18\n",
      "[100]\tvalid_0's l1: 21.996\tvalid_0's l2: 1062.67\n",
      "[101]\tvalid_0's l1: 21.9862\tvalid_0's l2: 1063.4\n",
      "[102]\tvalid_0's l1: 21.9908\tvalid_0's l2: 1063.78\n",
      "[103]\tvalid_0's l1: 21.9756\tvalid_0's l2: 1065.09\n",
      "[104]\tvalid_0's l1: 22.0249\tvalid_0's l2: 1066.89\n",
      "[105]\tvalid_0's l1: 22.0304\tvalid_0's l2: 1072.66\n",
      "[106]\tvalid_0's l1: 22.0173\tvalid_0's l2: 1075.04\n",
      "[107]\tvalid_0's l1: 21.9392\tvalid_0's l2: 1072.42\n",
      "[108]\tvalid_0's l1: 21.9304\tvalid_0's l2: 1071.59\n",
      "[109]\tvalid_0's l1: 21.8987\tvalid_0's l2: 1071.29\n",
      "[110]\tvalid_0's l1: 21.869\tvalid_0's l2: 1071.37\n",
      "[111]\tvalid_0's l1: 21.8663\tvalid_0's l2: 1072.92\n",
      "[112]\tvalid_0's l1: 21.9123\tvalid_0's l2: 1074.95\n",
      "[113]\tvalid_0's l1: 21.9101\tvalid_0's l2: 1075.76\n",
      "[114]\tvalid_0's l1: 21.8939\tvalid_0's l2: 1076.72\n",
      "[115]\tvalid_0's l1: 21.8661\tvalid_0's l2: 1077.02\n",
      "[116]\tvalid_0's l1: 21.8613\tvalid_0's l2: 1077.39\n",
      "[117]\tvalid_0's l1: 21.8122\tvalid_0's l2: 1076.36\n",
      "[118]\tvalid_0's l1: 21.8291\tvalid_0's l2: 1078.85\n",
      "[119]\tvalid_0's l1: 21.8055\tvalid_0's l2: 1078.02\n",
      "[120]\tvalid_0's l1: 21.8002\tvalid_0's l2: 1078.96\n",
      "[121]\tvalid_0's l1: 21.8111\tvalid_0's l2: 1081.63\n",
      "[122]\tvalid_0's l1: 21.8205\tvalid_0's l2: 1083.53\n",
      "[123]\tvalid_0's l1: 21.8739\tvalid_0's l2: 1086.09\n",
      "[124]\tvalid_0's l1: 21.8547\tvalid_0's l2: 1085.34\n",
      "[125]\tvalid_0's l1: 21.8598\tvalid_0's l2: 1085.92\n",
      "[126]\tvalid_0's l1: 21.8396\tvalid_0's l2: 1086.49\n",
      "[127]\tvalid_0's l1: 21.8195\tvalid_0's l2: 1087.81\n",
      "[128]\tvalid_0's l1: 21.8843\tvalid_0's l2: 1090.59\n",
      "[129]\tvalid_0's l1: 21.8704\tvalid_0's l2: 1089.86\n",
      "[130]\tvalid_0's l1: 21.8675\tvalid_0's l2: 1091.99\n",
      "[131]\tvalid_0's l1: 21.8603\tvalid_0's l2: 1095.53\n",
      "[132]\tvalid_0's l1: 21.9174\tvalid_0's l2: 1099.73\n",
      "[133]\tvalid_0's l1: 21.8704\tvalid_0's l2: 1098.65\n",
      "[134]\tvalid_0's l1: 21.8663\tvalid_0's l2: 1101.04\n",
      "[135]\tvalid_0's l1: 21.8828\tvalid_0's l2: 1104.11\n",
      "[136]\tvalid_0's l1: 21.8942\tvalid_0's l2: 1105.41\n",
      "[137]\tvalid_0's l1: 21.918\tvalid_0's l2: 1108.89\n",
      "[138]\tvalid_0's l1: 21.9066\tvalid_0's l2: 1108.42\n",
      "[139]\tvalid_0's l1: 21.9472\tvalid_0's l2: 1111.77\n",
      "[140]\tvalid_0's l1: 21.9956\tvalid_0's l2: 1115.74\n",
      "[141]\tvalid_0's l1: 22.0305\tvalid_0's l2: 1118.72\n",
      "[142]\tvalid_0's l1: 22.0869\tvalid_0's l2: 1124.37\n",
      "[143]\tvalid_0's l1: 22.0817\tvalid_0's l2: 1125.53\n",
      "[144]\tvalid_0's l1: 22.0694\tvalid_0's l2: 1125.87\n",
      "[145]\tvalid_0's l1: 22.0597\tvalid_0's l2: 1127.09\n",
      "[146]\tvalid_0's l1: 22.1309\tvalid_0's l2: 1132.43\n",
      "[147]\tvalid_0's l1: 22.1637\tvalid_0's l2: 1133.5\n",
      "[148]\tvalid_0's l1: 22.1556\tvalid_0's l2: 1134.42\n",
      "[149]\tvalid_0's l1: 22.1611\tvalid_0's l2: 1137.08\n",
      "[150]\tvalid_0's l1: 22.1884\tvalid_0's l2: 1139.46\n",
      "[151]\tvalid_0's l1: 22.2129\tvalid_0's l2: 1143.97\n",
      "[152]\tvalid_0's l1: 22.2347\tvalid_0's l2: 1145.97\n",
      "[153]\tvalid_0's l1: 22.2723\tvalid_0's l2: 1148.57\n",
      "[154]\tvalid_0's l1: 22.308\tvalid_0's l2: 1152.42\n",
      "[155]\tvalid_0's l1: 22.3459\tvalid_0's l2: 1154.08\n",
      "[156]\tvalid_0's l1: 22.3399\tvalid_0's l2: 1155.85\n",
      "[157]\tvalid_0's l1: 22.3118\tvalid_0's l2: 1155.24\n",
      "[158]\tvalid_0's l1: 22.321\tvalid_0's l2: 1157\n",
      "[159]\tvalid_0's l1: 22.3465\tvalid_0's l2: 1157.98\n",
      "[160]\tvalid_0's l1: 22.3492\tvalid_0's l2: 1159.39\n",
      "[161]\tvalid_0's l1: 22.3646\tvalid_0's l2: 1163.47\n",
      "[162]\tvalid_0's l1: 22.3996\tvalid_0's l2: 1165.59\n",
      "[163]\tvalid_0's l1: 22.3856\tvalid_0's l2: 1166.55\n",
      "[164]\tvalid_0's l1: 22.3713\tvalid_0's l2: 1166.48\n",
      "[165]\tvalid_0's l1: 22.3762\tvalid_0's l2: 1167.15\n",
      "[166]\tvalid_0's l1: 22.3719\tvalid_0's l2: 1167.82\n",
      "[167]\tvalid_0's l1: 22.3614\tvalid_0's l2: 1167.18\n",
      "[168]\tvalid_0's l1: 22.383\tvalid_0's l2: 1167.9\n",
      "[169]\tvalid_0's l1: 22.3956\tvalid_0's l2: 1169.4\n",
      "[170]\tvalid_0's l1: 22.3922\tvalid_0's l2: 1170.3\n",
      "[171]\tvalid_0's l1: 22.4185\tvalid_0's l2: 1174.05\n",
      "[172]\tvalid_0's l1: 22.3965\tvalid_0's l2: 1173.88\n",
      "[173]\tvalid_0's l1: 22.3604\tvalid_0's l2: 1174.05\n",
      "[174]\tvalid_0's l1: 22.3944\tvalid_0's l2: 1176.14\n",
      "[175]\tvalid_0's l1: 22.4036\tvalid_0's l2: 1177.95\n",
      "[176]\tvalid_0's l1: 22.4352\tvalid_0's l2: 1179.01\n",
      "[177]\tvalid_0's l1: 22.4214\tvalid_0's l2: 1179.25\n",
      "[178]\tvalid_0's l1: 22.4478\tvalid_0's l2: 1179.75\n",
      "[179]\tvalid_0's l1: 22.4495\tvalid_0's l2: 1177.57\n",
      "[180]\tvalid_0's l1: 22.4379\tvalid_0's l2: 1178.39\n",
      "[181]\tvalid_0's l1: 22.4561\tvalid_0's l2: 1179.89\n",
      "[182]\tvalid_0's l1: 22.4479\tvalid_0's l2: 1181.83\n",
      "[183]\tvalid_0's l1: 22.4573\tvalid_0's l2: 1183.98\n",
      "[184]\tvalid_0's l1: 22.4823\tvalid_0's l2: 1186.46\n",
      "[185]\tvalid_0's l1: 22.5323\tvalid_0's l2: 1190.27\n",
      "[186]\tvalid_0's l1: 22.5196\tvalid_0's l2: 1191.6\n",
      "[187]\tvalid_0's l1: 22.5572\tvalid_0's l2: 1194.27\n",
      "[188]\tvalid_0's l1: 22.6041\tvalid_0's l2: 1196.12\n",
      "[189]\tvalid_0's l1: 22.5934\tvalid_0's l2: 1197.34\n",
      "[190]\tvalid_0's l1: 22.5793\tvalid_0's l2: 1198.4\n",
      "[191]\tvalid_0's l1: 22.6051\tvalid_0's l2: 1200.14\n",
      "[192]\tvalid_0's l1: 22.6433\tvalid_0's l2: 1202.91\n",
      "[193]\tvalid_0's l1: 22.6039\tvalid_0's l2: 1202.61\n",
      "[194]\tvalid_0's l1: 22.5917\tvalid_0's l2: 1201.59\n",
      "[195]\tvalid_0's l1: 22.5786\tvalid_0's l2: 1202.16\n",
      "[196]\tvalid_0's l1: 22.6163\tvalid_0's l2: 1205.9\n",
      "[197]\tvalid_0's l1: 22.6321\tvalid_0's l2: 1209.39\n",
      "[198]\tvalid_0's l1: 22.6343\tvalid_0's l2: 1210.99\n",
      "[199]\tvalid_0's l1: 22.6329\tvalid_0's l2: 1212.44\n",
      "[200]\tvalid_0's l1: 22.6553\tvalid_0's l2: 1214.06\n",
      "[201]\tvalid_0's l1: 22.6839\tvalid_0's l2: 1217.19\n",
      "[202]\tvalid_0's l1: 22.7218\tvalid_0's l2: 1220.79\n",
      "[203]\tvalid_0's l1: 22.7252\tvalid_0's l2: 1222.73\n",
      "[204]\tvalid_0's l1: 22.7226\tvalid_0's l2: 1223.21\n",
      "[205]\tvalid_0's l1: 22.7341\tvalid_0's l2: 1224.87\n",
      "[206]\tvalid_0's l1: 22.7295\tvalid_0's l2: 1225.89\n",
      "[207]\tvalid_0's l1: 22.7234\tvalid_0's l2: 1227.29\n",
      "[208]\tvalid_0's l1: 22.7095\tvalid_0's l2: 1227.89\n",
      "[209]\tvalid_0's l1: 22.7269\tvalid_0's l2: 1230.63\n",
      "[210]\tvalid_0's l1: 22.7353\tvalid_0's l2: 1232.04\n",
      "[211]\tvalid_0's l1: 22.7417\tvalid_0's l2: 1233.45\n",
      "[212]\tvalid_0's l1: 22.7369\tvalid_0's l2: 1236.07\n",
      "[213]\tvalid_0's l1: 22.749\tvalid_0's l2: 1237.29\n",
      "[214]\tvalid_0's l1: 22.7495\tvalid_0's l2: 1238.57\n",
      "[215]\tvalid_0's l1: 22.7686\tvalid_0's l2: 1239.13\n",
      "[216]\tvalid_0's l1: 22.8025\tvalid_0's l2: 1240.87\n",
      "[217]\tvalid_0's l1: 22.789\tvalid_0's l2: 1241.7\n",
      "[218]\tvalid_0's l1: 22.7897\tvalid_0's l2: 1242.97\n",
      "[219]\tvalid_0's l1: 22.7824\tvalid_0's l2: 1244.47\n",
      "[220]\tvalid_0's l1: 22.764\tvalid_0's l2: 1246.09\n",
      "[221]\tvalid_0's l1: 22.77\tvalid_0's l2: 1247.36\n",
      "[222]\tvalid_0's l1: 22.7602\tvalid_0's l2: 1247.79\n",
      "[223]\tvalid_0's l1: 22.7723\tvalid_0's l2: 1250.06\n",
      "[224]\tvalid_0's l1: 22.7905\tvalid_0's l2: 1252.63\n",
      "[225]\tvalid_0's l1: 22.8155\tvalid_0's l2: 1255.92\n",
      "[226]\tvalid_0's l1: 22.8163\tvalid_0's l2: 1256.85\n",
      "[227]\tvalid_0's l1: 22.8141\tvalid_0's l2: 1256.96\n",
      "[228]\tvalid_0's l1: 22.8569\tvalid_0's l2: 1259.7\n",
      "[229]\tvalid_0's l1: 22.8803\tvalid_0's l2: 1260.89\n",
      "[230]\tvalid_0's l1: 22.8683\tvalid_0's l2: 1262.31\n",
      "[231]\tvalid_0's l1: 22.8862\tvalid_0's l2: 1263.86\n",
      "[232]\tvalid_0's l1: 22.8856\tvalid_0's l2: 1265.17\n",
      "[233]\tvalid_0's l1: 22.8434\tvalid_0's l2: 1264.32\n",
      "[234]\tvalid_0's l1: 22.8361\tvalid_0's l2: 1265.22\n",
      "[235]\tvalid_0's l1: 22.8528\tvalid_0's l2: 1266.81\n",
      "[236]\tvalid_0's l1: 22.8572\tvalid_0's l2: 1267.31\n",
      "[237]\tvalid_0's l1: 22.8465\tvalid_0's l2: 1266.82\n",
      "[238]\tvalid_0's l1: 22.8573\tvalid_0's l2: 1267.63\n",
      "[239]\tvalid_0's l1: 22.8691\tvalid_0's l2: 1269.94\n",
      "[240]\tvalid_0's l1: 22.8765\tvalid_0's l2: 1271.88\n",
      "[241]\tvalid_0's l1: 22.8834\tvalid_0's l2: 1272.49\n",
      "[242]\tvalid_0's l1: 22.8767\tvalid_0's l2: 1273.33\n",
      "[243]\tvalid_0's l1: 22.8883\tvalid_0's l2: 1276.07\n",
      "[244]\tvalid_0's l1: 22.9052\tvalid_0's l2: 1278.17\n",
      "[245]\tvalid_0's l1: 22.8778\tvalid_0's l2: 1276.83\n",
      "[246]\tvalid_0's l1: 22.8966\tvalid_0's l2: 1277.59\n",
      "[247]\tvalid_0's l1: 22.9161\tvalid_0's l2: 1279.71\n",
      "[248]\tvalid_0's l1: 22.9241\tvalid_0's l2: 1280.75\n",
      "[249]\tvalid_0's l1: 22.9264\tvalid_0's l2: 1282.14\n",
      "[250]\tvalid_0's l1: 22.9392\tvalid_0's l2: 1283.73\n",
      "[251]\tvalid_0's l1: 22.9324\tvalid_0's l2: 1283.15\n",
      "[252]\tvalid_0's l1: 22.9464\tvalid_0's l2: 1284.42\n",
      "[253]\tvalid_0's l1: 22.9472\tvalid_0's l2: 1286\n",
      "[254]\tvalid_0's l1: 22.9475\tvalid_0's l2: 1287.86\n",
      "[255]\tvalid_0's l1: 22.9722\tvalid_0's l2: 1289.9\n",
      "[256]\tvalid_0's l1: 22.9857\tvalid_0's l2: 1291.69\n",
      "[257]\tvalid_0's l1: 22.9762\tvalid_0's l2: 1292.55\n",
      "[258]\tvalid_0's l1: 23.0118\tvalid_0's l2: 1294.2\n",
      "[259]\tvalid_0's l1: 22.9925\tvalid_0's l2: 1292.57\n",
      "[260]\tvalid_0's l1: 23.0041\tvalid_0's l2: 1295.02\n",
      "[261]\tvalid_0's l1: 23.0381\tvalid_0's l2: 1296.99\n",
      "[262]\tvalid_0's l1: 23.0333\tvalid_0's l2: 1297.27\n",
      "[263]\tvalid_0's l1: 23.0301\tvalid_0's l2: 1298.67\n",
      "[264]\tvalid_0's l1: 23.028\tvalid_0's l2: 1298.9\n",
      "[265]\tvalid_0's l1: 23.028\tvalid_0's l2: 1300.22\n",
      "[266]\tvalid_0's l1: 23.0212\tvalid_0's l2: 1300.6\n",
      "[267]\tvalid_0's l1: 23.0386\tvalid_0's l2: 1302.37\n",
      "[268]\tvalid_0's l1: 23.0556\tvalid_0's l2: 1304.09\n",
      "[269]\tvalid_0's l1: 23.065\tvalid_0's l2: 1303.45\n",
      "[270]\tvalid_0's l1: 23.0584\tvalid_0's l2: 1304.58\n",
      "[271]\tvalid_0's l1: 23.0386\tvalid_0's l2: 1303.23\n",
      "[272]\tvalid_0's l1: 23.0748\tvalid_0's l2: 1305.54\n",
      "[273]\tvalid_0's l1: 23.0644\tvalid_0's l2: 1306.26\n",
      "[274]\tvalid_0's l1: 23.0539\tvalid_0's l2: 1306.6\n",
      "[275]\tvalid_0's l1: 23.0573\tvalid_0's l2: 1308.45\n",
      "[276]\tvalid_0's l1: 23.0578\tvalid_0's l2: 1310.02\n",
      "[277]\tvalid_0's l1: 23.0667\tvalid_0's l2: 1312.55\n",
      "[278]\tvalid_0's l1: 23.0751\tvalid_0's l2: 1312.23\n",
      "[279]\tvalid_0's l1: 23.0774\tvalid_0's l2: 1314.49\n",
      "[280]\tvalid_0's l1: 23.0869\tvalid_0's l2: 1316.32\n",
      "[281]\tvalid_0's l1: 23.1015\tvalid_0's l2: 1317.73\n",
      "[282]\tvalid_0's l1: 23.1053\tvalid_0's l2: 1320.23\n",
      "[283]\tvalid_0's l1: 23.1117\tvalid_0's l2: 1322.31\n",
      "[284]\tvalid_0's l1: 23.1192\tvalid_0's l2: 1323.16\n",
      "[285]\tvalid_0's l1: 23.1254\tvalid_0's l2: 1324.92\n",
      "[286]\tvalid_0's l1: 23.116\tvalid_0's l2: 1325.1\n",
      "[287]\tvalid_0's l1: 23.1689\tvalid_0's l2: 1327.93\n",
      "[288]\tvalid_0's l1: 23.1745\tvalid_0's l2: 1329.08\n",
      "[289]\tvalid_0's l1: 23.1942\tvalid_0's l2: 1331.41\n",
      "[290]\tvalid_0's l1: 23.1873\tvalid_0's l2: 1331.41\n"
     ]
    },
    {
     "name": "stdout",
     "output_type": "stream",
     "text": [
      "[291]\tvalid_0's l1: 23.1971\tvalid_0's l2: 1331.59\n",
      "[292]\tvalid_0's l1: 23.1748\tvalid_0's l2: 1331.01\n",
      "[293]\tvalid_0's l1: 23.1945\tvalid_0's l2: 1333.12\n",
      "[294]\tvalid_0's l1: 23.1901\tvalid_0's l2: 1333.4\n",
      "[295]\tvalid_0's l1: 23.1904\tvalid_0's l2: 1333.85\n",
      "[296]\tvalid_0's l1: 23.1849\tvalid_0's l2: 1333.65\n",
      "[297]\tvalid_0's l1: 23.2115\tvalid_0's l2: 1336.32\n",
      "[298]\tvalid_0's l1: 23.192\tvalid_0's l2: 1337.38\n",
      "[299]\tvalid_0's l1: 23.1941\tvalid_0's l2: 1338.54\n",
      "[300]\tvalid_0's l1: 23.1996\tvalid_0's l2: 1338.47\n",
      "[301]\tvalid_0's l1: 23.2019\tvalid_0's l2: 1339.79\n",
      "[302]\tvalid_0's l1: 23.205\tvalid_0's l2: 1339.98\n",
      "[303]\tvalid_0's l1: 23.2114\tvalid_0's l2: 1341.27\n",
      "[304]\tvalid_0's l1: 23.2135\tvalid_0's l2: 1342.2\n",
      "[305]\tvalid_0's l1: 23.2281\tvalid_0's l2: 1344.01\n",
      "[306]\tvalid_0's l1: 23.2214\tvalid_0's l2: 1343.95\n",
      "[307]\tvalid_0's l1: 23.206\tvalid_0's l2: 1343.9\n",
      "[308]\tvalid_0's l1: 23.1934\tvalid_0's l2: 1343.63\n",
      "[309]\tvalid_0's l1: 23.2135\tvalid_0's l2: 1346.2\n",
      "[310]\tvalid_0's l1: 23.2132\tvalid_0's l2: 1347.13\n",
      "[311]\tvalid_0's l1: 23.206\tvalid_0's l2: 1347.53\n",
      "[312]\tvalid_0's l1: 23.2044\tvalid_0's l2: 1347.88\n",
      "[313]\tvalid_0's l1: 23.1918\tvalid_0's l2: 1348.63\n",
      "[314]\tvalid_0's l1: 23.2039\tvalid_0's l2: 1350.47\n",
      "[315]\tvalid_0's l1: 23.2329\tvalid_0's l2: 1353.77\n",
      "[316]\tvalid_0's l1: 23.2564\tvalid_0's l2: 1355.94\n",
      "[317]\tvalid_0's l1: 23.2487\tvalid_0's l2: 1354.19\n",
      "[318]\tvalid_0's l1: 23.2801\tvalid_0's l2: 1356.63\n",
      "[319]\tvalid_0's l1: 23.2708\tvalid_0's l2: 1356.43\n",
      "[320]\tvalid_0's l1: 23.2973\tvalid_0's l2: 1358.92\n",
      "[321]\tvalid_0's l1: 23.265\tvalid_0's l2: 1358.77\n",
      "[322]\tvalid_0's l1: 23.2904\tvalid_0's l2: 1360.56\n",
      "[323]\tvalid_0's l1: 23.2872\tvalid_0's l2: 1361.38\n",
      "[324]\tvalid_0's l1: 23.2949\tvalid_0's l2: 1363.82\n",
      "[325]\tvalid_0's l1: 23.2996\tvalid_0's l2: 1364.69\n",
      "[326]\tvalid_0's l1: 23.3171\tvalid_0's l2: 1367.3\n",
      "[327]\tvalid_0's l1: 23.3202\tvalid_0's l2: 1367.09\n",
      "[328]\tvalid_0's l1: 23.3496\tvalid_0's l2: 1369.11\n",
      "[329]\tvalid_0's l1: 23.3417\tvalid_0's l2: 1371.1\n",
      "[330]\tvalid_0's l1: 23.3554\tvalid_0's l2: 1373.61\n",
      "[331]\tvalid_0's l1: 23.3408\tvalid_0's l2: 1374.49\n",
      "[332]\tvalid_0's l1: 23.355\tvalid_0's l2: 1375.51\n",
      "[333]\tvalid_0's l1: 23.3735\tvalid_0's l2: 1377.86\n",
      "[334]\tvalid_0's l1: 23.3941\tvalid_0's l2: 1380.68\n",
      "[335]\tvalid_0's l1: 23.3886\tvalid_0's l2: 1380.12\n",
      "[336]\tvalid_0's l1: 23.397\tvalid_0's l2: 1382.08\n",
      "[337]\tvalid_0's l1: 23.4093\tvalid_0's l2: 1384.04\n",
      "[338]\tvalid_0's l1: 23.428\tvalid_0's l2: 1386.22\n",
      "[339]\tvalid_0's l1: 23.4315\tvalid_0's l2: 1388.1\n",
      "[340]\tvalid_0's l1: 23.4256\tvalid_0's l2: 1388.01\n",
      "[341]\tvalid_0's l1: 23.419\tvalid_0's l2: 1387.55\n",
      "[342]\tvalid_0's l1: 23.4106\tvalid_0's l2: 1387.97\n",
      "[343]\tvalid_0's l1: 23.4252\tvalid_0's l2: 1389.1\n",
      "[344]\tvalid_0's l1: 23.4125\tvalid_0's l2: 1389.84\n",
      "[345]\tvalid_0's l1: 23.3928\tvalid_0's l2: 1389.11\n",
      "[346]\tvalid_0's l1: 23.3892\tvalid_0's l2: 1390.57\n",
      "[347]\tvalid_0's l1: 23.3784\tvalid_0's l2: 1391.2\n",
      "[348]\tvalid_0's l1: 23.3607\tvalid_0's l2: 1391.86\n",
      "[349]\tvalid_0's l1: 23.3638\tvalid_0's l2: 1392.84\n",
      "[350]\tvalid_0's l1: 23.3606\tvalid_0's l2: 1393.59\n",
      "[351]\tvalid_0's l1: 23.3631\tvalid_0's l2: 1395.01\n",
      "[352]\tvalid_0's l1: 23.3565\tvalid_0's l2: 1394.69\n",
      "[353]\tvalid_0's l1: 23.3731\tvalid_0's l2: 1396.51\n",
      "[354]\tvalid_0's l1: 23.3817\tvalid_0's l2: 1398.11\n",
      "[355]\tvalid_0's l1: 23.3904\tvalid_0's l2: 1398.19\n",
      "[356]\tvalid_0's l1: 23.3987\tvalid_0's l2: 1399.31\n",
      "[357]\tvalid_0's l1: 23.3956\tvalid_0's l2: 1400.13\n",
      "[358]\tvalid_0's l1: 23.3837\tvalid_0's l2: 1400.63\n",
      "[359]\tvalid_0's l1: 23.3877\tvalid_0's l2: 1401.43\n",
      "[360]\tvalid_0's l1: 23.3922\tvalid_0's l2: 1402.12\n",
      "[361]\tvalid_0's l1: 23.3938\tvalid_0's l2: 1402.88\n",
      "[362]\tvalid_0's l1: 23.396\tvalid_0's l2: 1404.85\n",
      "[363]\tvalid_0's l1: 23.3907\tvalid_0's l2: 1404.6\n",
      "[364]\tvalid_0's l1: 23.3823\tvalid_0's l2: 1405.55\n",
      "[365]\tvalid_0's l1: 23.3947\tvalid_0's l2: 1406.5\n",
      "[366]\tvalid_0's l1: 23.39\tvalid_0's l2: 1407.4\n",
      "[367]\tvalid_0's l1: 23.3952\tvalid_0's l2: 1409.28\n",
      "[368]\tvalid_0's l1: 23.3842\tvalid_0's l2: 1409.72\n",
      "[369]\tvalid_0's l1: 23.3825\tvalid_0's l2: 1409.77\n",
      "[370]\tvalid_0's l1: 23.3712\tvalid_0's l2: 1410.52\n",
      "[371]\tvalid_0's l1: 23.3946\tvalid_0's l2: 1411.86\n",
      "[372]\tvalid_0's l1: 23.4059\tvalid_0's l2: 1413.29\n",
      "[373]\tvalid_0's l1: 23.3974\tvalid_0's l2: 1414.14\n",
      "[374]\tvalid_0's l1: 23.4108\tvalid_0's l2: 1415.55\n",
      "[375]\tvalid_0's l1: 23.4208\tvalid_0's l2: 1417.88\n",
      "[376]\tvalid_0's l1: 23.4188\tvalid_0's l2: 1418.53\n",
      "[377]\tvalid_0's l1: 23.4168\tvalid_0's l2: 1419.33\n",
      "[378]\tvalid_0's l1: 23.4136\tvalid_0's l2: 1418.6\n",
      "[379]\tvalid_0's l1: 23.4183\tvalid_0's l2: 1419.94\n",
      "[380]\tvalid_0's l1: 23.4164\tvalid_0's l2: 1420.61\n",
      "[381]\tvalid_0's l1: 23.4094\tvalid_0's l2: 1421.68\n",
      "[382]\tvalid_0's l1: 23.4035\tvalid_0's l2: 1421.52\n",
      "[383]\tvalid_0's l1: 23.4039\tvalid_0's l2: 1421.64\n",
      "[384]\tvalid_0's l1: 23.4102\tvalid_0's l2: 1422.82\n",
      "[385]\tvalid_0's l1: 23.3844\tvalid_0's l2: 1422.67\n",
      "[386]\tvalid_0's l1: 23.3826\tvalid_0's l2: 1423.16\n",
      "[387]\tvalid_0's l1: 23.4001\tvalid_0's l2: 1424.94\n",
      "[388]\tvalid_0's l1: 23.4163\tvalid_0's l2: 1427.31\n",
      "[389]\tvalid_0's l1: 23.4143\tvalid_0's l2: 1428.21\n",
      "[390]\tvalid_0's l1: 23.4176\tvalid_0's l2: 1429.3\n",
      "[391]\tvalid_0's l1: 23.4105\tvalid_0's l2: 1430.73\n",
      "[392]\tvalid_0's l1: 23.413\tvalid_0's l2: 1430.67\n",
      "[393]\tvalid_0's l1: 23.4215\tvalid_0's l2: 1430.66\n",
      "[394]\tvalid_0's l1: 23.4431\tvalid_0's l2: 1433.64\n",
      "[395]\tvalid_0's l1: 23.4356\tvalid_0's l2: 1432.9\n",
      "[396]\tvalid_0's l1: 23.4453\tvalid_0's l2: 1434.23\n",
      "[397]\tvalid_0's l1: 23.4428\tvalid_0's l2: 1434.87\n",
      "[398]\tvalid_0's l1: 23.4395\tvalid_0's l2: 1435.12\n",
      "[399]\tvalid_0's l1: 23.4324\tvalid_0's l2: 1436.39\n",
      "[400]\tvalid_0's l1: 23.4421\tvalid_0's l2: 1437.83\n",
      "[401]\tvalid_0's l1: 23.4459\tvalid_0's l2: 1437.42\n",
      "[402]\tvalid_0's l1: 23.4441\tvalid_0's l2: 1438.18\n",
      "[403]\tvalid_0's l1: 23.4521\tvalid_0's l2: 1439.1\n",
      "[404]\tvalid_0's l1: 23.4662\tvalid_0's l2: 1439.99\n",
      "[405]\tvalid_0's l1: 23.4709\tvalid_0's l2: 1439.99\n",
      "[406]\tvalid_0's l1: 23.4655\tvalid_0's l2: 1440.61\n",
      "[407]\tvalid_0's l1: 23.4686\tvalid_0's l2: 1441.8\n",
      "[408]\tvalid_0's l1: 23.4606\tvalid_0's l2: 1442.3\n",
      "[409]\tvalid_0's l1: 23.4596\tvalid_0's l2: 1442.75\n",
      "[410]\tvalid_0's l1: 23.4556\tvalid_0's l2: 1444.35\n",
      "[411]\tvalid_0's l1: 23.4633\tvalid_0's l2: 1446.21\n",
      "[412]\tvalid_0's l1: 23.4652\tvalid_0's l2: 1447.35\n",
      "[413]\tvalid_0's l1: 23.4545\tvalid_0's l2: 1446.23\n",
      "[414]\tvalid_0's l1: 23.4658\tvalid_0's l2: 1448.46\n",
      "[415]\tvalid_0's l1: 23.4798\tvalid_0's l2: 1449.53\n",
      "[416]\tvalid_0's l1: 23.4853\tvalid_0's l2: 1449.21\n",
      "[417]\tvalid_0's l1: 23.4941\tvalid_0's l2: 1450.01\n",
      "[418]\tvalid_0's l1: 23.4895\tvalid_0's l2: 1450.19\n",
      "[419]\tvalid_0's l1: 23.4911\tvalid_0's l2: 1449.18\n",
      "[420]\tvalid_0's l1: 23.5113\tvalid_0's l2: 1450.53\n",
      "[421]\tvalid_0's l1: 23.536\tvalid_0's l2: 1452.08\n",
      "[422]\tvalid_0's l1: 23.5236\tvalid_0's l2: 1452.73\n",
      "[423]\tvalid_0's l1: 23.5193\tvalid_0's l2: 1452.66\n",
      "[424]\tvalid_0's l1: 23.5265\tvalid_0's l2: 1453.91\n",
      "[425]\tvalid_0's l1: 23.5428\tvalid_0's l2: 1454.2\n",
      "[426]\tvalid_0's l1: 23.5521\tvalid_0's l2: 1456\n",
      "[427]\tvalid_0's l1: 23.5366\tvalid_0's l2: 1455.7\n",
      "[428]\tvalid_0's l1: 23.5349\tvalid_0's l2: 1455.67\n",
      "[429]\tvalid_0's l1: 23.543\tvalid_0's l2: 1456.25\n",
      "[430]\tvalid_0's l1: 23.5298\tvalid_0's l2: 1456.68\n",
      "[431]\tvalid_0's l1: 23.5197\tvalid_0's l2: 1457.72\n",
      "[432]\tvalid_0's l1: 23.5164\tvalid_0's l2: 1458.1\n",
      "[433]\tvalid_0's l1: 23.5218\tvalid_0's l2: 1458.48\n",
      "[434]\tvalid_0's l1: 23.5245\tvalid_0's l2: 1459.55\n",
      "[435]\tvalid_0's l1: 23.5346\tvalid_0's l2: 1461.3\n",
      "[436]\tvalid_0's l1: 23.5305\tvalid_0's l2: 1461.24\n",
      "[437]\tvalid_0's l1: 23.5403\tvalid_0's l2: 1462.42\n",
      "[438]\tvalid_0's l1: 23.5519\tvalid_0's l2: 1462.36\n",
      "[439]\tvalid_0's l1: 23.5549\tvalid_0's l2: 1464.13\n",
      "[440]\tvalid_0's l1: 23.556\tvalid_0's l2: 1464.46\n",
      "[441]\tvalid_0's l1: 23.5526\tvalid_0's l2: 1465.85\n",
      "[442]\tvalid_0's l1: 23.5649\tvalid_0's l2: 1468.34\n",
      "[443]\tvalid_0's l1: 23.5454\tvalid_0's l2: 1468.04\n",
      "[444]\tvalid_0's l1: 23.5454\tvalid_0's l2: 1467.29\n",
      "[445]\tvalid_0's l1: 23.5491\tvalid_0's l2: 1467.76\n",
      "[446]\tvalid_0's l1: 23.557\tvalid_0's l2: 1469.23\n",
      "[447]\tvalid_0's l1: 23.5537\tvalid_0's l2: 1469.63\n",
      "[448]\tvalid_0's l1: 23.5515\tvalid_0's l2: 1469.22\n",
      "[449]\tvalid_0's l1: 23.558\tvalid_0's l2: 1470.44\n",
      "[450]\tvalid_0's l1: 23.5526\tvalid_0's l2: 1470.61\n",
      "[451]\tvalid_0's l1: 23.5459\tvalid_0's l2: 1470.64\n",
      "[452]\tvalid_0's l1: 23.5437\tvalid_0's l2: 1470.41\n",
      "[453]\tvalid_0's l1: 23.5412\tvalid_0's l2: 1471.73\n",
      "[454]\tvalid_0's l1: 23.542\tvalid_0's l2: 1472.51\n",
      "[455]\tvalid_0's l1: 23.5524\tvalid_0's l2: 1473.58\n",
      "[456]\tvalid_0's l1: 23.5692\tvalid_0's l2: 1475.9\n",
      "[457]\tvalid_0's l1: 23.5644\tvalid_0's l2: 1476.89\n",
      "[458]\tvalid_0's l1: 23.5451\tvalid_0's l2: 1475.53\n",
      "[459]\tvalid_0's l1: 23.5608\tvalid_0's l2: 1477.12\n",
      "[460]\tvalid_0's l1: 23.5718\tvalid_0's l2: 1478.57\n",
      "[461]\tvalid_0's l1: 23.572\tvalid_0's l2: 1479.11\n",
      "[462]\tvalid_0's l1: 23.5683\tvalid_0's l2: 1479.78\n",
      "[463]\tvalid_0's l1: 23.5682\tvalid_0's l2: 1481.05\n",
      "[464]\tvalid_0's l1: 23.5465\tvalid_0's l2: 1479.54\n",
      "[465]\tvalid_0's l1: 23.5576\tvalid_0's l2: 1480.17\n",
      "[466]\tvalid_0's l1: 23.5434\tvalid_0's l2: 1480.13\n",
      "[467]\tvalid_0's l1: 23.5541\tvalid_0's l2: 1481.07\n",
      "[468]\tvalid_0's l1: 23.5557\tvalid_0's l2: 1481.65\n",
      "[469]\tvalid_0's l1: 23.5501\tvalid_0's l2: 1482.34\n",
      "[470]\tvalid_0's l1: 23.5475\tvalid_0's l2: 1483.13\n",
      "[471]\tvalid_0's l1: 23.5528\tvalid_0's l2: 1484.23\n",
      "[472]\tvalid_0's l1: 23.5382\tvalid_0's l2: 1484.34\n",
      "[473]\tvalid_0's l1: 23.5304\tvalid_0's l2: 1485\n",
      "[474]\tvalid_0's l1: 23.5249\tvalid_0's l2: 1486.26\n",
      "[475]\tvalid_0's l1: 23.519\tvalid_0's l2: 1486.54\n",
      "[476]\tvalid_0's l1: 23.5167\tvalid_0's l2: 1487.37\n",
      "[477]\tvalid_0's l1: 23.5073\tvalid_0's l2: 1486.79\n",
      "[478]\tvalid_0's l1: 23.5241\tvalid_0's l2: 1487.58\n",
      "[479]\tvalid_0's l1: 23.5092\tvalid_0's l2: 1487.58\n",
      "[480]\tvalid_0's l1: 23.4952\tvalid_0's l2: 1487.15\n",
      "[481]\tvalid_0's l1: 23.4838\tvalid_0's l2: 1486.79\n",
      "[482]\tvalid_0's l1: 23.4832\tvalid_0's l2: 1487.16\n",
      "[483]\tvalid_0's l1: 23.4842\tvalid_0's l2: 1488.23\n",
      "[484]\tvalid_0's l1: 23.4847\tvalid_0's l2: 1489.14\n",
      "[485]\tvalid_0's l1: 23.4684\tvalid_0's l2: 1488.53\n",
      "[486]\tvalid_0's l1: 23.4716\tvalid_0's l2: 1488.1\n",
      "[487]\tvalid_0's l1: 23.4663\tvalid_0's l2: 1489.1\n",
      "[488]\tvalid_0's l1: 23.4616\tvalid_0's l2: 1489.18\n",
      "[489]\tvalid_0's l1: 23.4657\tvalid_0's l2: 1490.72\n",
      "[490]\tvalid_0's l1: 23.4601\tvalid_0's l2: 1491.71\n",
      "[491]\tvalid_0's l1: 23.442\tvalid_0's l2: 1490.34\n",
      "[492]\tvalid_0's l1: 23.437\tvalid_0's l2: 1490.99\n",
      "[493]\tvalid_0's l1: 23.4398\tvalid_0's l2: 1492.42\n",
      "[494]\tvalid_0's l1: 23.4511\tvalid_0's l2: 1492.9\n",
      "[495]\tvalid_0's l1: 23.4549\tvalid_0's l2: 1493.5\n",
      "[496]\tvalid_0's l1: 23.4625\tvalid_0's l2: 1494.16\n",
      "[497]\tvalid_0's l1: 23.4692\tvalid_0's l2: 1494.8\n",
      "[498]\tvalid_0's l1: 23.4673\tvalid_0's l2: 1495.07\n",
      "[499]\tvalid_0's l1: 23.452\tvalid_0's l2: 1494.94\n",
      "[500]\tvalid_0's l1: 23.4568\tvalid_0's l2: 1495.35\n",
      "[501]\tvalid_0's l1: 23.4702\tvalid_0's l2: 1496.8\n",
      "[502]\tvalid_0's l1: 23.4696\tvalid_0's l2: 1497.27\n",
      "[503]\tvalid_0's l1: 23.4695\tvalid_0's l2: 1497.85\n",
      "[504]\tvalid_0's l1: 23.4652\tvalid_0's l2: 1498.48\n",
      "[505]\tvalid_0's l1: 23.4718\tvalid_0's l2: 1499.53\n",
      "[506]\tvalid_0's l1: 23.4708\tvalid_0's l2: 1499.56\n",
      "[507]\tvalid_0's l1: 23.4604\tvalid_0's l2: 1498.42\n",
      "[508]\tvalid_0's l1: 23.4575\tvalid_0's l2: 1498.81\n",
      "[509]\tvalid_0's l1: 23.4819\tvalid_0's l2: 1501.05\n",
      "[510]\tvalid_0's l1: 23.4853\tvalid_0's l2: 1501.61\n",
      "[511]\tvalid_0's l1: 23.4742\tvalid_0's l2: 1501.48\n",
      "[512]\tvalid_0's l1: 23.4507\tvalid_0's l2: 1501.52\n",
      "[513]\tvalid_0's l1: 23.439\tvalid_0's l2: 1500.59\n",
      "[514]\tvalid_0's l1: 23.4398\tvalid_0's l2: 1501.32\n",
      "[515]\tvalid_0's l1: 23.4567\tvalid_0's l2: 1502.7\n",
      "[516]\tvalid_0's l1: 23.453\tvalid_0's l2: 1502.48\n",
      "[517]\tvalid_0's l1: 23.4413\tvalid_0's l2: 1502.75\n",
      "[518]\tvalid_0's l1: 23.4462\tvalid_0's l2: 1503.8\n",
      "[519]\tvalid_0's l1: 23.4476\tvalid_0's l2: 1504.34\n",
      "[520]\tvalid_0's l1: 23.4464\tvalid_0's l2: 1504.36\n",
      "[521]\tvalid_0's l1: 23.4345\tvalid_0's l2: 1503.23\n",
      "[522]\tvalid_0's l1: 23.4333\tvalid_0's l2: 1503.48\n",
      "[523]\tvalid_0's l1: 23.4421\tvalid_0's l2: 1504.75\n",
      "[524]\tvalid_0's l1: 23.4592\tvalid_0's l2: 1506.32\n",
      "[525]\tvalid_0's l1: 23.4588\tvalid_0's l2: 1506.71\n",
      "[526]\tvalid_0's l1: 23.462\tvalid_0's l2: 1506.85\n",
      "[527]\tvalid_0's l1: 23.459\tvalid_0's l2: 1506.59\n",
      "[528]\tvalid_0's l1: 23.4653\tvalid_0's l2: 1507.79\n",
      "[529]\tvalid_0's l1: 23.458\tvalid_0's l2: 1507.65\n",
      "[530]\tvalid_0's l1: 23.4604\tvalid_0's l2: 1508.21\n",
      "[531]\tvalid_0's l1: 23.462\tvalid_0's l2: 1509.27\n",
      "[532]\tvalid_0's l1: 23.4613\tvalid_0's l2: 1510.05\n",
      "[533]\tvalid_0's l1: 23.4607\tvalid_0's l2: 1511.13\n",
      "[534]\tvalid_0's l1: 23.4594\tvalid_0's l2: 1511.57\n",
      "[535]\tvalid_0's l1: 23.4555\tvalid_0's l2: 1512.41\n",
      "[536]\tvalid_0's l1: 23.4464\tvalid_0's l2: 1513.58\n",
      "[537]\tvalid_0's l1: 23.4498\tvalid_0's l2: 1514.04\n"
     ]
    },
    {
     "name": "stdout",
     "output_type": "stream",
     "text": [
      "[538]\tvalid_0's l1: 23.4432\tvalid_0's l2: 1513.48\n",
      "[539]\tvalid_0's l1: 23.4471\tvalid_0's l2: 1514.73\n",
      "[540]\tvalid_0's l1: 23.452\tvalid_0's l2: 1515.03\n",
      "[541]\tvalid_0's l1: 23.4529\tvalid_0's l2: 1515.77\n",
      "[542]\tvalid_0's l1: 23.4648\tvalid_0's l2: 1517.05\n",
      "[543]\tvalid_0's l1: 23.4679\tvalid_0's l2: 1517.9\n",
      "[544]\tvalid_0's l1: 23.4689\tvalid_0's l2: 1519.16\n",
      "[545]\tvalid_0's l1: 23.4661\tvalid_0's l2: 1519.44\n",
      "[546]\tvalid_0's l1: 23.4646\tvalid_0's l2: 1519.64\n",
      "[547]\tvalid_0's l1: 23.463\tvalid_0's l2: 1519.08\n",
      "[548]\tvalid_0's l1: 23.4634\tvalid_0's l2: 1519.85\n",
      "[549]\tvalid_0's l1: 23.4592\tvalid_0's l2: 1520.75\n",
      "[550]\tvalid_0's l1: 23.4591\tvalid_0's l2: 1520.49\n",
      "[551]\tvalid_0's l1: 23.4783\tvalid_0's l2: 1520.95\n",
      "[552]\tvalid_0's l1: 23.4777\tvalid_0's l2: 1521.4\n",
      "[553]\tvalid_0's l1: 23.4739\tvalid_0's l2: 1521.65\n",
      "[554]\tvalid_0's l1: 23.4776\tvalid_0's l2: 1522.13\n",
      "[555]\tvalid_0's l1: 23.484\tvalid_0's l2: 1523.18\n",
      "[556]\tvalid_0's l1: 23.4859\tvalid_0's l2: 1523.92\n",
      "[557]\tvalid_0's l1: 23.4896\tvalid_0's l2: 1524.96\n",
      "[558]\tvalid_0's l1: 23.4784\tvalid_0's l2: 1525.16\n",
      "[559]\tvalid_0's l1: 23.4755\tvalid_0's l2: 1526.05\n",
      "[560]\tvalid_0's l1: 23.4789\tvalid_0's l2: 1526.02\n",
      "[561]\tvalid_0's l1: 23.4848\tvalid_0's l2: 1527.1\n",
      "[562]\tvalid_0's l1: 23.4827\tvalid_0's l2: 1527.46\n",
      "[563]\tvalid_0's l1: 23.4714\tvalid_0's l2: 1526.4\n",
      "[564]\tvalid_0's l1: 23.4625\tvalid_0's l2: 1525.85\n",
      "[565]\tvalid_0's l1: 23.4597\tvalid_0's l2: 1526.4\n",
      "[566]\tvalid_0's l1: 23.4604\tvalid_0's l2: 1527.08\n",
      "[567]\tvalid_0's l1: 23.4624\tvalid_0's l2: 1527.42\n",
      "[568]\tvalid_0's l1: 23.4648\tvalid_0's l2: 1528.08\n",
      "[569]\tvalid_0's l1: 23.4631\tvalid_0's l2: 1527.95\n",
      "[570]\tvalid_0's l1: 23.465\tvalid_0's l2: 1528.47\n",
      "[571]\tvalid_0's l1: 23.455\tvalid_0's l2: 1527.86\n",
      "[572]\tvalid_0's l1: 23.469\tvalid_0's l2: 1528.84\n",
      "[573]\tvalid_0's l1: 23.4686\tvalid_0's l2: 1529.53\n",
      "[574]\tvalid_0's l1: 23.4717\tvalid_0's l2: 1530.57\n",
      "[575]\tvalid_0's l1: 23.4733\tvalid_0's l2: 1531.27\n",
      "[576]\tvalid_0's l1: 23.4714\tvalid_0's l2: 1531.95\n",
      "[577]\tvalid_0's l1: 23.4798\tvalid_0's l2: 1532.92\n",
      "[578]\tvalid_0's l1: 23.4725\tvalid_0's l2: 1533.11\n",
      "[579]\tvalid_0's l1: 23.4628\tvalid_0's l2: 1533.48\n",
      "[580]\tvalid_0's l1: 23.471\tvalid_0's l2: 1534.33\n",
      "[581]\tvalid_0's l1: 23.4621\tvalid_0's l2: 1535.32\n",
      "[582]\tvalid_0's l1: 23.4596\tvalid_0's l2: 1536.51\n",
      "[583]\tvalid_0's l1: 23.4669\tvalid_0's l2: 1537.5\n",
      "[584]\tvalid_0's l1: 23.475\tvalid_0's l2: 1538.78\n",
      "[585]\tvalid_0's l1: 23.4685\tvalid_0's l2: 1538.82\n",
      "[586]\tvalid_0's l1: 23.466\tvalid_0's l2: 1539.23\n",
      "[587]\tvalid_0's l1: 23.4681\tvalid_0's l2: 1539.83\n",
      "[588]\tvalid_0's l1: 23.4661\tvalid_0's l2: 1539.78\n",
      "[589]\tvalid_0's l1: 23.4533\tvalid_0's l2: 1540.12\n",
      "[590]\tvalid_0's l1: 23.4561\tvalid_0's l2: 1540.27\n",
      "[591]\tvalid_0's l1: 23.4547\tvalid_0's l2: 1540.84\n",
      "[592]\tvalid_0's l1: 23.4481\tvalid_0's l2: 1541.19\n",
      "[593]\tvalid_0's l1: 23.4514\tvalid_0's l2: 1541.98\n",
      "[594]\tvalid_0's l1: 23.4608\tvalid_0's l2: 1543.02\n",
      "[595]\tvalid_0's l1: 23.4676\tvalid_0's l2: 1543.56\n",
      "[596]\tvalid_0's l1: 23.4733\tvalid_0's l2: 1544.4\n",
      "[597]\tvalid_0's l1: 23.4698\tvalid_0's l2: 1544.73\n",
      "[598]\tvalid_0's l1: 23.4775\tvalid_0's l2: 1545.75\n",
      "[599]\tvalid_0's l1: 23.4721\tvalid_0's l2: 1546.24\n",
      "[600]\tvalid_0's l1: 23.4698\tvalid_0's l2: 1546.55\n",
      "[601]\tvalid_0's l1: 23.4682\tvalid_0's l2: 1547.35\n",
      "[602]\tvalid_0's l1: 23.4657\tvalid_0's l2: 1547.48\n",
      "[603]\tvalid_0's l1: 23.4669\tvalid_0's l2: 1548.37\n",
      "[604]\tvalid_0's l1: 23.4658\tvalid_0's l2: 1548.76\n",
      "[605]\tvalid_0's l1: 23.4782\tvalid_0's l2: 1549.37\n",
      "[606]\tvalid_0's l1: 23.4885\tvalid_0's l2: 1550.13\n",
      "[607]\tvalid_0's l1: 23.488\tvalid_0's l2: 1550.41\n",
      "[608]\tvalid_0's l1: 23.4833\tvalid_0's l2: 1550.85\n",
      "[609]\tvalid_0's l1: 23.4863\tvalid_0's l2: 1551.84\n",
      "[610]\tvalid_0's l1: 23.4888\tvalid_0's l2: 1552.49\n",
      "[611]\tvalid_0's l1: 23.4746\tvalid_0's l2: 1552.81\n",
      "[612]\tvalid_0's l1: 23.4663\tvalid_0's l2: 1552.69\n",
      "[613]\tvalid_0's l1: 23.4744\tvalid_0's l2: 1553.2\n",
      "[614]\tvalid_0's l1: 23.4774\tvalid_0's l2: 1554.22\n",
      "[615]\tvalid_0's l1: 23.4649\tvalid_0's l2: 1554.13\n",
      "[616]\tvalid_0's l1: 23.4728\tvalid_0's l2: 1554.96\n",
      "[617]\tvalid_0's l1: 23.4678\tvalid_0's l2: 1554.2\n",
      "[618]\tvalid_0's l1: 23.4652\tvalid_0's l2: 1554.93\n",
      "[619]\tvalid_0's l1: 23.4611\tvalid_0's l2: 1555.09\n",
      "[620]\tvalid_0's l1: 23.4509\tvalid_0's l2: 1554.01\n",
      "[621]\tvalid_0's l1: 23.4584\tvalid_0's l2: 1555.34\n",
      "[622]\tvalid_0's l1: 23.462\tvalid_0's l2: 1555.03\n",
      "[623]\tvalid_0's l1: 23.4535\tvalid_0's l2: 1555.29\n",
      "[624]\tvalid_0's l1: 23.4486\tvalid_0's l2: 1555.66\n",
      "[625]\tvalid_0's l1: 23.4446\tvalid_0's l2: 1556.06\n",
      "[626]\tvalid_0's l1: 23.4475\tvalid_0's l2: 1556.86\n",
      "[627]\tvalid_0's l1: 23.4463\tvalid_0's l2: 1557.93\n",
      "[628]\tvalid_0's l1: 23.4499\tvalid_0's l2: 1558.31\n",
      "[629]\tvalid_0's l1: 23.4459\tvalid_0's l2: 1558.57\n",
      "[630]\tvalid_0's l1: 23.4327\tvalid_0's l2: 1558.66\n",
      "[631]\tvalid_0's l1: 23.4397\tvalid_0's l2: 1558.76\n",
      "[632]\tvalid_0's l1: 23.4421\tvalid_0's l2: 1559.21\n",
      "[633]\tvalid_0's l1: 23.4438\tvalid_0's l2: 1559.56\n",
      "[634]\tvalid_0's l1: 23.4379\tvalid_0's l2: 1559.72\n",
      "[635]\tvalid_0's l1: 23.4377\tvalid_0's l2: 1559.91\n",
      "[636]\tvalid_0's l1: 23.4357\tvalid_0's l2: 1560.26\n",
      "[637]\tvalid_0's l1: 23.4301\tvalid_0's l2: 1559.97\n",
      "[638]\tvalid_0's l1: 23.4298\tvalid_0's l2: 1560.54\n",
      "[639]\tvalid_0's l1: 23.4381\tvalid_0's l2: 1561.12\n",
      "[640]\tvalid_0's l1: 23.439\tvalid_0's l2: 1561.46\n",
      "[641]\tvalid_0's l1: 23.4271\tvalid_0's l2: 1560.83\n",
      "[642]\tvalid_0's l1: 23.4279\tvalid_0's l2: 1560.92\n",
      "[643]\tvalid_0's l1: 23.4289\tvalid_0's l2: 1561.64\n",
      "[644]\tvalid_0's l1: 23.4209\tvalid_0's l2: 1561.59\n",
      "[645]\tvalid_0's l1: 23.4258\tvalid_0's l2: 1562.06\n",
      "[646]\tvalid_0's l1: 23.4207\tvalid_0's l2: 1562.27\n",
      "[647]\tvalid_0's l1: 23.4255\tvalid_0's l2: 1562.67\n",
      "[648]\tvalid_0's l1: 23.4397\tvalid_0's l2: 1563.81\n",
      "[649]\tvalid_0's l1: 23.4305\tvalid_0's l2: 1563.91\n",
      "[650]\tvalid_0's l1: 23.4306\tvalid_0's l2: 1564.14\n",
      "[651]\tvalid_0's l1: 23.4299\tvalid_0's l2: 1564.39\n",
      "[652]\tvalid_0's l1: 23.428\tvalid_0's l2: 1564.48\n",
      "[653]\tvalid_0's l1: 23.4276\tvalid_0's l2: 1565.24\n",
      "[654]\tvalid_0's l1: 23.4242\tvalid_0's l2: 1565.78\n",
      "[655]\tvalid_0's l1: 23.4277\tvalid_0's l2: 1566.49\n",
      "[656]\tvalid_0's l1: 23.4069\tvalid_0's l2: 1565.6\n",
      "[657]\tvalid_0's l1: 23.4081\tvalid_0's l2: 1566.69\n",
      "[658]\tvalid_0's l1: 23.4187\tvalid_0's l2: 1567.46\n",
      "[659]\tvalid_0's l1: 23.424\tvalid_0's l2: 1568.16\n",
      "[660]\tvalid_0's l1: 23.4235\tvalid_0's l2: 1568.61\n",
      "[661]\tvalid_0's l1: 23.4281\tvalid_0's l2: 1569.3\n",
      "[662]\tvalid_0's l1: 23.4263\tvalid_0's l2: 1569.17\n",
      "[663]\tvalid_0's l1: 23.4247\tvalid_0's l2: 1569.2\n",
      "[664]\tvalid_0's l1: 23.4325\tvalid_0's l2: 1569.87\n",
      "[665]\tvalid_0's l1: 23.438\tvalid_0's l2: 1570.35\n",
      "[666]\tvalid_0's l1: 23.4234\tvalid_0's l2: 1570.3\n",
      "[667]\tvalid_0's l1: 23.4415\tvalid_0's l2: 1571.28\n",
      "[668]\tvalid_0's l1: 23.4397\tvalid_0's l2: 1571.55\n",
      "[669]\tvalid_0's l1: 23.4321\tvalid_0's l2: 1571.56\n",
      "[670]\tvalid_0's l1: 23.4225\tvalid_0's l2: 1571.23\n",
      "[671]\tvalid_0's l1: 23.4235\tvalid_0's l2: 1572.02\n",
      "[672]\tvalid_0's l1: 23.4225\tvalid_0's l2: 1572.45\n",
      "[673]\tvalid_0's l1: 23.424\tvalid_0's l2: 1572.77\n",
      "[674]\tvalid_0's l1: 23.4194\tvalid_0's l2: 1572.5\n",
      "[675]\tvalid_0's l1: 23.4294\tvalid_0's l2: 1573.24\n",
      "[676]\tvalid_0's l1: 23.4272\tvalid_0's l2: 1573.8\n",
      "[677]\tvalid_0's l1: 23.4289\tvalid_0's l2: 1574.12\n",
      "[678]\tvalid_0's l1: 23.4465\tvalid_0's l2: 1575.58\n",
      "[679]\tvalid_0's l1: 23.4521\tvalid_0's l2: 1576.09\n",
      "[680]\tvalid_0's l1: 23.4558\tvalid_0's l2: 1576.44\n",
      "[681]\tvalid_0's l1: 23.4531\tvalid_0's l2: 1576.95\n",
      "[682]\tvalid_0's l1: 23.4459\tvalid_0's l2: 1577.13\n",
      "[683]\tvalid_0's l1: 23.4464\tvalid_0's l2: 1577.59\n",
      "[684]\tvalid_0's l1: 23.4445\tvalid_0's l2: 1577.86\n",
      "[685]\tvalid_0's l1: 23.4339\tvalid_0's l2: 1577.85\n",
      "[686]\tvalid_0's l1: 23.4359\tvalid_0's l2: 1578.15\n",
      "[687]\tvalid_0's l1: 23.4297\tvalid_0's l2: 1578.48\n",
      "[688]\tvalid_0's l1: 23.435\tvalid_0's l2: 1579.01\n",
      "[689]\tvalid_0's l1: 23.4263\tvalid_0's l2: 1578.48\n",
      "[690]\tvalid_0's l1: 23.4355\tvalid_0's l2: 1579.15\n",
      "[691]\tvalid_0's l1: 23.4243\tvalid_0's l2: 1579.05\n",
      "[692]\tvalid_0's l1: 23.4226\tvalid_0's l2: 1578.86\n",
      "[693]\tvalid_0's l1: 23.4158\tvalid_0's l2: 1578.93\n",
      "[694]\tvalid_0's l1: 23.4163\tvalid_0's l2: 1579.3\n",
      "[695]\tvalid_0's l1: 23.4134\tvalid_0's l2: 1579.64\n",
      "[696]\tvalid_0's l1: 23.4173\tvalid_0's l2: 1580.41\n",
      "[697]\tvalid_0's l1: 23.4205\tvalid_0's l2: 1581\n",
      "[698]\tvalid_0's l1: 23.4187\tvalid_0's l2: 1581.3\n",
      "[699]\tvalid_0's l1: 23.4186\tvalid_0's l2: 1582.08\n",
      "[700]\tvalid_0's l1: 23.4194\tvalid_0's l2: 1582.15\n",
      "[701]\tvalid_0's l1: 23.4225\tvalid_0's l2: 1582.59\n",
      "[702]\tvalid_0's l1: 23.4164\tvalid_0's l2: 1583.03\n",
      "[703]\tvalid_0's l1: 23.4089\tvalid_0's l2: 1582.54\n",
      "[704]\tvalid_0's l1: 23.4067\tvalid_0's l2: 1582.25\n",
      "[705]\tvalid_0's l1: 23.4067\tvalid_0's l2: 1582.55\n",
      "[706]\tvalid_0's l1: 23.4047\tvalid_0's l2: 1582.6\n",
      "[707]\tvalid_0's l1: 23.3977\tvalid_0's l2: 1582.76\n",
      "[708]\tvalid_0's l1: 23.396\tvalid_0's l2: 1583.38\n",
      "[709]\tvalid_0's l1: 23.3969\tvalid_0's l2: 1583.48\n",
      "[710]\tvalid_0's l1: 23.4046\tvalid_0's l2: 1584.07\n",
      "[711]\tvalid_0's l1: 23.4096\tvalid_0's l2: 1584.94\n",
      "[712]\tvalid_0's l1: 23.4115\tvalid_0's l2: 1585.31\n",
      "[713]\tvalid_0's l1: 23.4059\tvalid_0's l2: 1585.23\n",
      "[714]\tvalid_0's l1: 23.4059\tvalid_0's l2: 1585.86\n",
      "[715]\tvalid_0's l1: 23.4207\tvalid_0's l2: 1587.26\n",
      "[716]\tvalid_0's l1: 23.4173\tvalid_0's l2: 1587.47\n",
      "[717]\tvalid_0's l1: 23.4271\tvalid_0's l2: 1588.52\n",
      "[718]\tvalid_0's l1: 23.4219\tvalid_0's l2: 1588.37\n",
      "[719]\tvalid_0's l1: 23.4274\tvalid_0's l2: 1589.19\n",
      "[720]\tvalid_0's l1: 23.4197\tvalid_0's l2: 1589.05\n",
      "[721]\tvalid_0's l1: 23.4271\tvalid_0's l2: 1590.31\n",
      "[722]\tvalid_0's l1: 23.4258\tvalid_0's l2: 1590.56\n",
      "[723]\tvalid_0's l1: 23.4187\tvalid_0's l2: 1590.67\n",
      "[724]\tvalid_0's l1: 23.4095\tvalid_0's l2: 1591.09\n",
      "[725]\tvalid_0's l1: 23.4091\tvalid_0's l2: 1591.16\n",
      "[726]\tvalid_0's l1: 23.4207\tvalid_0's l2: 1591.98\n",
      "[727]\tvalid_0's l1: 23.4238\tvalid_0's l2: 1592.54\n",
      "[728]\tvalid_0's l1: 23.4238\tvalid_0's l2: 1592.97\n",
      "[729]\tvalid_0's l1: 23.4299\tvalid_0's l2: 1593.74\n",
      "[730]\tvalid_0's l1: 23.4314\tvalid_0's l2: 1593.97\n",
      "[731]\tvalid_0's l1: 23.4317\tvalid_0's l2: 1594.22\n",
      "[732]\tvalid_0's l1: 23.4222\tvalid_0's l2: 1594.38\n",
      "[733]\tvalid_0's l1: 23.417\tvalid_0's l2: 1594.56\n",
      "[734]\tvalid_0's l1: 23.4167\tvalid_0's l2: 1594.82\n",
      "[735]\tvalid_0's l1: 23.4086\tvalid_0's l2: 1594.91\n",
      "[736]\tvalid_0's l1: 23.4043\tvalid_0's l2: 1594.9\n",
      "[737]\tvalid_0's l1: 23.4043\tvalid_0's l2: 1594.43\n",
      "[738]\tvalid_0's l1: 23.406\tvalid_0's l2: 1595.27\n",
      "[739]\tvalid_0's l1: 23.4039\tvalid_0's l2: 1595.04\n",
      "[740]\tvalid_0's l1: 23.4074\tvalid_0's l2: 1595.73\n",
      "[741]\tvalid_0's l1: 23.4005\tvalid_0's l2: 1595.24\n",
      "[742]\tvalid_0's l1: 23.4022\tvalid_0's l2: 1595.9\n",
      "[743]\tvalid_0's l1: 23.4011\tvalid_0's l2: 1596.42\n",
      "[744]\tvalid_0's l1: 23.3954\tvalid_0's l2: 1596.5\n",
      "[745]\tvalid_0's l1: 23.4093\tvalid_0's l2: 1597.26\n",
      "[746]\tvalid_0's l1: 23.4213\tvalid_0's l2: 1598.66\n",
      "[747]\tvalid_0's l1: 23.4184\tvalid_0's l2: 1598.75\n",
      "[748]\tvalid_0's l1: 23.4162\tvalid_0's l2: 1599.35\n",
      "[749]\tvalid_0's l1: 23.4069\tvalid_0's l2: 1599.31\n",
      "[750]\tvalid_0's l1: 23.4079\tvalid_0's l2: 1599.97\n",
      "[751]\tvalid_0's l1: 23.4062\tvalid_0's l2: 1599.91\n",
      "[752]\tvalid_0's l1: 23.4034\tvalid_0's l2: 1600.11\n",
      "[753]\tvalid_0's l1: 23.4061\tvalid_0's l2: 1600.68\n",
      "[754]\tvalid_0's l1: 23.4162\tvalid_0's l2: 1601.47\n",
      "[755]\tvalid_0's l1: 23.4038\tvalid_0's l2: 1601.49\n",
      "[756]\tvalid_0's l1: 23.3947\tvalid_0's l2: 1601.63\n",
      "[757]\tvalid_0's l1: 23.3921\tvalid_0's l2: 1601.93\n",
      "[758]\tvalid_0's l1: 23.3911\tvalid_0's l2: 1601.98\n",
      "[759]\tvalid_0's l1: 23.3895\tvalid_0's l2: 1601.97\n",
      "[760]\tvalid_0's l1: 23.3957\tvalid_0's l2: 1602.65\n",
      "[761]\tvalid_0's l1: 23.3915\tvalid_0's l2: 1603.2\n",
      "[762]\tvalid_0's l1: 23.3956\tvalid_0's l2: 1603.82\n",
      "[763]\tvalid_0's l1: 23.39\tvalid_0's l2: 1603.45\n",
      "[764]\tvalid_0's l1: 23.3904\tvalid_0's l2: 1603.93\n",
      "[765]\tvalid_0's l1: 23.3956\tvalid_0's l2: 1604.48\n",
      "[766]\tvalid_0's l1: 23.4005\tvalid_0's l2: 1605.66\n",
      "[767]\tvalid_0's l1: 23.3933\tvalid_0's l2: 1605.14\n",
      "[768]\tvalid_0's l1: 23.3927\tvalid_0's l2: 1605.45\n",
      "[769]\tvalid_0's l1: 23.3913\tvalid_0's l2: 1605.86\n",
      "[770]\tvalid_0's l1: 23.3872\tvalid_0's l2: 1605.03\n"
     ]
    },
    {
     "name": "stdout",
     "output_type": "stream",
     "text": [
      "[771]\tvalid_0's l1: 23.3901\tvalid_0's l2: 1605.62\n",
      "[772]\tvalid_0's l1: 23.3887\tvalid_0's l2: 1606.19\n",
      "[773]\tvalid_0's l1: 23.3874\tvalid_0's l2: 1606.66\n",
      "[774]\tvalid_0's l1: 23.3862\tvalid_0's l2: 1606.86\n",
      "[775]\tvalid_0's l1: 23.386\tvalid_0's l2: 1606.97\n",
      "[776]\tvalid_0's l1: 23.3928\tvalid_0's l2: 1607.74\n",
      "[777]\tvalid_0's l1: 23.3925\tvalid_0's l2: 1608.27\n",
      "[778]\tvalid_0's l1: 23.3873\tvalid_0's l2: 1608.37\n",
      "[779]\tvalid_0's l1: 23.3894\tvalid_0's l2: 1608.6\n",
      "[780]\tvalid_0's l1: 23.3904\tvalid_0's l2: 1608.6\n",
      "[781]\tvalid_0's l1: 23.3872\tvalid_0's l2: 1608.45\n",
      "[782]\tvalid_0's l1: 23.3925\tvalid_0's l2: 1608.87\n",
      "[783]\tvalid_0's l1: 23.3947\tvalid_0's l2: 1609.45\n",
      "[784]\tvalid_0's l1: 23.4059\tvalid_0's l2: 1609.99\n",
      "[785]\tvalid_0's l1: 23.4018\tvalid_0's l2: 1610.21\n",
      "[786]\tvalid_0's l1: 23.4021\tvalid_0's l2: 1610.61\n",
      "[787]\tvalid_0's l1: 23.4022\tvalid_0's l2: 1611.11\n",
      "[788]\tvalid_0's l1: 23.4066\tvalid_0's l2: 1611.31\n",
      "[789]\tvalid_0's l1: 23.3997\tvalid_0's l2: 1611.54\n",
      "[790]\tvalid_0's l1: 23.3944\tvalid_0's l2: 1611.57\n",
      "[791]\tvalid_0's l1: 23.3989\tvalid_0's l2: 1612.14\n",
      "[792]\tvalid_0's l1: 23.4003\tvalid_0's l2: 1612.11\n",
      "[793]\tvalid_0's l1: 23.401\tvalid_0's l2: 1612.58\n",
      "[794]\tvalid_0's l1: 23.4074\tvalid_0's l2: 1613.33\n",
      "[795]\tvalid_0's l1: 23.4131\tvalid_0's l2: 1614.01\n",
      "[796]\tvalid_0's l1: 23.4081\tvalid_0's l2: 1614.42\n",
      "[797]\tvalid_0's l1: 23.4043\tvalid_0's l2: 1614.62\n",
      "[798]\tvalid_0's l1: 23.3997\tvalid_0's l2: 1614.77\n",
      "[799]\tvalid_0's l1: 23.4018\tvalid_0's l2: 1615.15\n",
      "[800]\tvalid_0's l1: 23.4008\tvalid_0's l2: 1615.37\n",
      "[801]\tvalid_0's l1: 23.3883\tvalid_0's l2: 1615.02\n",
      "[802]\tvalid_0's l1: 23.3838\tvalid_0's l2: 1614.84\n",
      "[803]\tvalid_0's l1: 23.3884\tvalid_0's l2: 1614.89\n",
      "[804]\tvalid_0's l1: 23.3866\tvalid_0's l2: 1615.34\n",
      "[805]\tvalid_0's l1: 23.3908\tvalid_0's l2: 1615.73\n",
      "[806]\tvalid_0's l1: 23.3909\tvalid_0's l2: 1616.29\n",
      "[807]\tvalid_0's l1: 23.3983\tvalid_0's l2: 1617.01\n",
      "[808]\tvalid_0's l1: 23.3889\tvalid_0's l2: 1616.36\n",
      "[809]\tvalid_0's l1: 23.382\tvalid_0's l2: 1616.49\n",
      "[810]\tvalid_0's l1: 23.3841\tvalid_0's l2: 1616.66\n",
      "[811]\tvalid_0's l1: 23.3775\tvalid_0's l2: 1616.77\n",
      "[812]\tvalid_0's l1: 23.3788\tvalid_0's l2: 1617\n",
      "[813]\tvalid_0's l1: 23.3767\tvalid_0's l2: 1617.36\n",
      "[814]\tvalid_0's l1: 23.3774\tvalid_0's l2: 1617.77\n",
      "[815]\tvalid_0's l1: 23.3765\tvalid_0's l2: 1618.27\n",
      "[816]\tvalid_0's l1: 23.3745\tvalid_0's l2: 1618.93\n",
      "[817]\tvalid_0's l1: 23.3865\tvalid_0's l2: 1619.53\n",
      "[818]\tvalid_0's l1: 23.3807\tvalid_0's l2: 1619.31\n",
      "[819]\tvalid_0's l1: 23.3891\tvalid_0's l2: 1619.91\n",
      "[820]\tvalid_0's l1: 23.3815\tvalid_0's l2: 1619.8\n",
      "[821]\tvalid_0's l1: 23.3854\tvalid_0's l2: 1620.49\n",
      "[822]\tvalid_0's l1: 23.3873\tvalid_0's l2: 1620.68\n",
      "[823]\tvalid_0's l1: 23.3865\tvalid_0's l2: 1620.67\n",
      "[824]\tvalid_0's l1: 23.382\tvalid_0's l2: 1620.84\n",
      "[825]\tvalid_0's l1: 23.3867\tvalid_0's l2: 1621.13\n",
      "[826]\tvalid_0's l1: 23.3804\tvalid_0's l2: 1620.38\n",
      "[827]\tvalid_0's l1: 23.3791\tvalid_0's l2: 1620.81\n",
      "[828]\tvalid_0's l1: 23.383\tvalid_0's l2: 1621.06\n",
      "[829]\tvalid_0's l1: 23.3821\tvalid_0's l2: 1621.21\n",
      "[830]\tvalid_0's l1: 23.3798\tvalid_0's l2: 1621.35\n",
      "[831]\tvalid_0's l1: 23.3848\tvalid_0's l2: 1622.09\n",
      "[832]\tvalid_0's l1: 23.3839\tvalid_0's l2: 1622.12\n",
      "[833]\tvalid_0's l1: 23.3883\tvalid_0's l2: 1622.54\n",
      "[834]\tvalid_0's l1: 23.3833\tvalid_0's l2: 1622.52\n",
      "[835]\tvalid_0's l1: 23.3895\tvalid_0's l2: 1623\n",
      "[836]\tvalid_0's l1: 23.3897\tvalid_0's l2: 1623.16\n",
      "[837]\tvalid_0's l1: 23.3848\tvalid_0's l2: 1622.25\n",
      "[838]\tvalid_0's l1: 23.3862\tvalid_0's l2: 1622.82\n",
      "[839]\tvalid_0's l1: 23.3954\tvalid_0's l2: 1623.56\n",
      "[840]\tvalid_0's l1: 23.3893\tvalid_0's l2: 1623.57\n",
      "[841]\tvalid_0's l1: 23.3916\tvalid_0's l2: 1623.57\n",
      "[842]\tvalid_0's l1: 23.3907\tvalid_0's l2: 1624.1\n",
      "[843]\tvalid_0's l1: 23.3863\tvalid_0's l2: 1624.19\n",
      "[844]\tvalid_0's l1: 23.3898\tvalid_0's l2: 1624.24\n",
      "[845]\tvalid_0's l1: 23.3831\tvalid_0's l2: 1624.65\n",
      "[846]\tvalid_0's l1: 23.3801\tvalid_0's l2: 1624.61\n",
      "[847]\tvalid_0's l1: 23.3791\tvalid_0's l2: 1624.38\n",
      "[848]\tvalid_0's l1: 23.3871\tvalid_0's l2: 1624.91\n",
      "[849]\tvalid_0's l1: 23.3826\tvalid_0's l2: 1625.45\n",
      "[850]\tvalid_0's l1: 23.3784\tvalid_0's l2: 1625.62\n",
      "[851]\tvalid_0's l1: 23.3755\tvalid_0's l2: 1625.44\n",
      "[852]\tvalid_0's l1: 23.379\tvalid_0's l2: 1625.77\n",
      "[853]\tvalid_0's l1: 23.3752\tvalid_0's l2: 1625.66\n",
      "[854]\tvalid_0's l1: 23.3729\tvalid_0's l2: 1625.73\n",
      "[855]\tvalid_0's l1: 23.3774\tvalid_0's l2: 1626.02\n",
      "[856]\tvalid_0's l1: 23.3702\tvalid_0's l2: 1625.82\n",
      "[857]\tvalid_0's l1: 23.3744\tvalid_0's l2: 1626.65\n",
      "[858]\tvalid_0's l1: 23.3707\tvalid_0's l2: 1627.02\n",
      "[859]\tvalid_0's l1: 23.3694\tvalid_0's l2: 1627.49\n",
      "[860]\tvalid_0's l1: 23.3663\tvalid_0's l2: 1627.69\n",
      "[861]\tvalid_0's l1: 23.3627\tvalid_0's l2: 1628.04\n",
      "[862]\tvalid_0's l1: 23.3632\tvalid_0's l2: 1628.18\n",
      "[863]\tvalid_0's l1: 23.3609\tvalid_0's l2: 1628.37\n",
      "[864]\tvalid_0's l1: 23.3606\tvalid_0's l2: 1628.66\n",
      "[865]\tvalid_0's l1: 23.3562\tvalid_0's l2: 1628.82\n",
      "[866]\tvalid_0's l1: 23.3583\tvalid_0's l2: 1629.31\n",
      "[867]\tvalid_0's l1: 23.3565\tvalid_0's l2: 1629.55\n",
      "[868]\tvalid_0's l1: 23.3588\tvalid_0's l2: 1630.08\n",
      "[869]\tvalid_0's l1: 23.3584\tvalid_0's l2: 1630.29\n",
      "[870]\tvalid_0's l1: 23.3519\tvalid_0's l2: 1630.18\n",
      "[871]\tvalid_0's l1: 23.3522\tvalid_0's l2: 1630.47\n",
      "[872]\tvalid_0's l1: 23.3579\tvalid_0's l2: 1630.54\n",
      "[873]\tvalid_0's l1: 23.3591\tvalid_0's l2: 1630.95\n",
      "[874]\tvalid_0's l1: 23.3596\tvalid_0's l2: 1631.08\n",
      "[875]\tvalid_0's l1: 23.3588\tvalid_0's l2: 1631.13\n",
      "[876]\tvalid_0's l1: 23.3512\tvalid_0's l2: 1631.25\n",
      "[877]\tvalid_0's l1: 23.3412\tvalid_0's l2: 1630.49\n",
      "[878]\tvalid_0's l1: 23.3443\tvalid_0's l2: 1630.94\n",
      "[879]\tvalid_0's l1: 23.3419\tvalid_0's l2: 1631.2\n",
      "[880]\tvalid_0's l1: 23.3494\tvalid_0's l2: 1631.84\n",
      "[881]\tvalid_0's l1: 23.3443\tvalid_0's l2: 1632\n",
      "[882]\tvalid_0's l1: 23.3383\tvalid_0's l2: 1631.24\n",
      "[883]\tvalid_0's l1: 23.3328\tvalid_0's l2: 1631.52\n",
      "[884]\tvalid_0's l1: 23.3361\tvalid_0's l2: 1631.97\n",
      "[885]\tvalid_0's l1: 23.336\tvalid_0's l2: 1632.21\n",
      "[886]\tvalid_0's l1: 23.3431\tvalid_0's l2: 1632.48\n",
      "[887]\tvalid_0's l1: 23.3434\tvalid_0's l2: 1632.67\n",
      "[888]\tvalid_0's l1: 23.3388\tvalid_0's l2: 1632.72\n",
      "[889]\tvalid_0's l1: 23.3448\tvalid_0's l2: 1633.11\n",
      "[890]\tvalid_0's l1: 23.342\tvalid_0's l2: 1633.41\n",
      "[891]\tvalid_0's l1: 23.3372\tvalid_0's l2: 1633.17\n",
      "[892]\tvalid_0's l1: 23.3308\tvalid_0's l2: 1633.46\n",
      "[893]\tvalid_0's l1: 23.3322\tvalid_0's l2: 1633.46\n",
      "[894]\tvalid_0's l1: 23.3269\tvalid_0's l2: 1633.23\n",
      "[895]\tvalid_0's l1: 23.3202\tvalid_0's l2: 1633.49\n",
      "[896]\tvalid_0's l1: 23.3199\tvalid_0's l2: 1633.76\n",
      "[897]\tvalid_0's l1: 23.3239\tvalid_0's l2: 1634.26\n",
      "[898]\tvalid_0's l1: 23.3244\tvalid_0's l2: 1634.39\n",
      "[899]\tvalid_0's l1: 23.3315\tvalid_0's l2: 1634.43\n",
      "[900]\tvalid_0's l1: 23.3302\tvalid_0's l2: 1634.74\n",
      "[901]\tvalid_0's l1: 23.3304\tvalid_0's l2: 1635.09\n",
      "[902]\tvalid_0's l1: 23.337\tvalid_0's l2: 1635.58\n",
      "[903]\tvalid_0's l1: 23.3413\tvalid_0's l2: 1636.01\n",
      "[904]\tvalid_0's l1: 23.3391\tvalid_0's l2: 1636.38\n",
      "[905]\tvalid_0's l1: 23.3395\tvalid_0's l2: 1636.51\n",
      "[906]\tvalid_0's l1: 23.3363\tvalid_0's l2: 1636.65\n",
      "[907]\tvalid_0's l1: 23.3326\tvalid_0's l2: 1636.84\n",
      "[908]\tvalid_0's l1: 23.3304\tvalid_0's l2: 1637.35\n",
      "[909]\tvalid_0's l1: 23.3238\tvalid_0's l2: 1637.4\n",
      "[910]\tvalid_0's l1: 23.3284\tvalid_0's l2: 1637.5\n",
      "[911]\tvalid_0's l1: 23.332\tvalid_0's l2: 1638.21\n",
      "[912]\tvalid_0's l1: 23.3278\tvalid_0's l2: 1638.03\n",
      "[913]\tvalid_0's l1: 23.332\tvalid_0's l2: 1638.14\n",
      "[914]\tvalid_0's l1: 23.3326\tvalid_0's l2: 1638\n",
      "[915]\tvalid_0's l1: 23.3278\tvalid_0's l2: 1637.86\n",
      "[916]\tvalid_0's l1: 23.3284\tvalid_0's l2: 1638.63\n",
      "[917]\tvalid_0's l1: 23.3264\tvalid_0's l2: 1638.78\n",
      "[918]\tvalid_0's l1: 23.3276\tvalid_0's l2: 1638.97\n",
      "[919]\tvalid_0's l1: 23.3299\tvalid_0's l2: 1639.42\n",
      "[920]\tvalid_0's l1: 23.3277\tvalid_0's l2: 1639.49\n",
      "[921]\tvalid_0's l1: 23.3231\tvalid_0's l2: 1639.63\n",
      "[922]\tvalid_0's l1: 23.3259\tvalid_0's l2: 1640.15\n",
      "[923]\tvalid_0's l1: 23.3223\tvalid_0's l2: 1640.27\n",
      "[924]\tvalid_0's l1: 23.3201\tvalid_0's l2: 1640.55\n",
      "[925]\tvalid_0's l1: 23.3097\tvalid_0's l2: 1640.37\n",
      "[926]\tvalid_0's l1: 23.3075\tvalid_0's l2: 1640\n",
      "[927]\tvalid_0's l1: 23.3078\tvalid_0's l2: 1639.83\n",
      "[928]\tvalid_0's l1: 23.3092\tvalid_0's l2: 1639.84\n",
      "[929]\tvalid_0's l1: 23.3134\tvalid_0's l2: 1640.02\n",
      "[930]\tvalid_0's l1: 23.3127\tvalid_0's l2: 1640.38\n",
      "[931]\tvalid_0's l1: 23.3207\tvalid_0's l2: 1640.6\n",
      "[932]\tvalid_0's l1: 23.3185\tvalid_0's l2: 1640.58\n",
      "[933]\tvalid_0's l1: 23.3221\tvalid_0's l2: 1640.72\n",
      "[934]\tvalid_0's l1: 23.3245\tvalid_0's l2: 1641.21\n",
      "[935]\tvalid_0's l1: 23.3245\tvalid_0's l2: 1641.64\n",
      "[936]\tvalid_0's l1: 23.321\tvalid_0's l2: 1641.34\n",
      "[937]\tvalid_0's l1: 23.3235\tvalid_0's l2: 1641.2\n",
      "[938]\tvalid_0's l1: 23.3203\tvalid_0's l2: 1641.29\n",
      "[939]\tvalid_0's l1: 23.3161\tvalid_0's l2: 1641.44\n",
      "[940]\tvalid_0's l1: 23.3166\tvalid_0's l2: 1641.79\n",
      "[941]\tvalid_0's l1: 23.3106\tvalid_0's l2: 1641.56\n",
      "[942]\tvalid_0's l1: 23.3081\tvalid_0's l2: 1641.8\n",
      "[943]\tvalid_0's l1: 23.3103\tvalid_0's l2: 1642.07\n",
      "[944]\tvalid_0's l1: 23.3083\tvalid_0's l2: 1642.14\n",
      "[945]\tvalid_0's l1: 23.3109\tvalid_0's l2: 1642.4\n",
      "[946]\tvalid_0's l1: 23.3157\tvalid_0's l2: 1642.94\n",
      "[947]\tvalid_0's l1: 23.3178\tvalid_0's l2: 1643.8\n",
      "[948]\tvalid_0's l1: 23.3186\tvalid_0's l2: 1644.05\n",
      "[949]\tvalid_0's l1: 23.3151\tvalid_0's l2: 1643.98\n",
      "[950]\tvalid_0's l1: 23.308\tvalid_0's l2: 1643.87\n",
      "[951]\tvalid_0's l1: 23.3093\tvalid_0's l2: 1643.99\n",
      "[952]\tvalid_0's l1: 23.3054\tvalid_0's l2: 1644.15\n",
      "[953]\tvalid_0's l1: 23.3098\tvalid_0's l2: 1644.03\n",
      "[954]\tvalid_0's l1: 23.3048\tvalid_0's l2: 1643.46\n",
      "[955]\tvalid_0's l1: 23.3072\tvalid_0's l2: 1643.71\n",
      "[956]\tvalid_0's l1: 23.3053\tvalid_0's l2: 1643.62\n",
      "[957]\tvalid_0's l1: 23.3071\tvalid_0's l2: 1643.95\n",
      "[958]\tvalid_0's l1: 23.301\tvalid_0's l2: 1643.8\n",
      "[959]\tvalid_0's l1: 23.3048\tvalid_0's l2: 1644.11\n",
      "[960]\tvalid_0's l1: 23.2997\tvalid_0's l2: 1643.59\n",
      "[961]\tvalid_0's l1: 23.3073\tvalid_0's l2: 1643.95\n",
      "[962]\tvalid_0's l1: 23.3056\tvalid_0's l2: 1644.23\n",
      "[963]\tvalid_0's l1: 23.3064\tvalid_0's l2: 1644.23\n",
      "[964]\tvalid_0's l1: 23.3153\tvalid_0's l2: 1644.3\n",
      "[965]\tvalid_0's l1: 23.3146\tvalid_0's l2: 1644.3\n",
      "[966]\tvalid_0's l1: 23.3106\tvalid_0's l2: 1644.53\n",
      "[967]\tvalid_0's l1: 23.3154\tvalid_0's l2: 1645.42\n",
      "[968]\tvalid_0's l1: 23.3058\tvalid_0's l2: 1645.44\n",
      "[969]\tvalid_0's l1: 23.3039\tvalid_0's l2: 1645.42\n",
      "[970]\tvalid_0's l1: 23.2993\tvalid_0's l2: 1645.27\n",
      "[971]\tvalid_0's l1: 23.2943\tvalid_0's l2: 1645.29\n",
      "[972]\tvalid_0's l1: 23.2952\tvalid_0's l2: 1645.35\n",
      "[973]\tvalid_0's l1: 23.2958\tvalid_0's l2: 1645.34\n",
      "[974]\tvalid_0's l1: 23.2933\tvalid_0's l2: 1645.74\n",
      "[975]\tvalid_0's l1: 23.2947\tvalid_0's l2: 1645.78\n",
      "[976]\tvalid_0's l1: 23.2984\tvalid_0's l2: 1646.21\n",
      "[977]\tvalid_0's l1: 23.2971\tvalid_0's l2: 1646.29\n",
      "[978]\tvalid_0's l1: 23.3003\tvalid_0's l2: 1646.64\n",
      "[979]\tvalid_0's l1: 23.2996\tvalid_0's l2: 1646.74\n",
      "[980]\tvalid_0's l1: 23.3007\tvalid_0's l2: 1647.05\n",
      "[981]\tvalid_0's l1: 23.2999\tvalid_0's l2: 1647.43\n",
      "[982]\tvalid_0's l1: 23.2973\tvalid_0's l2: 1647.58\n",
      "[983]\tvalid_0's l1: 23.296\tvalid_0's l2: 1647.74\n",
      "[984]\tvalid_0's l1: 23.2996\tvalid_0's l2: 1648.26\n",
      "[985]\tvalid_0's l1: 23.3001\tvalid_0's l2: 1648.06\n",
      "[986]\tvalid_0's l1: 23.3013\tvalid_0's l2: 1648.51\n",
      "[987]\tvalid_0's l1: 23.2977\tvalid_0's l2: 1648.73\n",
      "[988]\tvalid_0's l1: 23.2968\tvalid_0's l2: 1648.74\n",
      "[989]\tvalid_0's l1: 23.2946\tvalid_0's l2: 1648.78\n",
      "[990]\tvalid_0's l1: 23.2939\tvalid_0's l2: 1648.95\n",
      "[991]\tvalid_0's l1: 23.2916\tvalid_0's l2: 1649.22\n",
      "[992]\tvalid_0's l1: 23.287\tvalid_0's l2: 1649.32\n",
      "[993]\tvalid_0's l1: 23.2834\tvalid_0's l2: 1649.36\n",
      "[994]\tvalid_0's l1: 23.2834\tvalid_0's l2: 1649.02\n",
      "[995]\tvalid_0's l1: 23.2817\tvalid_0's l2: 1649.05\n",
      "[996]\tvalid_0's l1: 23.2848\tvalid_0's l2: 1649.35\n",
      "[997]\tvalid_0's l1: 23.2863\tvalid_0's l2: 1649.32\n",
      "[998]\tvalid_0's l1: 23.2941\tvalid_0's l2: 1649.4\n",
      "[999]\tvalid_0's l1: 23.2956\tvalid_0's l2: 1649.68\n",
      "[1000]\tvalid_0's l1: 23.2941\tvalid_0's l2: 1649.78\n"
     ]
    }
   ],
   "source": [
    "import lightgbm as lgb\n",
    "lgbm = lgb.LGBMRegressor(n_estimators = 1000)\n",
    "random.seed(30)\n",
    "lgbm.fit(X_train, y_train,\n",
    "        eval_set=[(X_test, y_test)],\n",
    "        eval_metric='l1'#,\n",
    "#         early_stopping_rounds=5\n",
    "        )\n",
    "\n",
    "y_pred = lgbm.predict(X_test)"
   ]
  },
  {
   "cell_type": "code",
   "execution_count": 171,
   "metadata": {},
   "outputs": [
    {
     "name": "stdout",
     "output_type": "stream",
     "text": [
      "W przedziale +/- 10% wartości prawdziwej otrzymalem 72 obserwacji, calkowity zbior ma 87 wierszy.\n",
      "MAE = 23.29405321401572\n"
     ]
    }
   ],
   "source": [
    "n = sum([ ((y_pred[i] > lower.values[i]) & (y_pred[i] < upper.values[i]))\n",
    "     for i in range(y_pred.shape[0])])\n",
    "\n",
    "print(f\"W przedziale +/- 10% wartości prawdziwej otrzymalem {n} obserwacji, calkowity zbior ma {y_pred.shape[0]} wierszy.\")\n",
    "print(f\"MAE = {mean_absolute_error(y_pred,y_test)}\")"
   ]
  },
  {
   "cell_type": "code",
   "execution_count": 177,
   "metadata": {},
   "outputs": [
    {
     "data": {
      "application/vnd.plotly.v1+json": {
       "config": {
        "plotlyServerURL": "https://plot.ly"
       },
       "data": [
        {
         "marker": {
          "color": "grey"
         },
         "mode": "markers",
         "name": "y_test",
         "type": "scatter",
         "x": [
          0,
          1,
          2,
          3,
          4,
          5,
          6,
          7,
          8,
          9,
          10,
          11,
          12,
          13,
          14,
          15,
          16,
          17,
          18,
          19,
          20,
          21,
          22,
          23,
          24,
          25,
          26,
          27,
          28,
          29,
          30,
          31,
          32,
          33,
          34,
          35,
          36,
          37,
          38,
          39,
          40,
          41,
          42,
          43,
          44,
          45,
          46,
          47,
          48,
          49,
          50,
          51,
          52,
          53,
          54,
          55,
          56,
          57,
          58,
          59,
          60,
          61,
          62,
          63,
          64,
          65,
          66,
          67,
          68,
          69,
          70,
          71,
          72,
          73,
          74,
          75,
          76,
          77,
          78,
          79,
          80,
          81,
          82,
          83,
          84,
          85,
          86
         ],
         "y": [
          176,
          194.23,
          220,
          223,
          229,
          248,
          250.98,
          253,
          263.54,
          266,
          268,
          268.57,
          277,
          277,
          277,
          277,
          290,
          290,
          294.82,
          295.51,
          298,
          298,
          300,
          302.58,
          305,
          308,
          310,
          313,
          314,
          314,
          314,
          314.58,
          314.98,
          317.06,
          317.06,
          317.06,
          319.44,
          323.57,
          325,
          329,
          329,
          329,
          329,
          329,
          330.15,
          331,
          331,
          331,
          331,
          334.41,
          337.28,
          341,
          343.53,
          356,
          360,
          360,
          362,
          365,
          367.65,
          368,
          371,
          374,
          375,
          380,
          380,
          381.23,
          388,
          388,
          388,
          388,
          388,
          392.38,
          393,
          415,
          415,
          416.23,
          417.48,
          417.8,
          419,
          421.25,
          427,
          434,
          450.45,
          453,
          469,
          509.35,
          520
         ]
        },
        {
         "marker": {
          "color": "orange"
         },
         "mode": "markers",
         "name": "y_pred",
         "type": "scatter",
         "x": [
          0,
          1,
          2,
          3,
          4,
          5,
          6,
          7,
          8,
          9,
          10,
          11,
          12,
          13,
          14,
          15,
          16,
          17,
          18,
          19,
          20,
          21,
          22,
          23,
          24,
          25,
          26,
          27,
          28,
          29,
          30,
          31,
          32,
          33,
          34,
          35,
          36,
          37,
          38,
          39,
          40,
          41,
          42,
          43,
          44,
          45,
          46,
          47,
          48,
          49,
          50,
          51,
          52,
          53,
          54,
          55,
          56,
          57,
          58,
          59,
          60,
          61,
          62,
          63,
          64,
          65,
          66,
          67,
          68,
          69,
          70,
          71,
          72,
          73,
          74,
          75,
          76,
          77,
          78,
          79,
          80,
          81,
          82,
          83,
          84,
          85,
          86
         ],
         "y": [
          139.23851013183594,
          228.0180206298828,
          237.1005096435547,
          212.83506774902344,
          257.9374084472656,
          243.23495483398438,
          244.2722930908203,
          265.36407470703125,
          249.8702392578125,
          237.10052490234375,
          145.57766723632812,
          267.8506774902344,
          292.78118896484375,
          268.5296936035156,
          267.4410400390625,
          292.78118896484375,
          316.677978515625,
          264.1153869628906,
          326.7394714355469,
          306.7300109863281,
          326.0680847167969,
          300.5450134277344,
          289.0636291503906,
          269.7705993652344,
          327.1607971191406,
          377.4073791503906,
          152.40110778808594,
          316.8220520019531,
          324.421142578125,
          368.5340270996094,
          324.421142578125,
          268.67730712890625,
          318.957275390625,
          323.5843200683594,
          324.24798583984375,
          253.9557647705078,
          335.86712646484375,
          324.26080322265625,
          326.73028564453125,
          322.92938232421875,
          322.92938232421875,
          322.92938232421875,
          322.92938232421875,
          322.92938232421875,
          241.1848602294922,
          324.421142578125,
          324.421142578125,
          328.09466552734375,
          324.421142578125,
          310.9013671875,
          315.7535705566406,
          366.3598327636719,
          352.63421630859375,
          368.5656433105469,
          349.1380615234375,
          355.4046630859375,
          348.990234375,
          368.80322265625,
          349.5158996582031,
          314.9488830566406,
          375.2477111816406,
          379.8080749511719,
          360.953369140625,
          426.4833068847656,
          407.0577087402344,
          403.1105041503906,
          385.8331604003906,
          424.0006408691406,
          424.0006408691406,
          296.2907409667969,
          424.0006408691406,
          354.9017028808594,
          388.1647644042969,
          292.9157409667969,
          398.5885314941406,
          380.4644470214844,
          364.7801818847656,
          350.0833435058594,
          336.5975646972656,
          388.0414123535156,
          409.2047119140625,
          200.8892822265625,
          394.4949645996094,
          416.3750305175781,
          458.14495849609375,
          331.4138488769531,
          473.72686767578125
         ]
        },
        {
         "marker": {
          "color": "blue"
         },
         "mode": "lines",
         "name": "-10% y_test",
         "type": "scatter",
         "x": [
          0,
          1,
          2,
          3,
          4,
          5,
          6,
          7,
          8,
          9,
          10,
          11,
          12,
          13,
          14,
          15,
          16,
          17,
          18,
          19,
          20,
          21,
          22,
          23,
          24,
          25,
          26,
          27,
          28,
          29,
          30,
          31,
          32,
          33,
          34,
          35,
          36,
          37,
          38,
          39,
          40,
          41,
          42,
          43,
          44,
          45,
          46,
          47,
          48,
          49,
          50,
          51,
          52,
          53,
          54,
          55,
          56,
          57,
          58,
          59,
          60,
          61,
          62,
          63,
          64,
          65,
          66,
          67,
          68,
          69,
          70,
          71,
          72,
          73,
          74,
          75,
          76,
          77,
          78,
          79,
          80,
          81,
          82,
          83,
          84,
          85,
          86
         ],
         "y": [
          158.4,
          174.807,
          198,
          200.7,
          206.1,
          223.2,
          225.882,
          227.7,
          237.186,
          239.4,
          241.2,
          241.713,
          249.3,
          249.3,
          249.3,
          249.3,
          261,
          261,
          265.33799999999997,
          265.959,
          268.2,
          268.2,
          270,
          272.322,
          274.5,
          277.2,
          279,
          281.7,
          282.6,
          282.6,
          282.6,
          283.12199999999996,
          283.482,
          285.354,
          285.354,
          285.354,
          287.496,
          291.21299999999997,
          292.5,
          296.1,
          296.1,
          296.1,
          296.1,
          296.1,
          297.135,
          297.9,
          297.9,
          297.9,
          297.9,
          300.96900000000005,
          303.55199999999996,
          306.9,
          309.17699999999996,
          320.4,
          324,
          324,
          325.8,
          328.5,
          330.885,
          331.2,
          333.9,
          336.6,
          337.5,
          342,
          342,
          343.107,
          349.2,
          349.2,
          349.2,
          349.2,
          349.2,
          353.142,
          353.7,
          373.5,
          373.5,
          374.607,
          375.732,
          376.02,
          377.1,
          379.125,
          384.3,
          390.6,
          405.405,
          407.7,
          422.1,
          458.415,
          468
         ]
        },
        {
         "marker": {
          "color": "blue"
         },
         "mode": "lines",
         "name": "+ 10% y_test",
         "type": "scatter",
         "x": [
          0,
          1,
          2,
          3,
          4,
          5,
          6,
          7,
          8,
          9,
          10,
          11,
          12,
          13,
          14,
          15,
          16,
          17,
          18,
          19,
          20,
          21,
          22,
          23,
          24,
          25,
          26,
          27,
          28,
          29,
          30,
          31,
          32,
          33,
          34,
          35,
          36,
          37,
          38,
          39,
          40,
          41,
          42,
          43,
          44,
          45,
          46,
          47,
          48,
          49,
          50,
          51,
          52,
          53,
          54,
          55,
          56,
          57,
          58,
          59,
          60,
          61,
          62,
          63,
          64,
          65,
          66,
          67,
          68,
          69,
          70,
          71,
          72,
          73,
          74,
          75,
          76,
          77,
          78,
          79,
          80,
          81,
          82,
          83,
          84,
          85,
          86
         ],
         "y": [
          193.6,
          213.653,
          242,
          245.3,
          251.9,
          272.8,
          276.078,
          278.3,
          289.894,
          292.6,
          294.8,
          295.427,
          304.7,
          304.7,
          304.7,
          304.7,
          319,
          319,
          324.302,
          325.061,
          327.8,
          327.8,
          330,
          332.83799999999997,
          335.5,
          338.8,
          341,
          344.3,
          345.4,
          345.4,
          345.4,
          346.038,
          346.478,
          348.766,
          348.766,
          348.766,
          351.384,
          355.927,
          357.5,
          361.9,
          361.9,
          361.9,
          361.9,
          361.9,
          363.16499999999996,
          364.1,
          364.1,
          364.1,
          364.1,
          367.851,
          371.008,
          375.1,
          377.883,
          391.6,
          396,
          396,
          398.2,
          401.5,
          404.41499999999996,
          404.8,
          408.1,
          411.4,
          412.5,
          418,
          418,
          419.353,
          426.8,
          426.8,
          426.8,
          426.8,
          426.8,
          431.618,
          432.3,
          456.5,
          456.5,
          457.853,
          459.228,
          459.58000000000004,
          460.9,
          463.375,
          469.7,
          477.4,
          495.495,
          498.3,
          515.9,
          560.2850000000001,
          572
         ]
        },
        {
         "marker": {
          "color": "red"
         },
         "mode": "lines",
         "name": "-20% y_test",
         "type": "scatter",
         "x": [
          0,
          1,
          2,
          3,
          4,
          5,
          6,
          7,
          8,
          9,
          10,
          11,
          12,
          13,
          14,
          15,
          16,
          17,
          18,
          19,
          20,
          21,
          22,
          23,
          24,
          25,
          26,
          27,
          28,
          29,
          30,
          31,
          32,
          33,
          34,
          35,
          36,
          37,
          38,
          39,
          40,
          41,
          42,
          43,
          44,
          45,
          46,
          47,
          48,
          49,
          50,
          51,
          52,
          53,
          54,
          55,
          56,
          57,
          58,
          59,
          60,
          61,
          62,
          63,
          64,
          65,
          66,
          67,
          68,
          69,
          70,
          71,
          72,
          73,
          74,
          75,
          76,
          77,
          78,
          79,
          80,
          81,
          82,
          83,
          84,
          85,
          86
         ],
         "y": [
          140.8,
          155.384,
          176,
          178.4,
          183.2,
          198.4,
          200.784,
          202.4,
          210.83200000000002,
          212.8,
          214.4,
          214.856,
          221.6,
          221.6,
          221.6,
          221.6,
          232,
          232,
          235.856,
          236.408,
          238.4,
          238.4,
          240,
          242.064,
          244,
          246.4,
          248,
          250.4,
          251.2,
          251.2,
          251.2,
          251.664,
          251.984,
          253.648,
          253.648,
          253.648,
          255.552,
          258.856,
          260,
          263.2,
          263.2,
          263.2,
          263.2,
          263.2,
          264.12,
          264.8,
          264.8,
          264.8,
          264.8,
          267.528,
          269.82399999999996,
          272.8,
          274.82399999999996,
          284.8,
          288,
          288,
          289.6,
          292,
          294.12,
          294.4,
          296.8,
          299.2,
          300,
          304,
          304,
          304.98400000000004,
          310.4,
          310.4,
          310.4,
          310.4,
          310.4,
          313.904,
          314.4,
          332,
          332,
          332.98400000000004,
          333.98400000000004,
          334.24,
          335.2,
          337,
          341.6,
          347.2,
          360.36,
          362.4,
          375.2,
          407.48,
          416
         ]
        },
        {
         "marker": {
          "color": "red"
         },
         "mode": "lines",
         "name": "+20% y_test",
         "type": "scatter",
         "x": [
          0,
          1,
          2,
          3,
          4,
          5,
          6,
          7,
          8,
          9,
          10,
          11,
          12,
          13,
          14,
          15,
          16,
          17,
          18,
          19,
          20,
          21,
          22,
          23,
          24,
          25,
          26,
          27,
          28,
          29,
          30,
          31,
          32,
          33,
          34,
          35,
          36,
          37,
          38,
          39,
          40,
          41,
          42,
          43,
          44,
          45,
          46,
          47,
          48,
          49,
          50,
          51,
          52,
          53,
          54,
          55,
          56,
          57,
          58,
          59,
          60,
          61,
          62,
          63,
          64,
          65,
          66,
          67,
          68,
          69,
          70,
          71,
          72,
          73,
          74,
          75,
          76,
          77,
          78,
          79,
          80,
          81,
          82,
          83,
          84,
          85,
          86
         ],
         "y": [
          211.2,
          233.076,
          264,
          267.6,
          274.8,
          297.6,
          301.176,
          303.6,
          316.24800000000005,
          319.2,
          321.6,
          322.284,
          332.4,
          332.4,
          332.4,
          332.4,
          348,
          348,
          353.784,
          354.61199999999997,
          357.6,
          357.6,
          360,
          363.096,
          366,
          369.6,
          372,
          375.6,
          376.8,
          376.8,
          376.8,
          377.496,
          377.976,
          380.472,
          380.472,
          380.472,
          383.328,
          388.284,
          390,
          394.8,
          394.8,
          394.8,
          394.8,
          394.8,
          396.17999999999995,
          397.2,
          397.2,
          397.2,
          397.2,
          401.29200000000003,
          404.736,
          409.2,
          412.236,
          427.2,
          432,
          432,
          434.4,
          438,
          441.17999999999995,
          441.6,
          445.2,
          448.8,
          450,
          456,
          456,
          457.476,
          465.6,
          465.6,
          465.6,
          465.6,
          465.6,
          470.856,
          471.6,
          498,
          498,
          499.476,
          500.976,
          501.36,
          502.8,
          505.5,
          512.4,
          520.8,
          540.54,
          543.6,
          562.8,
          611.22,
          624
         ]
        }
       ],
       "layout": {
        "template": {
         "data": {
          "bar": [
           {
            "error_x": {
             "color": "#2a3f5f"
            },
            "error_y": {
             "color": "#2a3f5f"
            },
            "marker": {
             "line": {
              "color": "#E5ECF6",
              "width": 0.5
             }
            },
            "type": "bar"
           }
          ],
          "barpolar": [
           {
            "marker": {
             "line": {
              "color": "#E5ECF6",
              "width": 0.5
             }
            },
            "type": "barpolar"
           }
          ],
          "carpet": [
           {
            "aaxis": {
             "endlinecolor": "#2a3f5f",
             "gridcolor": "white",
             "linecolor": "white",
             "minorgridcolor": "white",
             "startlinecolor": "#2a3f5f"
            },
            "baxis": {
             "endlinecolor": "#2a3f5f",
             "gridcolor": "white",
             "linecolor": "white",
             "minorgridcolor": "white",
             "startlinecolor": "#2a3f5f"
            },
            "type": "carpet"
           }
          ],
          "choropleth": [
           {
            "colorbar": {
             "outlinewidth": 0,
             "ticks": ""
            },
            "type": "choropleth"
           }
          ],
          "contour": [
           {
            "colorbar": {
             "outlinewidth": 0,
             "ticks": ""
            },
            "colorscale": [
             [
              0,
              "#0d0887"
             ],
             [
              0.1111111111111111,
              "#46039f"
             ],
             [
              0.2222222222222222,
              "#7201a8"
             ],
             [
              0.3333333333333333,
              "#9c179e"
             ],
             [
              0.4444444444444444,
              "#bd3786"
             ],
             [
              0.5555555555555556,
              "#d8576b"
             ],
             [
              0.6666666666666666,
              "#ed7953"
             ],
             [
              0.7777777777777778,
              "#fb9f3a"
             ],
             [
              0.8888888888888888,
              "#fdca26"
             ],
             [
              1,
              "#f0f921"
             ]
            ],
            "type": "contour"
           }
          ],
          "contourcarpet": [
           {
            "colorbar": {
             "outlinewidth": 0,
             "ticks": ""
            },
            "type": "contourcarpet"
           }
          ],
          "heatmap": [
           {
            "colorbar": {
             "outlinewidth": 0,
             "ticks": ""
            },
            "colorscale": [
             [
              0,
              "#0d0887"
             ],
             [
              0.1111111111111111,
              "#46039f"
             ],
             [
              0.2222222222222222,
              "#7201a8"
             ],
             [
              0.3333333333333333,
              "#9c179e"
             ],
             [
              0.4444444444444444,
              "#bd3786"
             ],
             [
              0.5555555555555556,
              "#d8576b"
             ],
             [
              0.6666666666666666,
              "#ed7953"
             ],
             [
              0.7777777777777778,
              "#fb9f3a"
             ],
             [
              0.8888888888888888,
              "#fdca26"
             ],
             [
              1,
              "#f0f921"
             ]
            ],
            "type": "heatmap"
           }
          ],
          "heatmapgl": [
           {
            "colorbar": {
             "outlinewidth": 0,
             "ticks": ""
            },
            "colorscale": [
             [
              0,
              "#0d0887"
             ],
             [
              0.1111111111111111,
              "#46039f"
             ],
             [
              0.2222222222222222,
              "#7201a8"
             ],
             [
              0.3333333333333333,
              "#9c179e"
             ],
             [
              0.4444444444444444,
              "#bd3786"
             ],
             [
              0.5555555555555556,
              "#d8576b"
             ],
             [
              0.6666666666666666,
              "#ed7953"
             ],
             [
              0.7777777777777778,
              "#fb9f3a"
             ],
             [
              0.8888888888888888,
              "#fdca26"
             ],
             [
              1,
              "#f0f921"
             ]
            ],
            "type": "heatmapgl"
           }
          ],
          "histogram": [
           {
            "marker": {
             "colorbar": {
              "outlinewidth": 0,
              "ticks": ""
             }
            },
            "type": "histogram"
           }
          ],
          "histogram2d": [
           {
            "colorbar": {
             "outlinewidth": 0,
             "ticks": ""
            },
            "colorscale": [
             [
              0,
              "#0d0887"
             ],
             [
              0.1111111111111111,
              "#46039f"
             ],
             [
              0.2222222222222222,
              "#7201a8"
             ],
             [
              0.3333333333333333,
              "#9c179e"
             ],
             [
              0.4444444444444444,
              "#bd3786"
             ],
             [
              0.5555555555555556,
              "#d8576b"
             ],
             [
              0.6666666666666666,
              "#ed7953"
             ],
             [
              0.7777777777777778,
              "#fb9f3a"
             ],
             [
              0.8888888888888888,
              "#fdca26"
             ],
             [
              1,
              "#f0f921"
             ]
            ],
            "type": "histogram2d"
           }
          ],
          "histogram2dcontour": [
           {
            "colorbar": {
             "outlinewidth": 0,
             "ticks": ""
            },
            "colorscale": [
             [
              0,
              "#0d0887"
             ],
             [
              0.1111111111111111,
              "#46039f"
             ],
             [
              0.2222222222222222,
              "#7201a8"
             ],
             [
              0.3333333333333333,
              "#9c179e"
             ],
             [
              0.4444444444444444,
              "#bd3786"
             ],
             [
              0.5555555555555556,
              "#d8576b"
             ],
             [
              0.6666666666666666,
              "#ed7953"
             ],
             [
              0.7777777777777778,
              "#fb9f3a"
             ],
             [
              0.8888888888888888,
              "#fdca26"
             ],
             [
              1,
              "#f0f921"
             ]
            ],
            "type": "histogram2dcontour"
           }
          ],
          "mesh3d": [
           {
            "colorbar": {
             "outlinewidth": 0,
             "ticks": ""
            },
            "type": "mesh3d"
           }
          ],
          "parcoords": [
           {
            "line": {
             "colorbar": {
              "outlinewidth": 0,
              "ticks": ""
             }
            },
            "type": "parcoords"
           }
          ],
          "pie": [
           {
            "automargin": true,
            "type": "pie"
           }
          ],
          "scatter": [
           {
            "marker": {
             "colorbar": {
              "outlinewidth": 0,
              "ticks": ""
             }
            },
            "type": "scatter"
           }
          ],
          "scatter3d": [
           {
            "line": {
             "colorbar": {
              "outlinewidth": 0,
              "ticks": ""
             }
            },
            "marker": {
             "colorbar": {
              "outlinewidth": 0,
              "ticks": ""
             }
            },
            "type": "scatter3d"
           }
          ],
          "scattercarpet": [
           {
            "marker": {
             "colorbar": {
              "outlinewidth": 0,
              "ticks": ""
             }
            },
            "type": "scattercarpet"
           }
          ],
          "scattergeo": [
           {
            "marker": {
             "colorbar": {
              "outlinewidth": 0,
              "ticks": ""
             }
            },
            "type": "scattergeo"
           }
          ],
          "scattergl": [
           {
            "marker": {
             "colorbar": {
              "outlinewidth": 0,
              "ticks": ""
             }
            },
            "type": "scattergl"
           }
          ],
          "scattermapbox": [
           {
            "marker": {
             "colorbar": {
              "outlinewidth": 0,
              "ticks": ""
             }
            },
            "type": "scattermapbox"
           }
          ],
          "scatterpolar": [
           {
            "marker": {
             "colorbar": {
              "outlinewidth": 0,
              "ticks": ""
             }
            },
            "type": "scatterpolar"
           }
          ],
          "scatterpolargl": [
           {
            "marker": {
             "colorbar": {
              "outlinewidth": 0,
              "ticks": ""
             }
            },
            "type": "scatterpolargl"
           }
          ],
          "scatterternary": [
           {
            "marker": {
             "colorbar": {
              "outlinewidth": 0,
              "ticks": ""
             }
            },
            "type": "scatterternary"
           }
          ],
          "surface": [
           {
            "colorbar": {
             "outlinewidth": 0,
             "ticks": ""
            },
            "colorscale": [
             [
              0,
              "#0d0887"
             ],
             [
              0.1111111111111111,
              "#46039f"
             ],
             [
              0.2222222222222222,
              "#7201a8"
             ],
             [
              0.3333333333333333,
              "#9c179e"
             ],
             [
              0.4444444444444444,
              "#bd3786"
             ],
             [
              0.5555555555555556,
              "#d8576b"
             ],
             [
              0.6666666666666666,
              "#ed7953"
             ],
             [
              0.7777777777777778,
              "#fb9f3a"
             ],
             [
              0.8888888888888888,
              "#fdca26"
             ],
             [
              1,
              "#f0f921"
             ]
            ],
            "type": "surface"
           }
          ],
          "table": [
           {
            "cells": {
             "fill": {
              "color": "#EBF0F8"
             },
             "line": {
              "color": "white"
             }
            },
            "header": {
             "fill": {
              "color": "#C8D4E3"
             },
             "line": {
              "color": "white"
             }
            },
            "type": "table"
           }
          ]
         },
         "layout": {
          "annotationdefaults": {
           "arrowcolor": "#2a3f5f",
           "arrowhead": 0,
           "arrowwidth": 1
          },
          "coloraxis": {
           "colorbar": {
            "outlinewidth": 0,
            "ticks": ""
           }
          },
          "colorscale": {
           "diverging": [
            [
             0,
             "#8e0152"
            ],
            [
             0.1,
             "#c51b7d"
            ],
            [
             0.2,
             "#de77ae"
            ],
            [
             0.3,
             "#f1b6da"
            ],
            [
             0.4,
             "#fde0ef"
            ],
            [
             0.5,
             "#f7f7f7"
            ],
            [
             0.6,
             "#e6f5d0"
            ],
            [
             0.7,
             "#b8e186"
            ],
            [
             0.8,
             "#7fbc41"
            ],
            [
             0.9,
             "#4d9221"
            ],
            [
             1,
             "#276419"
            ]
           ],
           "sequential": [
            [
             0,
             "#0d0887"
            ],
            [
             0.1111111111111111,
             "#46039f"
            ],
            [
             0.2222222222222222,
             "#7201a8"
            ],
            [
             0.3333333333333333,
             "#9c179e"
            ],
            [
             0.4444444444444444,
             "#bd3786"
            ],
            [
             0.5555555555555556,
             "#d8576b"
            ],
            [
             0.6666666666666666,
             "#ed7953"
            ],
            [
             0.7777777777777778,
             "#fb9f3a"
            ],
            [
             0.8888888888888888,
             "#fdca26"
            ],
            [
             1,
             "#f0f921"
            ]
           ],
           "sequentialminus": [
            [
             0,
             "#0d0887"
            ],
            [
             0.1111111111111111,
             "#46039f"
            ],
            [
             0.2222222222222222,
             "#7201a8"
            ],
            [
             0.3333333333333333,
             "#9c179e"
            ],
            [
             0.4444444444444444,
             "#bd3786"
            ],
            [
             0.5555555555555556,
             "#d8576b"
            ],
            [
             0.6666666666666666,
             "#ed7953"
            ],
            [
             0.7777777777777778,
             "#fb9f3a"
            ],
            [
             0.8888888888888888,
             "#fdca26"
            ],
            [
             1,
             "#f0f921"
            ]
           ]
          },
          "colorway": [
           "#636efa",
           "#EF553B",
           "#00cc96",
           "#ab63fa",
           "#FFA15A",
           "#19d3f3",
           "#FF6692",
           "#B6E880",
           "#FF97FF",
           "#FECB52"
          ],
          "font": {
           "color": "#2a3f5f"
          },
          "geo": {
           "bgcolor": "white",
           "lakecolor": "white",
           "landcolor": "#E5ECF6",
           "showlakes": true,
           "showland": true,
           "subunitcolor": "white"
          },
          "hoverlabel": {
           "align": "left"
          },
          "hovermode": "closest",
          "mapbox": {
           "style": "light"
          },
          "paper_bgcolor": "white",
          "plot_bgcolor": "#E5ECF6",
          "polar": {
           "angularaxis": {
            "gridcolor": "white",
            "linecolor": "white",
            "ticks": ""
           },
           "bgcolor": "#E5ECF6",
           "radialaxis": {
            "gridcolor": "white",
            "linecolor": "white",
            "ticks": ""
           }
          },
          "scene": {
           "xaxis": {
            "backgroundcolor": "#E5ECF6",
            "gridcolor": "white",
            "gridwidth": 2,
            "linecolor": "white",
            "showbackground": true,
            "ticks": "",
            "zerolinecolor": "white"
           },
           "yaxis": {
            "backgroundcolor": "#E5ECF6",
            "gridcolor": "white",
            "gridwidth": 2,
            "linecolor": "white",
            "showbackground": true,
            "ticks": "",
            "zerolinecolor": "white"
           },
           "zaxis": {
            "backgroundcolor": "#E5ECF6",
            "gridcolor": "white",
            "gridwidth": 2,
            "linecolor": "white",
            "showbackground": true,
            "ticks": "",
            "zerolinecolor": "white"
           }
          },
          "shapedefaults": {
           "line": {
            "color": "#2a3f5f"
           }
          },
          "ternary": {
           "aaxis": {
            "gridcolor": "white",
            "linecolor": "white",
            "ticks": ""
           },
           "baxis": {
            "gridcolor": "white",
            "linecolor": "white",
            "ticks": ""
           },
           "bgcolor": "#E5ECF6",
           "caxis": {
            "gridcolor": "white",
            "linecolor": "white",
            "ticks": ""
           }
          },
          "title": {
           "x": 0.05
          },
          "xaxis": {
           "automargin": true,
           "gridcolor": "white",
           "linecolor": "white",
           "ticks": "",
           "title": {
            "standoff": 15
           },
           "zerolinecolor": "white",
           "zerolinewidth": 2
          },
          "yaxis": {
           "automargin": true,
           "gridcolor": "white",
           "linecolor": "white",
           "ticks": "",
           "title": {
            "standoff": 15
           },
           "zerolinecolor": "white",
           "zerolinewidth": 2
          }
         }
        },
        "xaxis": {
         "anchor": "y",
         "domain": [
          0,
          1
         ]
        },
        "yaxis": {
         "anchor": "x",
         "domain": [
          0,
          1
         ]
        }
       }
      },
      "text/html": [
       "<div>\n",
       "        \n",
       "        \n",
       "            <div id=\"cc21692f-d687-47aa-81b3-85e314f67c3d\" class=\"plotly-graph-div\" style=\"height:525px; width:100%;\"></div>\n",
       "            <script type=\"text/javascript\">\n",
       "                require([\"plotly\"], function(Plotly) {\n",
       "                    window.PLOTLYENV=window.PLOTLYENV || {};\n",
       "                    \n",
       "                if (document.getElementById(\"cc21692f-d687-47aa-81b3-85e314f67c3d\")) {\n",
       "                    Plotly.newPlot(\n",
       "                        'cc21692f-d687-47aa-81b3-85e314f67c3d',\n",
       "                        [{\"marker\": {\"color\": \"grey\"}, \"mode\": \"markers\", \"name\": \"y_test\", \"type\": \"scatter\", \"x\": [0, 1, 2, 3, 4, 5, 6, 7, 8, 9, 10, 11, 12, 13, 14, 15, 16, 17, 18, 19, 20, 21, 22, 23, 24, 25, 26, 27, 28, 29, 30, 31, 32, 33, 34, 35, 36, 37, 38, 39, 40, 41, 42, 43, 44, 45, 46, 47, 48, 49, 50, 51, 52, 53, 54, 55, 56, 57, 58, 59, 60, 61, 62, 63, 64, 65, 66, 67, 68, 69, 70, 71, 72, 73, 74, 75, 76, 77, 78, 79, 80, 81, 82, 83, 84, 85, 86], \"y\": [176.0, 194.23, 220.0, 223.0, 229.0, 248.0, 250.98, 253.0, 263.54, 266.0, 268.0, 268.57, 277.0, 277.0, 277.0, 277.0, 290.0, 290.0, 294.82, 295.51, 298.0, 298.0, 300.0, 302.58, 305.0, 308.0, 310.0, 313.0, 314.0, 314.0, 314.0, 314.58, 314.98, 317.06, 317.06, 317.06, 319.44, 323.57, 325.0, 329.0, 329.0, 329.0, 329.0, 329.0, 330.15, 331.0, 331.0, 331.0, 331.0, 334.41, 337.28, 341.0, 343.53, 356.0, 360.0, 360.0, 362.0, 365.0, 367.65, 368.0, 371.0, 374.0, 375.0, 380.0, 380.0, 381.23, 388.0, 388.0, 388.0, 388.0, 388.0, 392.38, 393.0, 415.0, 415.0, 416.23, 417.48, 417.8, 419.0, 421.25, 427.0, 434.0, 450.45, 453.0, 469.0, 509.35, 520.0]}, {\"marker\": {\"color\": \"orange\"}, \"mode\": \"markers\", \"name\": \"y_pred\", \"type\": \"scatter\", \"x\": [0, 1, 2, 3, 4, 5, 6, 7, 8, 9, 10, 11, 12, 13, 14, 15, 16, 17, 18, 19, 20, 21, 22, 23, 24, 25, 26, 27, 28, 29, 30, 31, 32, 33, 34, 35, 36, 37, 38, 39, 40, 41, 42, 43, 44, 45, 46, 47, 48, 49, 50, 51, 52, 53, 54, 55, 56, 57, 58, 59, 60, 61, 62, 63, 64, 65, 66, 67, 68, 69, 70, 71, 72, 73, 74, 75, 76, 77, 78, 79, 80, 81, 82, 83, 84, 85, 86], \"y\": [139.23851013183594, 228.0180206298828, 237.1005096435547, 212.83506774902344, 257.9374084472656, 243.23495483398438, 244.2722930908203, 265.36407470703125, 249.8702392578125, 237.10052490234375, 145.57766723632812, 267.8506774902344, 292.78118896484375, 268.5296936035156, 267.4410400390625, 292.78118896484375, 316.677978515625, 264.1153869628906, 326.7394714355469, 306.7300109863281, 326.0680847167969, 300.5450134277344, 289.0636291503906, 269.7705993652344, 327.1607971191406, 377.4073791503906, 152.40110778808594, 316.8220520019531, 324.421142578125, 368.5340270996094, 324.421142578125, 268.67730712890625, 318.957275390625, 323.5843200683594, 324.24798583984375, 253.9557647705078, 335.86712646484375, 324.26080322265625, 326.73028564453125, 322.92938232421875, 322.92938232421875, 322.92938232421875, 322.92938232421875, 322.92938232421875, 241.1848602294922, 324.421142578125, 324.421142578125, 328.09466552734375, 324.421142578125, 310.9013671875, 315.7535705566406, 366.3598327636719, 352.63421630859375, 368.5656433105469, 349.1380615234375, 355.4046630859375, 348.990234375, 368.80322265625, 349.5158996582031, 314.9488830566406, 375.2477111816406, 379.8080749511719, 360.953369140625, 426.4833068847656, 407.0577087402344, 403.1105041503906, 385.8331604003906, 424.0006408691406, 424.0006408691406, 296.2907409667969, 424.0006408691406, 354.9017028808594, 388.1647644042969, 292.9157409667969, 398.5885314941406, 380.4644470214844, 364.7801818847656, 350.0833435058594, 336.5975646972656, 388.0414123535156, 409.2047119140625, 200.8892822265625, 394.4949645996094, 416.3750305175781, 458.14495849609375, 331.4138488769531, 473.72686767578125]}, {\"marker\": {\"color\": \"blue\"}, \"mode\": \"lines\", \"name\": \"-10% y_test\", \"type\": \"scatter\", \"x\": [0, 1, 2, 3, 4, 5, 6, 7, 8, 9, 10, 11, 12, 13, 14, 15, 16, 17, 18, 19, 20, 21, 22, 23, 24, 25, 26, 27, 28, 29, 30, 31, 32, 33, 34, 35, 36, 37, 38, 39, 40, 41, 42, 43, 44, 45, 46, 47, 48, 49, 50, 51, 52, 53, 54, 55, 56, 57, 58, 59, 60, 61, 62, 63, 64, 65, 66, 67, 68, 69, 70, 71, 72, 73, 74, 75, 76, 77, 78, 79, 80, 81, 82, 83, 84, 85, 86], \"y\": [158.4, 174.807, 198.0, 200.7, 206.1, 223.2, 225.882, 227.7, 237.186, 239.4, 241.2, 241.713, 249.3, 249.3, 249.3, 249.3, 261.0, 261.0, 265.33799999999997, 265.959, 268.2, 268.2, 270.0, 272.322, 274.5, 277.2, 279.0, 281.7, 282.6, 282.6, 282.6, 283.12199999999996, 283.482, 285.354, 285.354, 285.354, 287.496, 291.21299999999997, 292.5, 296.1, 296.1, 296.1, 296.1, 296.1, 297.135, 297.9, 297.9, 297.9, 297.9, 300.96900000000005, 303.55199999999996, 306.9, 309.17699999999996, 320.4, 324.0, 324.0, 325.8, 328.5, 330.885, 331.2, 333.9, 336.6, 337.5, 342.0, 342.0, 343.107, 349.2, 349.2, 349.2, 349.2, 349.2, 353.142, 353.7, 373.5, 373.5, 374.607, 375.732, 376.02, 377.1, 379.125, 384.3, 390.6, 405.405, 407.7, 422.1, 458.415, 468.0]}, {\"marker\": {\"color\": \"blue\"}, \"mode\": \"lines\", \"name\": \"+ 10% y_test\", \"type\": \"scatter\", \"x\": [0, 1, 2, 3, 4, 5, 6, 7, 8, 9, 10, 11, 12, 13, 14, 15, 16, 17, 18, 19, 20, 21, 22, 23, 24, 25, 26, 27, 28, 29, 30, 31, 32, 33, 34, 35, 36, 37, 38, 39, 40, 41, 42, 43, 44, 45, 46, 47, 48, 49, 50, 51, 52, 53, 54, 55, 56, 57, 58, 59, 60, 61, 62, 63, 64, 65, 66, 67, 68, 69, 70, 71, 72, 73, 74, 75, 76, 77, 78, 79, 80, 81, 82, 83, 84, 85, 86], \"y\": [193.6, 213.653, 242.0, 245.3, 251.9, 272.8, 276.078, 278.3, 289.894, 292.6, 294.8, 295.427, 304.7, 304.7, 304.7, 304.7, 319.0, 319.0, 324.302, 325.061, 327.8, 327.8, 330.0, 332.83799999999997, 335.5, 338.8, 341.0, 344.3, 345.4, 345.4, 345.4, 346.038, 346.478, 348.766, 348.766, 348.766, 351.384, 355.927, 357.5, 361.9, 361.9, 361.9, 361.9, 361.9, 363.16499999999996, 364.1, 364.1, 364.1, 364.1, 367.851, 371.008, 375.1, 377.883, 391.6, 396.0, 396.0, 398.2, 401.5, 404.41499999999996, 404.8, 408.1, 411.4, 412.5, 418.0, 418.0, 419.353, 426.8, 426.8, 426.8, 426.8, 426.8, 431.618, 432.3, 456.5, 456.5, 457.853, 459.228, 459.58000000000004, 460.9, 463.375, 469.7, 477.4, 495.495, 498.3, 515.9, 560.2850000000001, 572.0]}, {\"marker\": {\"color\": \"red\"}, \"mode\": \"lines\", \"name\": \"-20% y_test\", \"type\": \"scatter\", \"x\": [0, 1, 2, 3, 4, 5, 6, 7, 8, 9, 10, 11, 12, 13, 14, 15, 16, 17, 18, 19, 20, 21, 22, 23, 24, 25, 26, 27, 28, 29, 30, 31, 32, 33, 34, 35, 36, 37, 38, 39, 40, 41, 42, 43, 44, 45, 46, 47, 48, 49, 50, 51, 52, 53, 54, 55, 56, 57, 58, 59, 60, 61, 62, 63, 64, 65, 66, 67, 68, 69, 70, 71, 72, 73, 74, 75, 76, 77, 78, 79, 80, 81, 82, 83, 84, 85, 86], \"y\": [140.8, 155.384, 176.0, 178.4, 183.2, 198.4, 200.784, 202.4, 210.83200000000002, 212.8, 214.4, 214.856, 221.6, 221.6, 221.6, 221.6, 232.0, 232.0, 235.856, 236.408, 238.4, 238.4, 240.0, 242.064, 244.0, 246.4, 248.0, 250.4, 251.2, 251.2, 251.2, 251.664, 251.984, 253.648, 253.648, 253.648, 255.552, 258.856, 260.0, 263.2, 263.2, 263.2, 263.2, 263.2, 264.12, 264.8, 264.8, 264.8, 264.8, 267.528, 269.82399999999996, 272.8, 274.82399999999996, 284.8, 288.0, 288.0, 289.6, 292.0, 294.12, 294.4, 296.8, 299.2, 300.0, 304.0, 304.0, 304.98400000000004, 310.4, 310.4, 310.4, 310.4, 310.4, 313.904, 314.4, 332.0, 332.0, 332.98400000000004, 333.98400000000004, 334.24, 335.2, 337.0, 341.6, 347.2, 360.36, 362.4, 375.2, 407.48, 416.0]}, {\"marker\": {\"color\": \"red\"}, \"mode\": \"lines\", \"name\": \"+20% y_test\", \"type\": \"scatter\", \"x\": [0, 1, 2, 3, 4, 5, 6, 7, 8, 9, 10, 11, 12, 13, 14, 15, 16, 17, 18, 19, 20, 21, 22, 23, 24, 25, 26, 27, 28, 29, 30, 31, 32, 33, 34, 35, 36, 37, 38, 39, 40, 41, 42, 43, 44, 45, 46, 47, 48, 49, 50, 51, 52, 53, 54, 55, 56, 57, 58, 59, 60, 61, 62, 63, 64, 65, 66, 67, 68, 69, 70, 71, 72, 73, 74, 75, 76, 77, 78, 79, 80, 81, 82, 83, 84, 85, 86], \"y\": [211.2, 233.076, 264.0, 267.6, 274.8, 297.6, 301.176, 303.6, 316.24800000000005, 319.2, 321.6, 322.284, 332.4, 332.4, 332.4, 332.4, 348.0, 348.0, 353.784, 354.61199999999997, 357.6, 357.6, 360.0, 363.096, 366.0, 369.6, 372.0, 375.6, 376.8, 376.8, 376.8, 377.496, 377.976, 380.472, 380.472, 380.472, 383.328, 388.284, 390.0, 394.8, 394.8, 394.8, 394.8, 394.8, 396.17999999999995, 397.2, 397.2, 397.2, 397.2, 401.29200000000003, 404.736, 409.2, 412.236, 427.2, 432.0, 432.0, 434.4, 438.0, 441.17999999999995, 441.6, 445.2, 448.8, 450.0, 456.0, 456.0, 457.476, 465.6, 465.6, 465.6, 465.6, 465.6, 470.856, 471.6, 498.0, 498.0, 499.476, 500.976, 501.36, 502.8, 505.5, 512.4, 520.8, 540.54, 543.6, 562.8, 611.22, 624.0]}],\n",
       "                        {\"template\": {\"data\": {\"bar\": [{\"error_x\": {\"color\": \"#2a3f5f\"}, \"error_y\": {\"color\": \"#2a3f5f\"}, \"marker\": {\"line\": {\"color\": \"#E5ECF6\", \"width\": 0.5}}, \"type\": \"bar\"}], \"barpolar\": [{\"marker\": {\"line\": {\"color\": \"#E5ECF6\", \"width\": 0.5}}, \"type\": \"barpolar\"}], \"carpet\": [{\"aaxis\": {\"endlinecolor\": \"#2a3f5f\", \"gridcolor\": \"white\", \"linecolor\": \"white\", \"minorgridcolor\": \"white\", \"startlinecolor\": \"#2a3f5f\"}, \"baxis\": {\"endlinecolor\": \"#2a3f5f\", \"gridcolor\": \"white\", \"linecolor\": \"white\", \"minorgridcolor\": \"white\", \"startlinecolor\": \"#2a3f5f\"}, \"type\": \"carpet\"}], \"choropleth\": [{\"colorbar\": {\"outlinewidth\": 0, \"ticks\": \"\"}, \"type\": \"choropleth\"}], \"contour\": [{\"colorbar\": {\"outlinewidth\": 0, \"ticks\": \"\"}, \"colorscale\": [[0.0, \"#0d0887\"], [0.1111111111111111, \"#46039f\"], [0.2222222222222222, \"#7201a8\"], [0.3333333333333333, \"#9c179e\"], [0.4444444444444444, \"#bd3786\"], [0.5555555555555556, \"#d8576b\"], [0.6666666666666666, \"#ed7953\"], [0.7777777777777778, \"#fb9f3a\"], [0.8888888888888888, \"#fdca26\"], [1.0, \"#f0f921\"]], \"type\": \"contour\"}], \"contourcarpet\": [{\"colorbar\": {\"outlinewidth\": 0, \"ticks\": \"\"}, \"type\": \"contourcarpet\"}], \"heatmap\": [{\"colorbar\": {\"outlinewidth\": 0, \"ticks\": \"\"}, \"colorscale\": [[0.0, \"#0d0887\"], [0.1111111111111111, \"#46039f\"], [0.2222222222222222, \"#7201a8\"], [0.3333333333333333, \"#9c179e\"], [0.4444444444444444, \"#bd3786\"], [0.5555555555555556, \"#d8576b\"], [0.6666666666666666, \"#ed7953\"], [0.7777777777777778, \"#fb9f3a\"], [0.8888888888888888, \"#fdca26\"], [1.0, \"#f0f921\"]], \"type\": \"heatmap\"}], \"heatmapgl\": [{\"colorbar\": {\"outlinewidth\": 0, \"ticks\": \"\"}, \"colorscale\": [[0.0, \"#0d0887\"], [0.1111111111111111, \"#46039f\"], [0.2222222222222222, \"#7201a8\"], [0.3333333333333333, \"#9c179e\"], [0.4444444444444444, \"#bd3786\"], [0.5555555555555556, \"#d8576b\"], [0.6666666666666666, \"#ed7953\"], [0.7777777777777778, \"#fb9f3a\"], [0.8888888888888888, \"#fdca26\"], [1.0, \"#f0f921\"]], \"type\": \"heatmapgl\"}], \"histogram\": [{\"marker\": {\"colorbar\": {\"outlinewidth\": 0, \"ticks\": \"\"}}, \"type\": \"histogram\"}], \"histogram2d\": [{\"colorbar\": {\"outlinewidth\": 0, \"ticks\": \"\"}, \"colorscale\": [[0.0, \"#0d0887\"], [0.1111111111111111, \"#46039f\"], [0.2222222222222222, \"#7201a8\"], [0.3333333333333333, \"#9c179e\"], [0.4444444444444444, \"#bd3786\"], [0.5555555555555556, \"#d8576b\"], [0.6666666666666666, \"#ed7953\"], [0.7777777777777778, \"#fb9f3a\"], [0.8888888888888888, \"#fdca26\"], [1.0, \"#f0f921\"]], \"type\": \"histogram2d\"}], \"histogram2dcontour\": [{\"colorbar\": {\"outlinewidth\": 0, \"ticks\": \"\"}, \"colorscale\": [[0.0, \"#0d0887\"], [0.1111111111111111, \"#46039f\"], [0.2222222222222222, \"#7201a8\"], [0.3333333333333333, \"#9c179e\"], [0.4444444444444444, \"#bd3786\"], [0.5555555555555556, \"#d8576b\"], [0.6666666666666666, \"#ed7953\"], [0.7777777777777778, \"#fb9f3a\"], [0.8888888888888888, \"#fdca26\"], [1.0, \"#f0f921\"]], \"type\": \"histogram2dcontour\"}], \"mesh3d\": [{\"colorbar\": {\"outlinewidth\": 0, \"ticks\": \"\"}, \"type\": \"mesh3d\"}], \"parcoords\": [{\"line\": {\"colorbar\": {\"outlinewidth\": 0, \"ticks\": \"\"}}, \"type\": \"parcoords\"}], \"pie\": [{\"automargin\": true, \"type\": \"pie\"}], \"scatter\": [{\"marker\": {\"colorbar\": {\"outlinewidth\": 0, \"ticks\": \"\"}}, \"type\": \"scatter\"}], \"scatter3d\": [{\"line\": {\"colorbar\": {\"outlinewidth\": 0, \"ticks\": \"\"}}, \"marker\": {\"colorbar\": {\"outlinewidth\": 0, \"ticks\": \"\"}}, \"type\": \"scatter3d\"}], \"scattercarpet\": [{\"marker\": {\"colorbar\": {\"outlinewidth\": 0, \"ticks\": \"\"}}, \"type\": \"scattercarpet\"}], \"scattergeo\": [{\"marker\": {\"colorbar\": {\"outlinewidth\": 0, \"ticks\": \"\"}}, \"type\": \"scattergeo\"}], \"scattergl\": [{\"marker\": {\"colorbar\": {\"outlinewidth\": 0, \"ticks\": \"\"}}, \"type\": \"scattergl\"}], \"scattermapbox\": [{\"marker\": {\"colorbar\": {\"outlinewidth\": 0, \"ticks\": \"\"}}, \"type\": \"scattermapbox\"}], \"scatterpolar\": [{\"marker\": {\"colorbar\": {\"outlinewidth\": 0, \"ticks\": \"\"}}, \"type\": \"scatterpolar\"}], \"scatterpolargl\": [{\"marker\": {\"colorbar\": {\"outlinewidth\": 0, \"ticks\": \"\"}}, \"type\": \"scatterpolargl\"}], \"scatterternary\": [{\"marker\": {\"colorbar\": {\"outlinewidth\": 0, \"ticks\": \"\"}}, \"type\": \"scatterternary\"}], \"surface\": [{\"colorbar\": {\"outlinewidth\": 0, \"ticks\": \"\"}, \"colorscale\": [[0.0, \"#0d0887\"], [0.1111111111111111, \"#46039f\"], [0.2222222222222222, \"#7201a8\"], [0.3333333333333333, \"#9c179e\"], [0.4444444444444444, \"#bd3786\"], [0.5555555555555556, \"#d8576b\"], [0.6666666666666666, \"#ed7953\"], [0.7777777777777778, \"#fb9f3a\"], [0.8888888888888888, \"#fdca26\"], [1.0, \"#f0f921\"]], \"type\": \"surface\"}], \"table\": [{\"cells\": {\"fill\": {\"color\": \"#EBF0F8\"}, \"line\": {\"color\": \"white\"}}, \"header\": {\"fill\": {\"color\": \"#C8D4E3\"}, \"line\": {\"color\": \"white\"}}, \"type\": \"table\"}]}, \"layout\": {\"annotationdefaults\": {\"arrowcolor\": \"#2a3f5f\", \"arrowhead\": 0, \"arrowwidth\": 1}, \"coloraxis\": {\"colorbar\": {\"outlinewidth\": 0, \"ticks\": \"\"}}, \"colorscale\": {\"diverging\": [[0, \"#8e0152\"], [0.1, \"#c51b7d\"], [0.2, \"#de77ae\"], [0.3, \"#f1b6da\"], [0.4, \"#fde0ef\"], [0.5, \"#f7f7f7\"], [0.6, \"#e6f5d0\"], [0.7, \"#b8e186\"], [0.8, \"#7fbc41\"], [0.9, \"#4d9221\"], [1, \"#276419\"]], \"sequential\": [[0.0, \"#0d0887\"], [0.1111111111111111, \"#46039f\"], [0.2222222222222222, \"#7201a8\"], [0.3333333333333333, \"#9c179e\"], [0.4444444444444444, \"#bd3786\"], [0.5555555555555556, \"#d8576b\"], [0.6666666666666666, \"#ed7953\"], [0.7777777777777778, \"#fb9f3a\"], [0.8888888888888888, \"#fdca26\"], [1.0, \"#f0f921\"]], \"sequentialminus\": [[0.0, \"#0d0887\"], [0.1111111111111111, \"#46039f\"], [0.2222222222222222, \"#7201a8\"], [0.3333333333333333, \"#9c179e\"], [0.4444444444444444, \"#bd3786\"], [0.5555555555555556, \"#d8576b\"], [0.6666666666666666, \"#ed7953\"], [0.7777777777777778, \"#fb9f3a\"], [0.8888888888888888, \"#fdca26\"], [1.0, \"#f0f921\"]]}, \"colorway\": [\"#636efa\", \"#EF553B\", \"#00cc96\", \"#ab63fa\", \"#FFA15A\", \"#19d3f3\", \"#FF6692\", \"#B6E880\", \"#FF97FF\", \"#FECB52\"], \"font\": {\"color\": \"#2a3f5f\"}, \"geo\": {\"bgcolor\": \"white\", \"lakecolor\": \"white\", \"landcolor\": \"#E5ECF6\", \"showlakes\": true, \"showland\": true, \"subunitcolor\": \"white\"}, \"hoverlabel\": {\"align\": \"left\"}, \"hovermode\": \"closest\", \"mapbox\": {\"style\": \"light\"}, \"paper_bgcolor\": \"white\", \"plot_bgcolor\": \"#E5ECF6\", \"polar\": {\"angularaxis\": {\"gridcolor\": \"white\", \"linecolor\": \"white\", \"ticks\": \"\"}, \"bgcolor\": \"#E5ECF6\", \"radialaxis\": {\"gridcolor\": \"white\", \"linecolor\": \"white\", \"ticks\": \"\"}}, \"scene\": {\"xaxis\": {\"backgroundcolor\": \"#E5ECF6\", \"gridcolor\": \"white\", \"gridwidth\": 2, \"linecolor\": \"white\", \"showbackground\": true, \"ticks\": \"\", \"zerolinecolor\": \"white\"}, \"yaxis\": {\"backgroundcolor\": \"#E5ECF6\", \"gridcolor\": \"white\", \"gridwidth\": 2, \"linecolor\": \"white\", \"showbackground\": true, \"ticks\": \"\", \"zerolinecolor\": \"white\"}, \"zaxis\": {\"backgroundcolor\": \"#E5ECF6\", \"gridcolor\": \"white\", \"gridwidth\": 2, \"linecolor\": \"white\", \"showbackground\": true, \"ticks\": \"\", \"zerolinecolor\": \"white\"}}, \"shapedefaults\": {\"line\": {\"color\": \"#2a3f5f\"}}, \"ternary\": {\"aaxis\": {\"gridcolor\": \"white\", \"linecolor\": \"white\", \"ticks\": \"\"}, \"baxis\": {\"gridcolor\": \"white\", \"linecolor\": \"white\", \"ticks\": \"\"}, \"bgcolor\": \"#E5ECF6\", \"caxis\": {\"gridcolor\": \"white\", \"linecolor\": \"white\", \"ticks\": \"\"}}, \"title\": {\"x\": 0.05}, \"xaxis\": {\"automargin\": true, \"gridcolor\": \"white\", \"linecolor\": \"white\", \"ticks\": \"\", \"title\": {\"standoff\": 15}, \"zerolinecolor\": \"white\", \"zerolinewidth\": 2}, \"yaxis\": {\"automargin\": true, \"gridcolor\": \"white\", \"linecolor\": \"white\", \"ticks\": \"\", \"title\": {\"standoff\": 15}, \"zerolinecolor\": \"white\", \"zerolinewidth\": 2}}}, \"xaxis\": {\"anchor\": \"y\", \"domain\": [0.0, 1.0]}, \"yaxis\": {\"anchor\": \"x\", \"domain\": [0.0, 1.0]}},\n",
       "                        {\"responsive\": true}\n",
       "                    ).then(function(){\n",
       "                            \n",
       "var gd = document.getElementById('cc21692f-d687-47aa-81b3-85e314f67c3d');\n",
       "var x = new MutationObserver(function (mutations, observer) {{\n",
       "        var display = window.getComputedStyle(gd).display;\n",
       "        if (!display || display === 'none') {{\n",
       "            console.log([gd, 'removed!']);\n",
       "            Plotly.purge(gd);\n",
       "            observer.disconnect();\n",
       "        }}\n",
       "}});\n",
       "\n",
       "// Listen for the removal of the full notebook cells\n",
       "var notebookContainer = gd.closest('#notebook-container');\n",
       "if (notebookContainer) {{\n",
       "    x.observe(notebookContainer, {childList: true});\n",
       "}}\n",
       "\n",
       "// Listen for the clearing of the current output cell\n",
       "var outputEl = gd.closest('.output');\n",
       "if (outputEl) {{\n",
       "    x.observe(outputEl, {childList: true});\n",
       "}}\n",
       "\n",
       "                        })\n",
       "                };\n",
       "                });\n",
       "            </script>\n",
       "        </div>"
      ]
     },
     "metadata": {},
     "output_type": "display_data"
    }
   ],
   "source": [
    "to_plot = pd.DataFrame({\"y_test\":y_test.values,\n",
    "                        \"y_pred\":list(y_pred.reshape((87,))),\n",
    "                        \"lower\":list(lower),\n",
    "                        \"upper\":list(upper),\n",
    "                        \"upper_20\": list(upper_20),\n",
    "                        \"lower_20\": list(lower_20)})\n",
    "\n",
    "to_plot = to_plot.sort_values(\"y_test\")\n",
    "to_plot = to_plot.reset_index(drop = True)\n",
    "fig = make_subplots(specs=[[{\"secondary_y\": False}]])\n",
    "\n",
    "fig.add_trace(go.Scatter(x=to_plot.index, y=to_plot['y_test'],\n",
    "                         mode='markers',\n",
    "                         name='y_test',marker=dict(color= \"grey\")))\n",
    "\n",
    "fig.add_trace(go.Scatter(x=to_plot.index, y=to_plot['y_pred'],\n",
    "                         mode='markers',\n",
    "                         name='y_pred',\n",
    "                         marker=dict(color= \"orange\")))\n",
    "\n",
    "fig.add_trace(go.Scatter(x=to_plot.index, y=to_plot['lower'],\n",
    "                         mode='lines',\n",
    "                         name='-10% y_test',\n",
    "                         marker=dict(color= \"blue\")))\n",
    "\n",
    "fig.add_trace(go.Scatter(x=to_plot.index, y=to_plot['upper'],\n",
    "                         mode='lines',\n",
    "                         name='+ 10% y_test',\n",
    "                         marker=dict(color= \"blue\")))\n",
    "\n",
    "fig.add_trace(go.Scatter(x=to_plot.index, y=to_plot['lower_20'],\n",
    "                         mode='lines',\n",
    "                         name='-20% y_test',\n",
    "                         marker=dict(color= \"red\")))\n",
    "\n",
    "fig.add_trace(go.Scatter(x=to_plot.index, y=to_plot['upper_20'],\n",
    "                         mode='lines',\n",
    "                         name='+20% y_test',\n",
    "                         marker=dict(color= \"red\")))\n",
    "        \n",
    "#         title = str((i+1)*n_epochs) + \" epochs\"\n",
    "#         fig.update_layout(title=title)\n",
    "        \n",
    "        \n",
    "\n",
    "#         name = title + \".html\"\n",
    "#         plotly.offline.plot(fig, filename=name)\n",
    "\n",
    "fig.show()"
   ]
  },
  {
   "cell_type": "code",
   "execution_count": null,
   "metadata": {},
   "outputs": [],
   "source": []
  }
 ],
 "metadata": {
  "kernelspec": {
   "display_name": "Python 3",
   "language": "python",
   "name": "python3"
  },
  "language_info": {
   "codemirror_mode": {
    "name": "ipython",
    "version": 3
   },
   "file_extension": ".py",
   "mimetype": "text/x-python",
   "name": "python",
   "nbconvert_exporter": "python",
   "pygments_lexer": "ipython3",
   "version": "3.6.9"
  }
 },
 "nbformat": 4,
 "nbformat_minor": 2
}
